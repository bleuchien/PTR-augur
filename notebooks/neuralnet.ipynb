{
 "cells": [
  {
   "cell_type": "markdown",
   "id": "0e465583-fc98-4fda-937a-475748037b12",
   "metadata": {},
   "source": [
    "# Neural Network\n",
    "\n",
    "*fancy introduction*"
   ]
  },
  {
   "cell_type": "code",
   "execution_count": 28,
   "id": "8f12e085-6ce6-41e0-8f1e-1d35b23bf358",
   "metadata": {},
   "outputs": [],
   "source": [
    "# library dependencies\n",
    "import numpy as np\n",
    "from pathlib import Path\n",
    "import matplotlib.pyplot as plt\n",
    "import lzma\n",
    "import pickle\n",
    "from sklearn.model_selection import train_test_split\n",
    "import keras\n",
    "from keras import layers\n",
    "import tensorflow as tf\n",
    "import keras_tuner"
   ]
  },
  {
   "cell_type": "markdown",
   "id": "dff0f512-caac-4cb6-b469-b2bbd23ad3f9",
   "metadata": {},
   "source": [
    "The following methods read the prepared data files from the pre processing step and return the lists."
   ]
  },
  {
   "cell_type": "code",
   "execution_count": 2,
   "id": "c9ecd0a7-8f25-4b5b-bfb0-b5375b32c9ba",
   "metadata": {},
   "outputs": [],
   "source": [
    "# method to store data as serialized binary structure lzma compressed\n",
    "def can_pickles(data, filename):\n",
    "    with lzma.LZMAFile(filename, 'wb') as f:\n",
    "        pickle.dump(data, f, pickle.DEFAULT_PROTOCOL)\n",
    "\n",
    "# method to retrieve data from a compressed pickle file (created with the method above)\n",
    "def uncan_pickles(filename):\n",
    "    with lzma.LZMAFile(filename, 'rb') as f:\n",
    "        return pickle.load(f)"
   ]
  },
  {
   "cell_type": "markdown",
   "id": "c330afba-bf62-4e92-ad84-62921e42d31f",
   "metadata": {},
   "source": [
    "## Basic Neural Network\n",
    "\n",
    "*explain it in more detail*\n",
    "\n",
    "X holds a list of sequences one hot encoded\n",
    "\n",
    "y holds a list of PTR values as floats"
   ]
  },
  {
   "cell_type": "code",
   "execution_count": 3,
   "id": "c3d1d16d-426c-460f-930d-0e91adba9e80",
   "metadata": {},
   "outputs": [],
   "source": [
    "# read the prepared data back\n",
    "X = uncan_pickles('../data/onehot_x_lung.pickle.xz')\n",
    "y = uncan_pickles('../data/onehot_y_lung.pickle.xz')"
   ]
  },
  {
   "cell_type": "code",
   "execution_count": 4,
   "id": "5b2e91af-1782-4909-8191-87442cac791f",
   "metadata": {},
   "outputs": [],
   "source": [
    "# pad add sequence entries to the same length\n",
    "# done here for simplicity to find a good neural network\n",
    "X_padded = tf.keras.preprocessing.sequence.pad_sequences(X, padding=\"post\")"
   ]
  },
  {
   "cell_type": "code",
   "execution_count": 5,
   "id": "a3603897-eca1-41be-a833-79e59f4b5be1",
   "metadata": {},
   "outputs": [],
   "source": [
    "# convert type of target values from string to float\n",
    "y = np.array(y).astype(float)"
   ]
  },
  {
   "cell_type": "markdown",
   "id": "85086f0d-2d79-4ee8-900d-cad1873c1b64",
   "metadata": {},
   "source": [
    "Random sample from X and y."
   ]
  },
  {
   "cell_type": "code",
   "execution_count": 6,
   "id": "41525e09-813f-46b8-9f47-ebbd7381510c",
   "metadata": {},
   "outputs": [
    {
     "data": {
      "text/plain": [
       "array([[1, 0, 0, 0],\n",
       "       [0, 1, 0, 0],\n",
       "       [0, 1, 0, 0],\n",
       "       ...,\n",
       "       [0, 1, 0, 0],\n",
       "       [0, 1, 0, 0],\n",
       "       [0, 1, 0, 0]])"
      ]
     },
     "execution_count": 6,
     "metadata": {},
     "output_type": "execute_result"
    }
   ],
   "source": [
    "X[0]"
   ]
  },
  {
   "cell_type": "code",
   "execution_count": 7,
   "id": "85471826-2b3a-4371-8441-ae940ba8e580",
   "metadata": {},
   "outputs": [
    {
     "data": {
      "text/plain": [
       "7.544"
      ]
     },
     "execution_count": 7,
     "metadata": {},
     "output_type": "execute_result"
    }
   ],
   "source": [
    "y[0]"
   ]
  },
  {
   "cell_type": "code",
   "execution_count": 8,
   "id": "694f3792-6d06-48e0-81af-f689cbb35c21",
   "metadata": {},
   "outputs": [
    {
     "data": {
      "text/plain": [
       "8201"
      ]
     },
     "execution_count": 8,
     "metadata": {},
     "output_type": "execute_result"
    }
   ],
   "source": [
    "# count of input sequences\n",
    "len(X)"
   ]
  },
  {
   "cell_type": "markdown",
   "id": "cab69104-daa6-4989-89aa-2f6a71f34b0b",
   "metadata": {},
   "source": [
    "### Baseline PTR\n",
    "\n",
    "There is no common sense approach in finding a baseline for the protein-to-mRNA ratio of a particular mRNA sequence. This is what the *Basic Neural Network* approach is for - to determin a baseline and see if a slightly adapted neural network with feature engineered input can provide better predictions.\n",
    "\n",
    "But what can be done is to simply check the value range of the target PTRs, calculate mean and standard deviation. Given that the standard deviation is  small (12.5% of the value range) one can (stupidly) predict the mean value every time. From that it's possible to calculate the Mean Absolute Error (MAE) and compare that to the following neural network output."
   ]
  },
  {
   "cell_type": "code",
   "execution_count": 9,
   "id": "3bfa09b2-b288-4618-88a6-7799e1335da9",
   "metadata": {},
   "outputs": [
    {
     "name": "stdout",
     "output_type": "stream",
     "text": [
      "1.552 8.587 4.973957444214121 0.8835629329175175\n"
     ]
    }
   ],
   "source": [
    "# get some idea of the range of the PTR in the selected SAMPLE\n",
    "print(np.min(y), np.max(y), np.mean(y), np.std(y))"
   ]
  },
  {
   "cell_type": "code",
   "execution_count": 10,
   "id": "ac9ba3da-9ab0-43f5-a923-63e94c580a38",
   "metadata": {},
   "outputs": [
    {
     "data": {
      "text/plain": [
       "0.7055145713937325"
      ]
     },
     "execution_count": 10,
     "metadata": {},
     "output_type": "execute_result"
    }
   ],
   "source": [
    "# simple/dumb baseline mean absolute error of always predicting 4.974\n",
    "mae = np.mean(np.abs(np.array(y) - 4.974))\n",
    "mae"
   ]
  },
  {
   "cell_type": "markdown",
   "id": "9d073003-6e5c-498b-b02f-32f415d55d66",
   "metadata": {},
   "source": [
    "### Data Preparation\n",
    "\n",
    "Split data in train and test subsets and then split the train subset again in train and validation.\n",
    "\n",
    "A simple verification if the X and y correlation are preserved on the split is done."
   ]
  },
  {
   "cell_type": "code",
   "execution_count": 11,
   "id": "b11ab59a-ba46-4c89-a02e-2e33bde62cfb",
   "metadata": {},
   "outputs": [],
   "source": [
    "# split in train and test sub sets\n",
    "X_train, X_test, y_train, y_test = train_test_split(X_padded, y, test_size=0.2, random_state=1202)"
   ]
  },
  {
   "cell_type": "code",
   "execution_count": 12,
   "id": "f719d49d-470d-4492-b45b-a3359d711fe0",
   "metadata": {},
   "outputs": [],
   "source": [
    "# split the train set again in train and validation\n",
    "X_train, X_val, y_train, y_val = train_test_split(X_train, y_train, test_size=0.2, random_state=1202)"
   ]
  },
  {
   "cell_type": "code",
   "execution_count": 13,
   "id": "cb4565eb-bf79-4504-bb8c-3aa2448fcc53",
   "metadata": {},
   "outputs": [
    {
     "data": {
      "text/plain": [
       "array([[1, 0, 0, 0],\n",
       "       [0, 0, 0, 1],\n",
       "       [0, 1, 0, 0],\n",
       "       ...,\n",
       "       [0, 0, 0, 0],\n",
       "       [0, 0, 0, 0],\n",
       "       [0, 0, 0, 0]], dtype=int32)"
      ]
     },
     "execution_count": 13,
     "metadata": {},
     "output_type": "execute_result"
    }
   ],
   "source": [
    "# get a sample\n",
    "X_train[1]"
   ]
  },
  {
   "cell_type": "code",
   "execution_count": 14,
   "id": "f9d75b63-7632-476e-9a01-11d4f428ef5a",
   "metadata": {},
   "outputs": [
    {
     "data": {
      "text/plain": [
       "4.901"
      ]
     },
     "execution_count": 14,
     "metadata": {},
     "output_type": "execute_result"
    }
   ],
   "source": [
    "# get the matching target\n",
    "y_train[1]"
   ]
  },
  {
   "cell_type": "code",
   "execution_count": 15,
   "id": "afd20cd1-1386-4e36-a94f-9209edb96cfc",
   "metadata": {},
   "outputs": [
    {
     "name": "stdout",
     "output_type": "stream",
     "text": [
      "6663\n"
     ]
    }
   ],
   "source": [
    "# find the target value in the raw dataset\n",
    "for i in range(len(y)):\n",
    "    if y[i] == 3.746:\n",
    "        print(i)"
   ]
  },
  {
   "cell_type": "code",
   "execution_count": 16,
   "id": "8cded98c-538f-4195-9380-bd739a150c06",
   "metadata": {},
   "outputs": [
    {
     "name": "stdout",
     "output_type": "stream",
     "text": [
      "OK\n"
     ]
    }
   ],
   "source": [
    "# compare if the raw dataset entry matches the subset entry\n",
    "if X_padded[6663].all() == X_train[1].all():\n",
    "    print('OK')"
   ]
  },
  {
   "cell_type": "markdown",
   "id": "d3de67ac-0026-42a6-b09b-f1fd60a0d74c",
   "metadata": {},
   "source": [
    "### Model Building"
   ]
  },
  {
   "cell_type": "code",
   "execution_count": 17,
   "id": "6d0555c3-6e36-41eb-bb88-652a14aa79cd",
   "metadata": {},
   "outputs": [],
   "source": [
    "def zrimec_model():\n",
    "    inputs = layers.Input(shape=(7999, 4))\n",
    "\n",
    "    conv1 = layers.Conv1D(\n",
    "        filters=32,\n",
    "        kernel_size=10,\n",
    "        strides=1,\n",
    "        activation='relu',\n",
    "        padding='valid'\n",
    "    )(inputs)\n",
    "    norm1 = layers.BatchNormalization()(conv1)\n",
    "    drop1 = layers.Dropout(\n",
    "        rate=0.1\n",
    "    )(norm1)\n",
    "    pool1 = layers.MaxPooling1D(\n",
    "        pool_size=4,\n",
    "        strides=4\n",
    "    )(drop1)\n",
    "    conv2 = layers.Conv1D(\n",
    "        filters=64,\n",
    "        kernel_size=10,\n",
    "        strides=1,\n",
    "        activation='relu',\n",
    "        padding='valid'\n",
    "    )(pool1)\n",
    "    norm2 = layers.BatchNormalization()(conv2)\n",
    "    drop2 = layers.Dropout(\n",
    "        rate=0.1\n",
    "    )(norm2)\n",
    "    pool2 = layers.MaxPooling1D(\n",
    "        pool_size=4,\n",
    "        strides=4\n",
    "    )(drop2)\n",
    "    conv3 = layers.Conv1D(\n",
    "        filters=128,\n",
    "        kernel_size=10,\n",
    "        strides=1,\n",
    "        activation='relu',\n",
    "        padding='valid'\n",
    "    )(pool2)\n",
    "    norm3 = layers.BatchNormalization()(conv3)\n",
    "    drop3 = layers.Dropout(\n",
    "        rate=0.1\n",
    "    )(norm3)\n",
    "    pool3 = layers.MaxPooling1D(\n",
    "        pool_size=4,\n",
    "        strides=4\n",
    "    )(drop3)\n",
    "    flat = layers.Flatten()(pool3)\n",
    "    dense = layers.Dense(\n",
    "        units=64,\n",
    "        activation='relu'\n",
    "    )(flat)\n",
    "    norm4 = layers.BatchNormalization()(flat)\n",
    "    drop4 = layers.Dropout(\n",
    "        rate=0.1\n",
    "    )(norm4)\n",
    "    outputs = layers.Dense(\n",
    "        units=1\n",
    "    )(drop4)\n",
    "\n",
    "    model = keras.Model(inputs=inputs, outputs=outputs, name='ZrimecModel')\n",
    "    return model"
   ]
  },
  {
   "cell_type": "code",
   "execution_count": 18,
   "id": "2cb6ecde-954a-47a9-a7ad-ee9bfa13a91a",
   "metadata": {},
   "outputs": [],
   "source": [
    "def danq_model():\n",
    "    inputs = layers.Input(shape=(7999, 4))\n",
    "\n",
    "    conv = layers.Conv1D(\n",
    "        filters=320,\n",
    "        kernel_size=26,\n",
    "        padding='valid',\n",
    "        activation='relu'\n",
    "    )(inputs)\n",
    "    pool = layers.MaxPooling1D(\n",
    "        pool_size=13,\n",
    "        strides=13\n",
    "    )(conv)\n",
    "    drop1 = layers.Dropout(\n",
    "        rate=0.2\n",
    "    )(pool)\n",
    "\n",
    "    forward_layer = layers.LSTM(units=320, return_sequences=True)\n",
    "    backward_layer = layers.LSTM(units=320, return_sequences=True, go_backwards=True)\n",
    "    bilstm = layers.Bidirectional(\n",
    "        forward_layer, backward_layer=backward_layer\n",
    "    )(drop1)\n",
    "    drop2 = layers.Dropout(\n",
    "        rate=0.2\n",
    "    )(bilstm)\n",
    "    flat = layers.Flatten()(drop2)\n",
    "    dense1 = layers.Dense(\n",
    "        units=925,\n",
    "        activation='relu'\n",
    "    )(flat)\n",
    "    outputs = layers.Dense(\n",
    "        units=1\n",
    "    )(dense1)\n",
    "    \n",
    "    # model\n",
    "    model = keras.Model(inputs=inputs, outputs=outputs, name='DanQModel')\n",
    "    \n",
    "    return model"
   ]
  },
  {
   "cell_type": "code",
   "execution_count": 19,
   "id": "a1cbe2d2-38ec-49cb-8158-cd5a99b1a45e",
   "metadata": {},
   "outputs": [],
   "source": [
    "def danq_refined_model():\n",
    "    inputs = layers.Input(shape=(7999, 4))\n",
    "\n",
    "    conv = layers.Conv1D(\n",
    "        filters=64,\n",
    "        kernel_size=3,\n",
    "        padding='valid',\n",
    "        activation='relu'\n",
    "    )(inputs)\n",
    "    pool = layers.MaxPooling1D(\n",
    "        pool_size=4,\n",
    "        strides=4\n",
    "    )(conv)\n",
    "    norm = layers.BatchNormalization()(pool)\n",
    "    # drop1 = layers.Dropout(\n",
    "    #     rate=0.2\n",
    "    # )(pool)\n",
    "\n",
    "    bilstm = layers.Bidirectional(\n",
    "        layers.LSTM(units=64, return_sequences=True, recurrent_dropout=0.25),\n",
    "        # merge_mode='mul'\n",
    "    )(norm)\n",
    "    drop2 = layers.Dropout(\n",
    "        rate=0.5\n",
    "    )(bilstm)\n",
    "    flat = layers.Flatten()(drop2)\n",
    "    dense1 = layers.Dense(\n",
    "        units=64,\n",
    "        activation='relu'\n",
    "    )(flat)\n",
    "    outputs = layers.Dense(\n",
    "        units=1\n",
    "    )(dense1)\n",
    "    \n",
    "    # model\n",
    "    model = keras.Model(inputs=inputs, outputs=outputs, name='DanQRefModel')\n",
    "    \n",
    "    return model"
   ]
  },
  {
   "cell_type": "code",
   "execution_count": 29,
   "id": "1a4c5168-f720-48b4-b777-01067098205e",
   "metadata": {},
   "outputs": [],
   "source": [
    "def dan_zrimec_model():\n",
    "    # input\n",
    "    # setting fixed shape since the sequences are padded to the max length (threshold of preproc2)\n",
    "    inputs = layers.Input(shape=(7999, 4))\n",
    "    # 1D convolution\n",
    "    conv = layers.Conv1D(\n",
    "        filters=320, \n",
    "        kernel_size=26, \n",
    "        strides=1, \n",
    "        activation='relu'\n",
    "    )(inputs)\n",
    "    # batch normalization\n",
    "    norm = layers.BatchNormalization()(conv)\n",
    "    # maxpool\n",
    "    pool = layers.MaxPooling1D(\n",
    "        pool_size=13,\n",
    "        strides=13\n",
    "    )(norm)\n",
    "    # dropout\n",
    "    drop = layers.Dropout(rate=0.1)(pool)\n",
    "    # bi-directional LSTM\n",
    "    bilstm = layers.Bidirectional(\n",
    "        layers.LSTM(\n",
    "            units=320, \n",
    "            dropout=0,\n",
    "            return_sequences=True,\n",
    "        ),\n",
    "        merge_mode='mul',\n",
    "        # input_shape=(8000, 4),\n",
    "    )(drop)\n",
    "    # maxpool\n",
    "    pool = layers.MaxPooling1D(\n",
    "        pool_size=13,\n",
    "        strides=13,\n",
    "    )(bilstm)\n",
    "    drop = layers.Dropout(rate=0.1)(pool)\n",
    "    # flatten\n",
    "    flat = layers.Flatten()(drop)\n",
    "    # fully connected\n",
    "    dense = layers.Dense(\n",
    "        units=64,\n",
    "        activation='relu',\n",
    "    )(flat)\n",
    "    # batch normalization\n",
    "    norm = layers.BatchNormalization()(dense)\n",
    "    # dropout\n",
    "    drop = layers.Dropout(rate=0.1)(norm)\n",
    "    # dense\n",
    "    outputs = layers.Dense(units=1)(drop)\n",
    "\n",
    "    # model\n",
    "    model = keras.Model(inputs=inputs, outputs=outputs, name='BaselineModel')\n",
    "    \n",
    "    return model"
   ]
  },
  {
   "cell_type": "code",
   "execution_count": 21,
   "id": "d468d333-3246-419a-95cd-4eb520fa40ff",
   "metadata": {},
   "outputs": [],
   "source": [
    "def augur_model():\n",
    "    inputs = layers.Input(shape=(7999, 4))\n",
    "    conv = layers.Conv1D(\n",
    "        filters=64,\n",
    "        kernel_size=3,\n",
    "        padding='valid',\n",
    "        activation='relu'\n",
    "    )(inputs)\n",
    "    bilstm = layers.Bidirectional(layers.LSTM(units=64, recurrent_dropout=0.25))(conv)\n",
    "    drop1 = layers.Dropout(rate=0.2)(bilstm)\n",
    "    outputs = layers.Dense(units=1)(drop1)\n",
    "    \n",
    "    # model\n",
    "    model = keras.Model(inputs=inputs, outputs=outputs, name='AugurModel')\n",
    "    \n",
    "    return model"
   ]
  },
  {
   "cell_type": "code",
   "execution_count": 31,
   "id": "99d46776-4a76-4870-aa3f-565606a6ba7f",
   "metadata": {},
   "outputs": [],
   "source": [
    "def plot_loss(hist, start_epoch=1):\n",
    "    history_dict = hist.history\n",
    "    loss_values = history_dict[\"loss\"][start_epoch-1:]\n",
    "    val_loss_values = history_dict[\"val_loss\"][start_epoch-1:]\n",
    "    epochs = range(start_epoch, len(history_dict[\"loss\"]) + 1)\n",
    "    plt.plot(epochs, loss_values, \"bo\", label=\"Training loss\")\n",
    "    plt.plot(epochs, val_loss_values, \"b\", label=\"Validation loss\")\n",
    "    plt.title(\"Training and validation loss\")\n",
    "    plt.xlabel(\"Epochs\")\n",
    "    plt.ylabel(\"Loss\")\n",
    "    plt.legend()\n",
    "    plt.show()"
   ]
  },
  {
   "cell_type": "code",
   "execution_count": 24,
   "id": "06eed410-4510-4756-9c54-b72d2a88b654",
   "metadata": {},
   "outputs": [],
   "source": [
    "def model_test(model, epochs=5, plot_epoch_start=1):\n",
    "    model.summary()\n",
    "    \n",
    "    model.compile(\n",
    "        loss=keras.losses.MeanSquaredError(),\n",
    "        # optimizer=keras.optimizers.Adam(learning_rate=0.1, beta_1=0.999, beta_2=0.99, epsilon=1e-6),\n",
    "        optimizer=keras.optimizers.Adam(),\n",
    "        metrics=[keras.metrics.MeanAbsolutePercentageError(), keras.metrics.RootMeanSquaredError(), keras.metrics.MeanSquaredError(), keras.metrics.MeanAbsoluteError()],\n",
    "    )\n",
    "    \n",
    "    history = model.fit(\n",
    "        X_train, \n",
    "        y_train, \n",
    "        batch_size=64, \n",
    "        epochs=epochs, \n",
    "        validation_data=(X_val, y_val), \n",
    "        # callbacks=callbacks\n",
    "    )\n",
    "    \n",
    "    y_pred = model.predict(X_test)\n",
    "    print('Random prediction sample (truth, prediction):', y_test[0], y_pred[0])\n",
    "    \n",
    "    plot_loss(history, plot_epoch_start)"
   ]
  },
  {
   "cell_type": "markdown",
   "id": "0ce9caac-ddde-49e3-8cbf-678939080350",
   "metadata": {},
   "source": [
    "### Preliminary Model Testing"
   ]
  },
  {
   "cell_type": "code",
   "execution_count": 26,
   "id": "362f55a9-a90d-4979-87b8-13399dd499b8",
   "metadata": {},
   "outputs": [
    {
     "name": "stdout",
     "output_type": "stream",
     "text": [
      "Model: \"ZrimecModel\"\n",
      "_________________________________________________________________\n",
      " Layer (type)                Output Shape              Param #   \n",
      "=================================================================\n",
      " input_2 (InputLayer)        [(None, 7999, 4)]         0         \n",
      "                                                                 \n",
      " conv1d_3 (Conv1D)           (None, 7990, 32)          1312      \n",
      "                                                                 \n",
      " batch_normalization_4 (Bat  (None, 7990, 32)          128       \n",
      " chNormalization)                                                \n",
      "                                                                 \n",
      " dropout_4 (Dropout)         (None, 7990, 32)          0         \n",
      "                                                                 \n",
      " max_pooling1d_3 (MaxPoolin  (None, 1997, 32)          0         \n",
      " g1D)                                                            \n",
      "                                                                 \n",
      " conv1d_4 (Conv1D)           (None, 1988, 64)          20544     \n",
      "                                                                 \n",
      " batch_normalization_5 (Bat  (None, 1988, 64)          256       \n",
      " chNormalization)                                                \n",
      "                                                                 \n",
      " dropout_5 (Dropout)         (None, 1988, 64)          0         \n",
      "                                                                 \n",
      " max_pooling1d_4 (MaxPoolin  (None, 497, 64)           0         \n",
      " g1D)                                                            \n",
      "                                                                 \n",
      " conv1d_5 (Conv1D)           (None, 488, 128)          82048     \n",
      "                                                                 \n",
      " batch_normalization_6 (Bat  (None, 488, 128)          512       \n",
      " chNormalization)                                                \n",
      "                                                                 \n",
      " dropout_6 (Dropout)         (None, 488, 128)          0         \n",
      "                                                                 \n",
      " max_pooling1d_5 (MaxPoolin  (None, 122, 128)          0         \n",
      " g1D)                                                            \n",
      "                                                                 \n",
      " flatten_1 (Flatten)         (None, 15616)             0         \n",
      "                                                                 \n",
      " batch_normalization_7 (Bat  (None, 15616)             62464     \n",
      " chNormalization)                                                \n",
      "                                                                 \n",
      " dropout_7 (Dropout)         (None, 15616)             0         \n",
      "                                                                 \n",
      " dense_3 (Dense)             (None, 1)                 15617     \n",
      "                                                                 \n",
      "=================================================================\n",
      "Total params: 182881 (714.38 KB)\n",
      "Trainable params: 151201 (590.63 KB)\n",
      "Non-trainable params: 31680 (123.75 KB)\n",
      "_________________________________________________________________\n",
      "Epoch 1/10\n",
      "82/82 [==============================] - 11s 126ms/step - loss: 6.7245 - mean_absolute_percentage_error: 38.8590 - root_mean_squared_error: 2.5932 - mean_squared_error: 6.7245 - mean_absolute_error: 1.8885 - val_loss: 2.4048 - val_mean_absolute_percentage_error: 24.5213 - val_root_mean_squared_error: 1.5507 - val_mean_squared_error: 2.4048 - val_mean_absolute_error: 1.2339\n",
      "Epoch 2/10\n",
      "82/82 [==============================] - 10s 124ms/step - loss: 2.0243 - mean_absolute_percentage_error: 23.9996 - root_mean_squared_error: 1.4228 - mean_squared_error: 2.0243 - mean_absolute_error: 1.1204 - val_loss: 11.5932 - val_mean_absolute_percentage_error: 63.6532 - val_root_mean_squared_error: 3.4049 - val_mean_squared_error: 11.5932 - val_mean_absolute_error: 3.2128\n",
      "Epoch 3/10\n",
      "82/82 [==============================] - 10s 124ms/step - loss: 2.0063 - mean_absolute_percentage_error: 23.6439 - root_mean_squared_error: 1.4164 - mean_squared_error: 2.0063 - mean_absolute_error: 1.1035 - val_loss: 8.7253 - val_mean_absolute_percentage_error: 53.9340 - val_root_mean_squared_error: 2.9539 - val_mean_squared_error: 8.7253 - val_mean_absolute_error: 2.7418\n",
      "Epoch 4/10\n",
      "82/82 [==============================] - 10s 124ms/step - loss: 1.8795 - mean_absolute_percentage_error: 23.1492 - root_mean_squared_error: 1.3709 - mean_squared_error: 1.8795 - mean_absolute_error: 1.0806 - val_loss: 7.7105 - val_mean_absolute_percentage_error: 47.9141 - val_root_mean_squared_error: 2.7768 - val_mean_squared_error: 7.7105 - val_mean_absolute_error: 2.4247\n",
      "Epoch 5/10\n",
      "82/82 [==============================] - 10s 125ms/step - loss: 1.9901 - mean_absolute_percentage_error: 23.5649 - root_mean_squared_error: 1.4107 - mean_squared_error: 1.9901 - mean_absolute_error: 1.0972 - val_loss: 9.6186 - val_mean_absolute_percentage_error: 58.3060 - val_root_mean_squared_error: 3.1014 - val_mean_squared_error: 9.6186 - val_mean_absolute_error: 2.9571\n",
      "Epoch 6/10\n",
      "82/82 [==============================] - 10s 125ms/step - loss: 1.6649 - mean_absolute_percentage_error: 21.7252 - root_mean_squared_error: 1.2903 - mean_squared_error: 1.6649 - mean_absolute_error: 1.0105 - val_loss: 2.0173 - val_mean_absolute_percentage_error: 22.4830 - val_root_mean_squared_error: 1.4203 - val_mean_squared_error: 2.0173 - val_mean_absolute_error: 1.1437\n",
      "Epoch 7/10\n",
      "82/82 [==============================] - 10s 125ms/step - loss: 1.6182 - mean_absolute_percentage_error: 21.4323 - root_mean_squared_error: 1.2721 - mean_squared_error: 1.6182 - mean_absolute_error: 1.0003 - val_loss: 1.1082 - val_mean_absolute_percentage_error: 17.9619 - val_root_mean_squared_error: 1.0527 - val_mean_squared_error: 1.1082 - val_mean_absolute_error: 0.8497\n",
      "Epoch 8/10\n",
      "82/82 [==============================] - 10s 124ms/step - loss: 1.5205 - mean_absolute_percentage_error: 20.7173 - root_mean_squared_error: 1.2331 - mean_squared_error: 1.5205 - mean_absolute_error: 0.9592 - val_loss: 1.6072 - val_mean_absolute_percentage_error: 20.9274 - val_root_mean_squared_error: 1.2678 - val_mean_squared_error: 1.6072 - val_mean_absolute_error: 1.0399\n",
      "Epoch 9/10\n",
      "82/82 [==============================] - 10s 125ms/step - loss: 1.3630 - mean_absolute_percentage_error: 19.8305 - root_mean_squared_error: 1.1675 - mean_squared_error: 1.3630 - mean_absolute_error: 0.9205 - val_loss: 3.3134 - val_mean_absolute_percentage_error: 29.4138 - val_root_mean_squared_error: 1.8203 - val_mean_squared_error: 3.3134 - val_mean_absolute_error: 1.5344\n",
      "Epoch 10/10\n",
      "82/82 [==============================] - 10s 124ms/step - loss: 1.7947 - mean_absolute_percentage_error: 22.1450 - root_mean_squared_error: 1.3396 - mean_squared_error: 1.7947 - mean_absolute_error: 1.0349 - val_loss: 2.7786 - val_mean_absolute_percentage_error: 26.7859 - val_root_mean_squared_error: 1.6669 - val_mean_squared_error: 2.7786 - val_mean_absolute_error: 1.3556\n",
      "52/52 [==============================] - 0s 8ms/step\n",
      "Random prediction sample (truth, prediction): 4.92 [3.9310005]\n"
     ]
    },
    {
     "data": {
      "image/png": "[encoded data removed]",
      "text/plain": [
       "<Figure size 640x480 with 1 Axes>"
      ]
     },
     "metadata": {},
     "output_type": "display_data"
    }
   ],
   "source": [
    "model_test(zrimec_model(), 10)"
   ]
  },
  {
   "cell_type": "code",
   "execution_count": 32,
   "id": "c2632714-9505-4512-bebb-372f3d49366d",
   "metadata": {},
   "outputs": [
    {
     "name": "stdout",
     "output_type": "stream",
     "text": [
      "Model: \"DanQModel\"\n",
      "_________________________________________________________________\n",
      " Layer (type)                Output Shape              Param #   \n",
      "=================================================================\n",
      " input_5 (InputLayer)        [(None, 7999, 4)]         0         \n",
      "                                                                 \n",
      " conv1d_8 (Conv1D)           (None, 7974, 320)         33600     \n",
      "                                                                 \n",
      " max_pooling1d_8 (MaxPoolin  (None, 613, 320)          0         \n",
      " g1D)                                                            \n",
      "                                                                 \n",
      " dropout_12 (Dropout)        (None, 613, 320)          0         \n",
      "                                                                 \n",
      " bidirectional_2 (Bidirecti  (None, 613, 640)          1640960   \n",
      " onal)                                                           \n",
      "                                                                 \n",
      " dropout_13 (Dropout)        (None, 613, 640)          0         \n",
      "                                                                 \n",
      " flatten_4 (Flatten)         (None, 392320)            0         \n",
      "                                                                 \n",
      " dense_8 (Dense)             (None, 925)               362896925 \n",
      "                                                                 \n",
      " dense_9 (Dense)             (None, 1)                 926       \n",
      "                                                                 \n",
      "=================================================================\n",
      "Total params: 364572411 (1.36 GB)\n",
      "Trainable params: 364572411 (1.36 GB)\n",
      "Non-trainable params: 0 (0.00 Byte)\n",
      "_________________________________________________________________\n",
      "Epoch 1/10\n",
      "82/82 [==============================] - 159s 2s/step - loss: 556.0331 - mean_absolute_percentage_error: 98.6625 - root_mean_squared_error: 23.5804 - mean_squared_error: 556.0331 - mean_absolute_error: 4.7798 - val_loss: 1.1255 - val_mean_absolute_percentage_error: 17.9379 - val_root_mean_squared_error: 1.0609 - val_mean_squared_error: 1.1255 - val_mean_absolute_error: 0.8237\n",
      "Epoch 2/10\n",
      "82/82 [==============================] - 153s 2s/step - loss: 1.0056 - mean_absolute_percentage_error: 17.1415 - root_mean_squared_error: 1.0028 - mean_squared_error: 1.0056 - mean_absolute_error: 0.7836 - val_loss: 0.8724 - val_mean_absolute_percentage_error: 16.7483 - val_root_mean_squared_error: 0.9340 - val_mean_squared_error: 0.8724 - val_mean_absolute_error: 0.7318\n",
      "Epoch 3/10\n",
      "82/82 [==============================] - 153s 2s/step - loss: 0.8530 - mean_absolute_percentage_error: 16.1777 - root_mean_squared_error: 0.9236 - mean_squared_error: 0.8530 - mean_absolute_error: 0.7276 - val_loss: 0.7957 - val_mean_absolute_percentage_error: 15.6714 - val_root_mean_squared_error: 0.8920 - val_mean_squared_error: 0.7957 - val_mean_absolute_error: 0.7282\n",
      "Epoch 4/10\n",
      "82/82 [==============================] - 152s 2s/step - loss: 0.8125 - mean_absolute_percentage_error: 15.8496 - root_mean_squared_error: 0.9014 - mean_squared_error: 0.8125 - mean_absolute_error: 0.7134 - val_loss: 0.7620 - val_mean_absolute_percentage_error: 15.7712 - val_root_mean_squared_error: 0.8729 - val_mean_squared_error: 0.7620 - val_mean_absolute_error: 0.6940\n",
      "Epoch 5/10\n",
      "82/82 [==============================] - 153s 2s/step - loss: 0.7802 - mean_absolute_percentage_error: 15.6106 - root_mean_squared_error: 0.8833 - mean_squared_error: 0.7802 - mean_absolute_error: 0.6995 - val_loss: 0.7510 - val_mean_absolute_percentage_error: 15.7013 - val_root_mean_squared_error: 0.8666 - val_mean_squared_error: 0.7510 - val_mean_absolute_error: 0.6902\n",
      "Epoch 6/10\n",
      "82/82 [==============================] - 152s 2s/step - loss: 0.7737 - mean_absolute_percentage_error: 15.5546 - root_mean_squared_error: 0.8796 - mean_squared_error: 0.7737 - mean_absolute_error: 0.6976 - val_loss: 0.7447 - val_mean_absolute_percentage_error: 15.6246 - val_root_mean_squared_error: 0.8629 - val_mean_squared_error: 0.7447 - val_mean_absolute_error: 0.6893\n",
      "Epoch 7/10\n",
      "82/82 [==============================] - 153s 2s/step - loss: 0.7649 - mean_absolute_percentage_error: 15.4808 - root_mean_squared_error: 0.8746 - mean_squared_error: 0.7649 - mean_absolute_error: 0.6933 - val_loss: 0.7442 - val_mean_absolute_percentage_error: 15.6471 - val_root_mean_squared_error: 0.8627 - val_mean_squared_error: 0.7442 - val_mean_absolute_error: 0.6879\n",
      "Epoch 8/10\n",
      "82/82 [==============================] - 153s 2s/step - loss: 0.7634 - mean_absolute_percentage_error: 15.4631 - root_mean_squared_error: 0.8738 - mean_squared_error: 0.7634 - mean_absolute_error: 0.6926 - val_loss: 0.7290 - val_mean_absolute_percentage_error: 15.2288 - val_root_mean_squared_error: 0.8538 - val_mean_squared_error: 0.7290 - val_mean_absolute_error: 0.6927\n",
      "Epoch 9/10\n",
      "82/82 [==============================] - 153s 2s/step - loss: 0.7491 - mean_absolute_percentage_error: 15.3194 - root_mean_squared_error: 0.8655 - mean_squared_error: 0.7491 - mean_absolute_error: 0.6863 - val_loss: 0.7365 - val_mean_absolute_percentage_error: 15.5284 - val_root_mean_squared_error: 0.8582 - val_mean_squared_error: 0.7365 - val_mean_absolute_error: 0.6814\n",
      "Epoch 10/10\n",
      "82/82 [==============================] - 153s 2s/step - loss: 0.7523 - mean_absolute_percentage_error: 15.3540 - root_mean_squared_error: 0.8673 - mean_squared_error: 0.7523 - mean_absolute_error: 0.6892 - val_loss: 0.7264 - val_mean_absolute_percentage_error: 15.2263 - val_root_mean_squared_error: 0.8523 - val_mean_squared_error: 0.7264 - val_mean_absolute_error: 0.6893\n",
      "52/52 [==============================] - 14s 267ms/step\n",
      "Random prediction sample (truth, prediction): 4.92 [4.7799735]\n"
     ]
    },
    {
     "data": {
      "image/png": "[encoded data removed]",
      "text/plain": [
       "<Figure size 640x480 with 1 Axes>"
      ]
     },
     "metadata": {},
     "output_type": "display_data"
    }
   ],
   "source": [
    "model_test(danq_model(), 10, 2)"
   ]
  },
  {
   "cell_type": "code",
   "execution_count": 33,
   "id": "1a7f55e6-bf26-4172-be44-1159ba096400",
   "metadata": {},
   "outputs": [
    {
     "name": "stdout",
     "output_type": "stream",
     "text": [
      "Model: \"DanQRefModel\"\n",
      "_________________________________________________________________\n",
      " Layer (type)                Output Shape              Param #   \n",
      "=================================================================\n",
      " input_6 (InputLayer)        [(None, 7999, 4)]         0         \n",
      "                                                                 \n",
      " conv1d_9 (Conv1D)           (None, 7997, 64)          832       \n",
      "                                                                 \n",
      " max_pooling1d_9 (MaxPoolin  (None, 1999, 64)          0         \n",
      " g1D)                                                            \n",
      "                                                                 \n",
      " batch_normalization_8 (Bat  (None, 1999, 64)          256       \n",
      " chNormalization)                                                \n",
      "                                                                 \n",
      " bidirectional_3 (Bidirecti  (None, 1999, 128)         66048     \n",
      " onal)                                                           \n",
      "                                                                 \n",
      " dropout_14 (Dropout)        (None, 1999, 128)         0         \n",
      "                                                                 \n",
      " flatten_5 (Flatten)         (None, 255872)            0         \n",
      "                                                                 \n",
      " dense_10 (Dense)            (None, 64)                16375872  \n",
      "                                                                 \n",
      " dense_11 (Dense)            (None, 1)                 65        \n",
      "                                                                 \n",
      "=================================================================\n",
      "Total params: 16443073 (62.73 MB)\n",
      "Trainable params: 16442945 (62.72 MB)\n",
      "Non-trainable params: 128 (512.00 Byte)\n",
      "_________________________________________________________________\n",
      "Epoch 1/10\n",
      "82/82 [==============================] - 46s 546ms/step - loss: 420.6046 - mean_absolute_percentage_error: 152.2266 - root_mean_squared_error: 20.5086 - mean_squared_error: 420.6046 - mean_absolute_error: 7.4228 - val_loss: 26.3746 - val_mean_absolute_percentage_error: 101.5916 - val_root_mean_squared_error: 5.1356 - val_mean_squared_error: 26.3746 - val_mean_absolute_error: 5.0405\n",
      "Epoch 2/10\n",
      "82/82 [==============================] - 44s 536ms/step - loss: 25.4037 - mean_absolute_percentage_error: 99.5723 - root_mean_squared_error: 5.0402 - mean_squared_error: 25.4037 - mean_absolute_error: 4.9610 - val_loss: 25.4309 - val_mean_absolute_percentage_error: 99.8948 - val_root_mean_squared_error: 5.0429 - val_mean_squared_error: 25.4309 - val_mean_absolute_error: 4.9623\n",
      "Epoch 3/10\n",
      "82/82 [==============================] - 47s 568ms/step - loss: 25.1124 - mean_absolute_percentage_error: 98.9558 - root_mean_squared_error: 5.0112 - mean_squared_error: 25.1124 - mean_absolute_error: 4.9315 - val_loss: 24.8795 - val_mean_absolute_percentage_error: 98.7911 - val_root_mean_squared_error: 4.9879 - val_mean_squared_error: 24.8795 - val_mean_absolute_error: 4.9103\n",
      "Epoch 4/10\n",
      "82/82 [==============================] - 44s 540ms/step - loss: 24.7665 - mean_absolute_percentage_error: 98.2204 - root_mean_squared_error: 4.9766 - mean_squared_error: 24.7665 - mean_absolute_error: 4.8963 - val_loss: 24.4349 - val_mean_absolute_percentage_error: 97.8562 - val_root_mean_squared_error: 4.9432 - val_mean_squared_error: 24.4349 - val_mean_absolute_error: 4.8658\n",
      "Epoch 5/10\n",
      "82/82 [==============================] - 44s 536ms/step - loss: 24.3777 - mean_absolute_percentage_error: 97.3893 - root_mean_squared_error: 4.9374 - mean_squared_error: 24.3777 - mean_absolute_error: 4.8564 - val_loss: 24.0128 - val_mean_absolute_percentage_error: 96.9473 - val_root_mean_squared_error: 4.9003 - val_mean_squared_error: 24.0128 - val_mean_absolute_error: 4.8223\n",
      "Epoch 6/10\n",
      "82/82 [==============================] - 44s 537ms/step - loss: 23.9557 - mean_absolute_percentage_error: 96.4790 - root_mean_squared_error: 4.8945 - mean_squared_error: 23.9557 - mean_absolute_error: 4.8128 - val_loss: 23.5734 - val_mean_absolute_percentage_error: 95.9911 - val_root_mean_squared_error: 4.8552 - val_mean_squared_error: 23.5734 - val_mean_absolute_error: 4.7765\n",
      "Epoch 7/10\n",
      "82/82 [==============================] - 44s 537ms/step - loss: 23.5073 - mean_absolute_percentage_error: 95.5032 - root_mean_squared_error: 4.8484 - mean_squared_error: 23.5073 - mean_absolute_error: 4.7660 - val_loss: 23.1154 - val_mean_absolute_percentage_error: 94.9854 - val_root_mean_squared_error: 4.8079 - val_mean_squared_error: 23.1154 - val_mean_absolute_error: 4.7283\n",
      "Epoch 8/10\n",
      "82/82 [==============================] - 45s 548ms/step - loss: 23.0384 - mean_absolute_percentage_error: 94.4706 - root_mean_squared_error: 4.7998 - mean_squared_error: 23.0384 - mean_absolute_error: 4.7165 - val_loss: 22.6388 - val_mean_absolute_percentage_error: 93.9275 - val_root_mean_squared_error: 4.7580 - val_mean_squared_error: 22.6388 - val_mean_absolute_error: 4.6777\n",
      "Epoch 9/10\n",
      "82/82 [==============================] - 44s 534ms/step - loss: 22.5532 - mean_absolute_percentage_error: 93.3919 - root_mean_squared_error: 4.7490 - mean_squared_error: 22.5532 - mean_absolute_error: 4.6648 - val_loss: 22.1476 - val_mean_absolute_percentage_error: 92.8253 - val_root_mean_squared_error: 4.7061 - val_mean_squared_error: 22.1476 - val_mean_absolute_error: 4.6249\n",
      "Epoch 10/10\n",
      "82/82 [==============================] - 44s 536ms/step - loss: 22.0553 - mean_absolute_percentage_error: 92.2724 - root_mean_squared_error: 4.6963 - mean_squared_error: 22.0553 - mean_absolute_error: 4.6111 - val_loss: 21.6459 - val_mean_absolute_percentage_error: 91.6864 - val_root_mean_squared_error: 4.6525 - val_mean_squared_error: 21.6459 - val_mean_absolute_error: 4.5703\n",
      "52/52 [==============================] - 6s 110ms/step\n",
      "Random prediction sample (truth, prediction): 4.92 [0.39826638]\n"
     ]
    },
    {
     "data": {
      "image/png": "[encoded data removed]",
      "text/plain": [
       "<Figure size 640x480 with 1 Axes>"
      ]
     },
     "metadata": {},
     "output_type": "display_data"
    }
   ],
   "source": [
    "model_test(danq_refined_model(), 10, 2)"
   ]
  },
  {
   "cell_type": "code",
   "execution_count": 34,
   "id": "c7873f96-828e-4299-a410-7fb2a3432ff8",
   "metadata": {},
   "outputs": [
    {
     "name": "stdout",
     "output_type": "stream",
     "text": [
      "Model: \"BaselineModel\"\n",
      "_________________________________________________________________\n",
      " Layer (type)                Output Shape              Param #   \n",
      "=================================================================\n",
      " input_7 (InputLayer)        [(None, 7999, 4)]         0         \n",
      "                                                                 \n",
      " conv1d_10 (Conv1D)          (None, 7974, 320)         33600     \n",
      "                                                                 \n",
      " batch_normalization_9 (Bat  (None, 7974, 320)         1280      \n",
      " chNormalization)                                                \n",
      "                                                                 \n",
      " max_pooling1d_10 (MaxPooli  (None, 613, 320)          0         \n",
      " ng1D)                                                           \n",
      "                                                                 \n",
      " dropout_15 (Dropout)        (None, 613, 320)          0         \n",
      "                                                                 \n",
      " bidirectional_4 (Bidirecti  (None, 613, 320)          1640960   \n",
      " onal)                                                           \n",
      "                                                                 \n",
      " max_pooling1d_11 (MaxPooli  (None, 47, 320)           0         \n",
      " ng1D)                                                           \n",
      "                                                                 \n",
      " dropout_16 (Dropout)        (None, 47, 320)           0         \n",
      "                                                                 \n",
      " flatten_6 (Flatten)         (None, 15040)             0         \n",
      "                                                                 \n",
      " dense_12 (Dense)            (None, 64)                962624    \n",
      "                                                                 \n",
      " batch_normalization_10 (Ba  (None, 64)                256       \n",
      " tchNormalization)                                               \n",
      "                                                                 \n",
      " dropout_17 (Dropout)        (None, 64)                0         \n",
      "                                                                 \n",
      " dense_13 (Dense)            (None, 1)                 65        \n",
      "                                                                 \n",
      "=================================================================\n",
      "Total params: 2638785 (10.07 MB)\n",
      "Trainable params: 2638017 (10.06 MB)\n",
      "Non-trainable params: 768 (3.00 KB)\n",
      "_________________________________________________________________\n",
      "Epoch 1/10\n",
      "82/82 [==============================] - 126s 2s/step - loss: 21.2377 - mean_absolute_percentage_error: 89.7615 - root_mean_squared_error: 4.6084 - mean_squared_error: 21.2377 - mean_absolute_error: 4.4873 - val_loss: 15.6959 - val_mean_absolute_percentage_error: 76.9792 - val_root_mean_squared_error: 3.9618 - val_mean_squared_error: 15.6959 - val_mean_absolute_error: 3.8648\n",
      "Epoch 2/10\n",
      "82/82 [==============================] - 121s 1s/step - loss: 9.5691 - mean_absolute_percentage_error: 56.4815 - root_mean_squared_error: 3.0934 - mean_squared_error: 9.5691 - mean_absolute_error: 2.8797 - val_loss: 4.4433 - val_mean_absolute_percentage_error: 37.0490 - val_root_mean_squared_error: 2.1079 - val_mean_squared_error: 4.4433 - val_mean_absolute_error: 1.9334\n",
      "Epoch 3/10\n",
      "82/82 [==============================] - 124s 2s/step - loss: 2.0726 - mean_absolute_percentage_error: 23.3977 - root_mean_squared_error: 1.4397 - mean_squared_error: 2.0726 - mean_absolute_error: 1.1877 - val_loss: 0.7476 - val_mean_absolute_percentage_error: 15.6506 - val_root_mean_squared_error: 0.8647 - val_mean_squared_error: 0.7476 - val_mean_absolute_error: 0.6971\n",
      "Epoch 4/10\n",
      "82/82 [==============================] - 123s 2s/step - loss: 1.0989 - mean_absolute_percentage_error: 17.9949 - root_mean_squared_error: 1.0483 - mean_squared_error: 1.0989 - mean_absolute_error: 0.8327 - val_loss: 0.7579 - val_mean_absolute_percentage_error: 15.7583 - val_root_mean_squared_error: 0.8706 - val_mean_squared_error: 0.7579 - val_mean_absolute_error: 0.6967\n",
      "Epoch 5/10\n",
      "82/82 [==============================] - 128s 2s/step - loss: 1.0191 - mean_absolute_percentage_error: 17.4488 - root_mean_squared_error: 1.0095 - mean_squared_error: 1.0191 - mean_absolute_error: 0.7948 - val_loss: 0.7521 - val_mean_absolute_percentage_error: 15.7252 - val_root_mean_squared_error: 0.8672 - val_mean_squared_error: 0.7521 - val_mean_absolute_error: 0.6887\n",
      "Epoch 6/10\n",
      "82/82 [==============================] - 130s 2s/step - loss: 1.0207 - mean_absolute_percentage_error: 17.4430 - root_mean_squared_error: 1.0103 - mean_squared_error: 1.0207 - mean_absolute_error: 0.7950 - val_loss: 0.7295 - val_mean_absolute_percentage_error: 15.2538 - val_root_mean_squared_error: 0.8541 - val_mean_squared_error: 0.7295 - val_mean_absolute_error: 0.6981\n",
      "Epoch 7/10\n",
      "82/82 [==============================] - 129s 2s/step - loss: 0.9730 - mean_absolute_percentage_error: 17.0396 - root_mean_squared_error: 0.9864 - mean_squared_error: 0.9730 - mean_absolute_error: 0.7767 - val_loss: 1.2399 - val_mean_absolute_percentage_error: 18.2094 - val_root_mean_squared_error: 1.1135 - val_mean_squared_error: 1.2399 - val_mean_absolute_error: 0.9237\n",
      "Epoch 8/10\n",
      "82/82 [==============================] - 129s 2s/step - loss: 0.9326 - mean_absolute_percentage_error: 16.6430 - root_mean_squared_error: 0.9657 - mean_squared_error: 0.9326 - mean_absolute_error: 0.7599 - val_loss: 0.8726 - val_mean_absolute_percentage_error: 16.1421 - val_root_mean_squared_error: 0.9342 - val_mean_squared_error: 0.8726 - val_mean_absolute_error: 0.7625\n",
      "Epoch 9/10\n",
      "82/82 [==============================] - 128s 2s/step - loss: 0.8739 - mean_absolute_percentage_error: 16.2185 - root_mean_squared_error: 0.9348 - mean_squared_error: 0.8739 - mean_absolute_error: 0.7402 - val_loss: 0.7813 - val_mean_absolute_percentage_error: 15.3610 - val_root_mean_squared_error: 0.8839 - val_mean_squared_error: 0.7813 - val_mean_absolute_error: 0.7204\n",
      "Epoch 10/10\n",
      "82/82 [==============================] - 126s 2s/step - loss: 0.8227 - mean_absolute_percentage_error: 15.7842 - root_mean_squared_error: 0.9071 - mean_squared_error: 0.8227 - mean_absolute_error: 0.7214 - val_loss: 0.7964 - val_mean_absolute_percentage_error: 16.2536 - val_root_mean_squared_error: 0.8924 - val_mean_squared_error: 0.7964 - val_mean_absolute_error: 0.6952\n",
      "52/52 [==============================] - 13s 244ms/step\n",
      "Random prediction sample (truth, prediction): 4.92 [5.5347667]\n"
     ]
    },
    {
     "data": {
      "image/png": "[encoded data removed]",
      "text/plain": [
       "<Figure size 640x480 with 1 Axes>"
      ]
     },
     "metadata": {},
     "output_type": "display_data"
    }
   ],
   "source": [
    "model_test(dan_zrimec_model(), 10, 2)"
   ]
  },
  {
   "cell_type": "code",
   "execution_count": 35,
   "id": "bccfbadb-f47e-4c1e-b558-7ab8bfd1f5d3",
   "metadata": {},
   "outputs": [
    {
     "name": "stdout",
     "output_type": "stream",
     "text": [
      "Model: \"AugurModel\"\n",
      "_________________________________________________________________\n",
      " Layer (type)                Output Shape              Param #   \n",
      "=================================================================\n",
      " input_8 (InputLayer)        [(None, 7999, 4)]         0         \n",
      "                                                                 \n",
      " conv1d_11 (Conv1D)          (None, 7997, 64)          832       \n",
      "                                                                 \n",
      " bidirectional_5 (Bidirecti  (None, 128)               66048     \n",
      " onal)                                                           \n",
      "                                                                 \n",
      " dropout_18 (Dropout)        (None, 128)               0         \n",
      "                                                                 \n",
      " dense_14 (Dense)            (None, 1)                 129       \n",
      "                                                                 \n",
      "=================================================================\n",
      "Total params: 67009 (261.75 KB)\n",
      "Trainable params: 67009 (261.75 KB)\n",
      "Non-trainable params: 0 (0.00 Byte)\n",
      "_________________________________________________________________\n",
      "Epoch 1/10\n",
      "82/82 [==============================] - 325s 4s/step - loss: 3.9705 - mean_absolute_percentage_error: 28.9399 - root_mean_squared_error: 1.9926 - mean_squared_error: 3.9705 - mean_absolute_error: 1.3759 - val_loss: 0.7601 - val_mean_absolute_percentage_error: 15.7618 - val_root_mean_squared_error: 0.8719 - val_mean_squared_error: 0.7601 - val_mean_absolute_error: 0.7017\n",
      "Epoch 2/10\n",
      "82/82 [==============================] - 313s 4s/step - loss: 0.8981 - mean_absolute_percentage_error: 16.6621 - root_mean_squared_error: 0.9477 - mean_squared_error: 0.8981 - mean_absolute_error: 0.7530 - val_loss: 0.7642 - val_mean_absolute_percentage_error: 15.8682 - val_root_mean_squared_error: 0.8742 - val_mean_squared_error: 0.7642 - val_mean_absolute_error: 0.7003\n",
      "Epoch 3/10\n",
      "82/82 [==============================] - 317s 4s/step - loss: 0.8906 - mean_absolute_percentage_error: 16.6081 - root_mean_squared_error: 0.9437 - mean_squared_error: 0.8906 - mean_absolute_error: 0.7499 - val_loss: 0.7574 - val_mean_absolute_percentage_error: 15.7025 - val_root_mean_squared_error: 0.8703 - val_mean_squared_error: 0.7574 - val_mean_absolute_error: 0.7019\n",
      "Epoch 4/10\n",
      "82/82 [==============================] - 330s 4s/step - loss: 0.8899 - mean_absolute_percentage_error: 16.6415 - root_mean_squared_error: 0.9433 - mean_squared_error: 0.8899 - mean_absolute_error: 0.7520 - val_loss: 0.7573 - val_mean_absolute_percentage_error: 15.6402 - val_root_mean_squared_error: 0.8702 - val_mean_squared_error: 0.7573 - val_mean_absolute_error: 0.7043\n",
      "Epoch 5/10\n",
      "82/82 [==============================] - 326s 4s/step - loss: 0.8857 - mean_absolute_percentage_error: 16.6171 - root_mean_squared_error: 0.9411 - mean_squared_error: 0.8857 - mean_absolute_error: 0.7493 - val_loss: 0.7612 - val_mean_absolute_percentage_error: 15.5995 - val_root_mean_squared_error: 0.8725 - val_mean_squared_error: 0.7612 - val_mean_absolute_error: 0.7100\n",
      "Epoch 6/10\n",
      "82/82 [==============================] - 310s 4s/step - loss: 0.8694 - mean_absolute_percentage_error: 16.4740 - root_mean_squared_error: 0.9324 - mean_squared_error: 0.8694 - mean_absolute_error: 0.7422 - val_loss: 0.7643 - val_mean_absolute_percentage_error: 15.8682 - val_root_mean_squared_error: 0.8742 - val_mean_squared_error: 0.7643 - val_mean_absolute_error: 0.6998\n",
      "Epoch 7/10\n",
      "82/82 [==============================] - 320s 4s/step - loss: 0.8649 - mean_absolute_percentage_error: 16.4605 - root_mean_squared_error: 0.9300 - mean_squared_error: 0.8649 - mean_absolute_error: 0.7435 - val_loss: 0.7666 - val_mean_absolute_percentage_error: 15.5973 - val_root_mean_squared_error: 0.8756 - val_mean_squared_error: 0.7666 - val_mean_absolute_error: 0.7152\n",
      "Epoch 8/10\n",
      "82/82 [==============================] - 312s 4s/step - loss: 0.8678 - mean_absolute_percentage_error: 16.4462 - root_mean_squared_error: 0.9316 - mean_squared_error: 0.8678 - mean_absolute_error: 0.7390 - val_loss: 0.7569 - val_mean_absolute_percentage_error: 15.6836 - val_root_mean_squared_error: 0.8700 - val_mean_squared_error: 0.7569 - val_mean_absolute_error: 0.7023\n",
      "Epoch 9/10\n",
      "82/82 [==============================] - 308s 4s/step - loss: 0.8655 - mean_absolute_percentage_error: 16.4560 - root_mean_squared_error: 0.9303 - mean_squared_error: 0.8655 - mean_absolute_error: 0.7420 - val_loss: 0.7630 - val_mean_absolute_percentage_error: 15.8458 - val_root_mean_squared_error: 0.8735 - val_mean_squared_error: 0.7630 - val_mean_absolute_error: 0.6996\n",
      "Epoch 10/10\n",
      "82/82 [==============================] - 323s 4s/step - loss: 0.8738 - mean_absolute_percentage_error: 16.4777 - root_mean_squared_error: 0.9348 - mean_squared_error: 0.8738 - mean_absolute_error: 0.7432 - val_loss: 0.7941 - val_mean_absolute_percentage_error: 16.2957 - val_root_mean_squared_error: 0.8911 - val_mean_squared_error: 0.7941 - val_mean_absolute_error: 0.7043\n",
      "52/52 [==============================] - 19s 365ms/step\n",
      "Random prediction sample (truth, prediction): 4.92 [5.233634]\n"
     ]
    },
    {
     "data": {
      "image/png": "[encoded data removed]",
      "text/plain": [
       "<Figure size 640x480 with 1 Axes>"
      ]
     },
     "metadata": {},
     "output_type": "display_data"
    }
   ],
   "source": [
    "model_test(augur_model(), 10, 2)"
   ]
  },
  {
   "cell_type": "markdown",
   "id": "f79b0a10-c0d7-4b3b-a20c-2a3a1937a807",
   "metadata": {},
   "source": [
    "### Hyperparameter Tuning"
   ]
  },
  {
   "cell_type": "code",
   "execution_count": 50,
   "id": "c63783c6-429b-4b1d-a9fe-880a1bfe9a6d",
   "metadata": {},
   "outputs": [],
   "source": [
    "def danq_refined_model_hp_search(hp):\n",
    "    inputs = layers.Input(shape=(7999, 4))\n",
    "\n",
    "    conv = layers.Conv1D(\n",
    "        filters=hp.Int('conv_units', min_value=32, max_value=512, step=32),\n",
    "        kernel_size=hp.Int('kernel_size', min_value=3, max_value=36, step=3),\n",
    "        padding='valid',\n",
    "        activation='relu'\n",
    "    )(inputs)\n",
    "    pool = layers.MaxPooling1D(\n",
    "        pool_size=hp.Int('pool_size', min_value=2, max_value=20, step=2),\n",
    "        strides=None\n",
    "    )(conv)\n",
    "    norm = layers.BatchNormalization()(pool)\n",
    "    # drop1 = layers.Dropout(\n",
    "    #     rate=0.2\n",
    "    # )(pool)\n",
    "\n",
    "    bilstm = layers.Bidirectional(\n",
    "        layers.LSTM(\n",
    "            units=hp.Int('lstm_units', min_value=32, max_value=512, step=32), \n",
    "            return_sequences=True, \n",
    "            recurrent_dropout=hp.Float('recurrent_dropout', min_value=0.1, max_value=0.5, step=0.05)\n",
    "        ),\n",
    "        merge_mode=hp.Choice('merge_mode', ['concat', 'sum', 'mul'])\n",
    "    )(norm)\n",
    "    drop2 = layers.Dropout(\n",
    "        rate=hp.Float('rate', min_value=0.1, max_value=0.5, step=0.05)\n",
    "    )(bilstm)\n",
    "    flat = layers.Flatten()(drop2)\n",
    "    dense1 = layers.Dense(\n",
    "        units=hp.Int('dense_units', min_value=32, max_value=128, step=32),\n",
    "        activation='relu'\n",
    "    )(flat)\n",
    "    outputs = layers.Dense(\n",
    "        units=1\n",
    "    )(dense1)\n",
    "    \n",
    "    # model\n",
    "    model = keras.Model(inputs=inputs, outputs=outputs, name='DanQRefModel')\n",
    "\n",
    "    model.compile(\n",
    "        loss=keras.losses.MeanSquaredError(),\n",
    "        # optimizer=keras.optimizers.Adam(learning_rate=0.1, beta_1=0.999, beta_2=0.99, epsilon=1e-6),\n",
    "        optimizer=keras.optimizers.Adam(),\n",
    "        metrics=[keras.metrics.MeanAbsolutePercentageError(), keras.metrics.MeanSquaredError(), keras.metrics.MeanAbsoluteError()],\n",
    "    )\n",
    "    \n",
    "    return model"
   ]
  },
  {
   "cell_type": "code",
   "execution_count": 51,
   "id": "09f8e838-9aad-4c15-ae11-df1c37f6730b",
   "metadata": {},
   "outputs": [
    {
     "data": {
      "text/plain": [
       "<keras.src.engine.functional.Functional at 0x7f89051bb0d0>"
      ]
     },
     "execution_count": 51,
     "metadata": {},
     "output_type": "execute_result"
    }
   ],
   "source": [
    "# verifying that the model compiles\n",
    "danq_refined_model_hp_search(keras_tuner.HyperParameters())"
   ]
  },
  {
   "cell_type": "code",
   "execution_count": 52,
   "id": "4a7d21df-f31d-40fc-ba0f-071bd51db6f8",
   "metadata": {},
   "outputs": [],
   "source": [
    "# setting up the tuner\n",
    "tuner = keras_tuner.BayesianOptimization(\n",
    "    hypermodel=danq_refined_model_hp_search,\n",
    "    objective=\"val_loss\",\n",
    "    max_trials=100,\n",
    "    executions_per_trial=2,\n",
    "    overwrite=True,\n",
    "    directory=\"hp_search\",\n",
    "    project_name=\"PTRaugur\",\n",
    ")"
   ]
  },
  {
   "cell_type": "code",
   "execution_count": 53,
   "id": "86f73847-82bf-49c7-bf71-d39dcde324c2",
   "metadata": {},
   "outputs": [
    {
     "name": "stdout",
     "output_type": "stream",
     "text": [
      "Search space summary\n",
      "Default search space size: 8\n",
      "conv_units (Int)\n",
      "{'default': None, 'conditions': [], 'min_value': 32, 'max_value': 512, 'step': 32, 'sampling': 'linear'}\n",
      "kernel_size (Int)\n",
      "{'default': None, 'conditions': [], 'min_value': 3, 'max_value': 36, 'step': 3, 'sampling': 'linear'}\n",
      "pool_size (Int)\n",
      "{'default': None, 'conditions': [], 'min_value': 2, 'max_value': 20, 'step': 2, 'sampling': 'linear'}\n",
      "lstm_units (Int)\n",
      "{'default': None, 'conditions': [], 'min_value': 32, 'max_value': 512, 'step': 32, 'sampling': 'linear'}\n",
      "recurrent_dropout (Float)\n",
      "{'default': 0.1, 'conditions': [], 'min_value': 0.1, 'max_value': 0.5, 'step': 0.05, 'sampling': 'linear'}\n",
      "merge_mode (Choice)\n",
      "{'default': 'concat', 'conditions': [], 'values': ['concat', 'sum', 'mul'], 'ordered': False}\n",
      "rate (Float)\n",
      "{'default': 0.1, 'conditions': [], 'min_value': 0.1, 'max_value': 0.5, 'step': 0.05, 'sampling': 'linear'}\n",
      "dense_units (Int)\n",
      "{'default': None, 'conditions': [], 'min_value': 32, 'max_value': 128, 'step': 32, 'sampling': 'linear'}\n"
     ]
    }
   ],
   "source": [
    "# printing an overview of the tunable parameters\n",
    "tuner.search_space_summary()"
   ]
  },
  {
   "cell_type": "code",
   "execution_count": 54,
   "id": "1875a280-5676-488c-aad2-36fe9a61e1ef",
   "metadata": {},
   "outputs": [
    {
     "name": "stdout",
     "output_type": "stream",
     "text": [
      "\n",
      "Search: Running Trial #1\n",
      "\n",
      "Value             |Best Value So Far |Hyperparameter\n",
      "384               |384               |conv_units\n",
      "24                |24                |kernel_size\n",
      "8                 |8                 |pool_size\n",
      "320               |320               |lstm_units\n",
      "0.15              |0.15              |recurrent_dropout\n",
      "sum               |sum               |merge_mode\n",
      "0.15              |0.15              |rate\n",
      "64                |64                |dense_units\n",
      "\n",
      "Epoch 1/100\n"
     ]
    },
    {
     "ename": "KeyboardInterrupt",
     "evalue": "",
     "output_type": "error",
     "traceback": [
      "\u001b[0;31m---------------------------------------------------------------------------\u001b[0m",
      "\u001b[0;31mKeyboardInterrupt\u001b[0m                         Traceback (most recent call last)",
      "Cell \u001b[0;32mIn[54], line 5\u001b[0m\n\u001b[1;32m      1\u001b[0m callbacks \u001b[38;5;241m=\u001b[39m [\n\u001b[1;32m      2\u001b[0m     keras\u001b[38;5;241m.\u001b[39mcallbacks\u001b[38;5;241m.\u001b[39mEarlyStopping(monitor\u001b[38;5;241m=\u001b[39m\u001b[38;5;124m\"\u001b[39m\u001b[38;5;124mval_loss\u001b[39m\u001b[38;5;124m\"\u001b[39m, patience\u001b[38;5;241m=\u001b[39m\u001b[38;5;241m5\u001b[39m),\n\u001b[1;32m      3\u001b[0m ]\n\u001b[0;32m----> 5\u001b[0m \u001b[43mtuner\u001b[49m\u001b[38;5;241;43m.\u001b[39;49m\u001b[43msearch\u001b[49m\u001b[43m(\u001b[49m\n\u001b[1;32m      6\u001b[0m \u001b[43m    \u001b[49m\u001b[43mX_train\u001b[49m\u001b[43m,\u001b[49m\u001b[43m \u001b[49m\u001b[43my_train\u001b[49m\u001b[43m,\u001b[49m\n\u001b[1;32m      7\u001b[0m \u001b[43m    \u001b[49m\u001b[43mbatch_size\u001b[49m\u001b[38;5;241;43m=\u001b[39;49m\u001b[38;5;241;43m64\u001b[39;49m\u001b[43m,\u001b[49m\u001b[43m \u001b[49m\n\u001b[1;32m      8\u001b[0m \u001b[43m    \u001b[49m\u001b[43mepochs\u001b[49m\u001b[38;5;241;43m=\u001b[39;49m\u001b[38;5;241;43m100\u001b[39;49m\u001b[43m,\u001b[49m\n\u001b[1;32m      9\u001b[0m \u001b[43m    \u001b[49m\u001b[43mvalidation_data\u001b[49m\u001b[38;5;241;43m=\u001b[39;49m\u001b[43m(\u001b[49m\u001b[43mX_val\u001b[49m\u001b[43m,\u001b[49m\u001b[43m \u001b[49m\u001b[43my_val\u001b[49m\u001b[43m)\u001b[49m\u001b[43m,\u001b[49m\n\u001b[1;32m     10\u001b[0m \u001b[43m    \u001b[49m\u001b[43mcallbacks\u001b[49m\u001b[38;5;241;43m=\u001b[39;49m\u001b[43mcallbacks\u001b[49m\u001b[43m,\u001b[49m\n\u001b[1;32m     11\u001b[0m \u001b[43m    \u001b[49m\u001b[43mverbose\u001b[49m\u001b[38;5;241;43m=\u001b[39;49m\u001b[38;5;241;43m2\u001b[39;49m\u001b[43m,\u001b[49m\n\u001b[1;32m     12\u001b[0m \u001b[43m)\u001b[49m\n",
      "File \u001b[0;32m/scr/kithomer/hawk/uolbsc/PTR-augur/notebooks/.venv/lib64/python3.11/site-packages/keras_tuner/src/engine/base_tuner.py:233\u001b[0m, in \u001b[0;36mBaseTuner.search\u001b[0;34m(self, *fit_args, **fit_kwargs)\u001b[0m\n\u001b[1;32m    230\u001b[0m         \u001b[38;5;28;01mcontinue\u001b[39;00m\n\u001b[1;32m    232\u001b[0m     \u001b[38;5;28mself\u001b[39m\u001b[38;5;241m.\u001b[39mon_trial_begin(trial)\n\u001b[0;32m--> 233\u001b[0m     \u001b[38;5;28;43mself\u001b[39;49m\u001b[38;5;241;43m.\u001b[39;49m\u001b[43m_try_run_and_update_trial\u001b[49m\u001b[43m(\u001b[49m\u001b[43mtrial\u001b[49m\u001b[43m,\u001b[49m\u001b[43m \u001b[49m\u001b[38;5;241;43m*\u001b[39;49m\u001b[43mfit_args\u001b[49m\u001b[43m,\u001b[49m\u001b[43m \u001b[49m\u001b[38;5;241;43m*\u001b[39;49m\u001b[38;5;241;43m*\u001b[39;49m\u001b[43mfit_kwargs\u001b[49m\u001b[43m)\u001b[49m\n\u001b[1;32m    234\u001b[0m     \u001b[38;5;28mself\u001b[39m\u001b[38;5;241m.\u001b[39mon_trial_end(trial)\n\u001b[1;32m    235\u001b[0m \u001b[38;5;28mself\u001b[39m\u001b[38;5;241m.\u001b[39mon_search_end()\n",
      "File \u001b[0;32m/scr/kithomer/hawk/uolbsc/PTR-augur/notebooks/.venv/lib64/python3.11/site-packages/keras_tuner/src/engine/base_tuner.py:273\u001b[0m, in \u001b[0;36mBaseTuner._try_run_and_update_trial\u001b[0;34m(self, trial, *fit_args, **fit_kwargs)\u001b[0m\n\u001b[1;32m    271\u001b[0m \u001b[38;5;28;01mdef\u001b[39;00m \u001b[38;5;21m_try_run_and_update_trial\u001b[39m(\u001b[38;5;28mself\u001b[39m, trial, \u001b[38;5;241m*\u001b[39mfit_args, \u001b[38;5;241m*\u001b[39m\u001b[38;5;241m*\u001b[39mfit_kwargs):\n\u001b[1;32m    272\u001b[0m     \u001b[38;5;28;01mtry\u001b[39;00m:\n\u001b[0;32m--> 273\u001b[0m         \u001b[38;5;28;43mself\u001b[39;49m\u001b[38;5;241;43m.\u001b[39;49m\u001b[43m_run_and_update_trial\u001b[49m\u001b[43m(\u001b[49m\u001b[43mtrial\u001b[49m\u001b[43m,\u001b[49m\u001b[43m \u001b[49m\u001b[38;5;241;43m*\u001b[39;49m\u001b[43mfit_args\u001b[49m\u001b[43m,\u001b[49m\u001b[43m \u001b[49m\u001b[38;5;241;43m*\u001b[39;49m\u001b[38;5;241;43m*\u001b[39;49m\u001b[43mfit_kwargs\u001b[49m\u001b[43m)\u001b[49m\n\u001b[1;32m    274\u001b[0m         trial\u001b[38;5;241m.\u001b[39mstatus \u001b[38;5;241m=\u001b[39m trial_module\u001b[38;5;241m.\u001b[39mTrialStatus\u001b[38;5;241m.\u001b[39mCOMPLETED\n\u001b[1;32m    275\u001b[0m         \u001b[38;5;28;01mreturn\u001b[39;00m\n",
      "File \u001b[0;32m/scr/kithomer/hawk/uolbsc/PTR-augur/notebooks/.venv/lib64/python3.11/site-packages/keras_tuner/src/engine/base_tuner.py:238\u001b[0m, in \u001b[0;36mBaseTuner._run_and_update_trial\u001b[0;34m(self, trial, *fit_args, **fit_kwargs)\u001b[0m\n\u001b[1;32m    237\u001b[0m \u001b[38;5;28;01mdef\u001b[39;00m \u001b[38;5;21m_run_and_update_trial\u001b[39m(\u001b[38;5;28mself\u001b[39m, trial, \u001b[38;5;241m*\u001b[39mfit_args, \u001b[38;5;241m*\u001b[39m\u001b[38;5;241m*\u001b[39mfit_kwargs):\n\u001b[0;32m--> 238\u001b[0m     results \u001b[38;5;241m=\u001b[39m \u001b[38;5;28;43mself\u001b[39;49m\u001b[38;5;241;43m.\u001b[39;49m\u001b[43mrun_trial\u001b[49m\u001b[43m(\u001b[49m\u001b[43mtrial\u001b[49m\u001b[43m,\u001b[49m\u001b[43m \u001b[49m\u001b[38;5;241;43m*\u001b[39;49m\u001b[43mfit_args\u001b[49m\u001b[43m,\u001b[49m\u001b[43m \u001b[49m\u001b[38;5;241;43m*\u001b[39;49m\u001b[38;5;241;43m*\u001b[39;49m\u001b[43mfit_kwargs\u001b[49m\u001b[43m)\u001b[49m\n\u001b[1;32m    239\u001b[0m     \u001b[38;5;28;01mif\u001b[39;00m \u001b[38;5;28mself\u001b[39m\u001b[38;5;241m.\u001b[39moracle\u001b[38;5;241m.\u001b[39mget_trial(trial\u001b[38;5;241m.\u001b[39mtrial_id)\u001b[38;5;241m.\u001b[39mmetrics\u001b[38;5;241m.\u001b[39mexists(\n\u001b[1;32m    240\u001b[0m         \u001b[38;5;28mself\u001b[39m\u001b[38;5;241m.\u001b[39moracle\u001b[38;5;241m.\u001b[39mobjective\u001b[38;5;241m.\u001b[39mname\n\u001b[1;32m    241\u001b[0m     ):\n\u001b[1;32m    242\u001b[0m         \u001b[38;5;66;03m# The oracle is updated by calling `self.oracle.update_trial()` in\u001b[39;00m\n\u001b[1;32m    243\u001b[0m         \u001b[38;5;66;03m# `Tuner.run_trial()`. For backward compatibility, we support this\u001b[39;00m\n\u001b[1;32m    244\u001b[0m         \u001b[38;5;66;03m# use case. No further action needed in this case.\u001b[39;00m\n\u001b[1;32m    245\u001b[0m         warnings\u001b[38;5;241m.\u001b[39mwarn(\n\u001b[1;32m    246\u001b[0m             \u001b[38;5;124m\"\u001b[39m\u001b[38;5;124mThe use case of calling \u001b[39m\u001b[38;5;124m\"\u001b[39m\n\u001b[1;32m    247\u001b[0m             \u001b[38;5;124m\"\u001b[39m\u001b[38;5;124m`self.oracle.update_trial(trial_id, metrics)` \u001b[39m\u001b[38;5;124m\"\u001b[39m\n\u001b[0;32m   (...)\u001b[0m\n\u001b[1;32m    253\u001b[0m             stacklevel\u001b[38;5;241m=\u001b[39m\u001b[38;5;241m2\u001b[39m,\n\u001b[1;32m    254\u001b[0m         )\n",
      "File \u001b[0;32m/scr/kithomer/hawk/uolbsc/PTR-augur/notebooks/.venv/lib64/python3.11/site-packages/keras_tuner/src/engine/tuner.py:314\u001b[0m, in \u001b[0;36mTuner.run_trial\u001b[0;34m(self, trial, *args, **kwargs)\u001b[0m\n\u001b[1;32m    312\u001b[0m     callbacks\u001b[38;5;241m.\u001b[39mappend(model_checkpoint)\n\u001b[1;32m    313\u001b[0m     copied_kwargs[\u001b[38;5;124m\"\u001b[39m\u001b[38;5;124mcallbacks\u001b[39m\u001b[38;5;124m\"\u001b[39m] \u001b[38;5;241m=\u001b[39m callbacks\n\u001b[0;32m--> 314\u001b[0m     obj_value \u001b[38;5;241m=\u001b[39m \u001b[38;5;28;43mself\u001b[39;49m\u001b[38;5;241;43m.\u001b[39;49m\u001b[43m_build_and_fit_model\u001b[49m\u001b[43m(\u001b[49m\u001b[43mtrial\u001b[49m\u001b[43m,\u001b[49m\u001b[43m \u001b[49m\u001b[38;5;241;43m*\u001b[39;49m\u001b[43margs\u001b[49m\u001b[43m,\u001b[49m\u001b[43m \u001b[49m\u001b[38;5;241;43m*\u001b[39;49m\u001b[38;5;241;43m*\u001b[39;49m\u001b[43mcopied_kwargs\u001b[49m\u001b[43m)\u001b[49m\n\u001b[1;32m    316\u001b[0m     histories\u001b[38;5;241m.\u001b[39mappend(obj_value)\n\u001b[1;32m    317\u001b[0m \u001b[38;5;28;01mreturn\u001b[39;00m histories\n",
      "File \u001b[0;32m/scr/kithomer/hawk/uolbsc/PTR-augur/notebooks/.venv/lib64/python3.11/site-packages/keras_tuner/src/engine/tuner.py:233\u001b[0m, in \u001b[0;36mTuner._build_and_fit_model\u001b[0;34m(self, trial, *args, **kwargs)\u001b[0m\n\u001b[1;32m    231\u001b[0m hp \u001b[38;5;241m=\u001b[39m trial\u001b[38;5;241m.\u001b[39mhyperparameters\n\u001b[1;32m    232\u001b[0m model \u001b[38;5;241m=\u001b[39m \u001b[38;5;28mself\u001b[39m\u001b[38;5;241m.\u001b[39m_try_build(hp)\n\u001b[0;32m--> 233\u001b[0m results \u001b[38;5;241m=\u001b[39m \u001b[38;5;28;43mself\u001b[39;49m\u001b[38;5;241;43m.\u001b[39;49m\u001b[43mhypermodel\u001b[49m\u001b[38;5;241;43m.\u001b[39;49m\u001b[43mfit\u001b[49m\u001b[43m(\u001b[49m\u001b[43mhp\u001b[49m\u001b[43m,\u001b[49m\u001b[43m \u001b[49m\u001b[43mmodel\u001b[49m\u001b[43m,\u001b[49m\u001b[43m \u001b[49m\u001b[38;5;241;43m*\u001b[39;49m\u001b[43margs\u001b[49m\u001b[43m,\u001b[49m\u001b[43m \u001b[49m\u001b[38;5;241;43m*\u001b[39;49m\u001b[38;5;241;43m*\u001b[39;49m\u001b[43mkwargs\u001b[49m\u001b[43m)\u001b[49m\n\u001b[1;32m    235\u001b[0m \u001b[38;5;66;03m# Save the build config for model loading later.\u001b[39;00m\n\u001b[1;32m    236\u001b[0m \u001b[38;5;28;01mif\u001b[39;00m backend\u001b[38;5;241m.\u001b[39mconfig\u001b[38;5;241m.\u001b[39mmulti_backend():\n",
      "File \u001b[0;32m/scr/kithomer/hawk/uolbsc/PTR-augur/notebooks/.venv/lib64/python3.11/site-packages/keras_tuner/src/engine/hypermodel.py:149\u001b[0m, in \u001b[0;36mHyperModel.fit\u001b[0;34m(self, hp, model, *args, **kwargs)\u001b[0m\n\u001b[1;32m    125\u001b[0m \u001b[38;5;28;01mdef\u001b[39;00m \u001b[38;5;21mfit\u001b[39m(\u001b[38;5;28mself\u001b[39m, hp, model, \u001b[38;5;241m*\u001b[39margs, \u001b[38;5;241m*\u001b[39m\u001b[38;5;241m*\u001b[39mkwargs):\n\u001b[1;32m    126\u001b[0m \u001b[38;5;250m    \u001b[39m\u001b[38;5;124;03m\"\"\"Train the model.\u001b[39;00m\n\u001b[1;32m    127\u001b[0m \n\u001b[1;32m    128\u001b[0m \u001b[38;5;124;03m    Args:\u001b[39;00m\n\u001b[0;32m   (...)\u001b[0m\n\u001b[1;32m    147\u001b[0m \u001b[38;5;124;03m        If return a float, it should be the `objective` value.\u001b[39;00m\n\u001b[1;32m    148\u001b[0m \u001b[38;5;124;03m    \"\"\"\u001b[39;00m\n\u001b[0;32m--> 149\u001b[0m     \u001b[38;5;28;01mreturn\u001b[39;00m \u001b[43mmodel\u001b[49m\u001b[38;5;241;43m.\u001b[39;49m\u001b[43mfit\u001b[49m\u001b[43m(\u001b[49m\u001b[38;5;241;43m*\u001b[39;49m\u001b[43margs\u001b[49m\u001b[43m,\u001b[49m\u001b[43m \u001b[49m\u001b[38;5;241;43m*\u001b[39;49m\u001b[38;5;241;43m*\u001b[39;49m\u001b[43mkwargs\u001b[49m\u001b[43m)\u001b[49m\n",
      "File \u001b[0;32m/scr/kithomer/hawk/uolbsc/PTR-augur/notebooks/.venv/lib64/python3.11/site-packages/keras/src/utils/traceback_utils.py:65\u001b[0m, in \u001b[0;36mfilter_traceback.<locals>.error_handler\u001b[0;34m(*args, **kwargs)\u001b[0m\n\u001b[1;32m     63\u001b[0m filtered_tb \u001b[38;5;241m=\u001b[39m \u001b[38;5;28;01mNone\u001b[39;00m\n\u001b[1;32m     64\u001b[0m \u001b[38;5;28;01mtry\u001b[39;00m:\n\u001b[0;32m---> 65\u001b[0m     \u001b[38;5;28;01mreturn\u001b[39;00m \u001b[43mfn\u001b[49m\u001b[43m(\u001b[49m\u001b[38;5;241;43m*\u001b[39;49m\u001b[43margs\u001b[49m\u001b[43m,\u001b[49m\u001b[43m \u001b[49m\u001b[38;5;241;43m*\u001b[39;49m\u001b[38;5;241;43m*\u001b[39;49m\u001b[43mkwargs\u001b[49m\u001b[43m)\u001b[49m\n\u001b[1;32m     66\u001b[0m \u001b[38;5;28;01mexcept\u001b[39;00m \u001b[38;5;167;01mException\u001b[39;00m \u001b[38;5;28;01mas\u001b[39;00m e:\n\u001b[1;32m     67\u001b[0m     filtered_tb \u001b[38;5;241m=\u001b[39m _process_traceback_frames(e\u001b[38;5;241m.\u001b[39m__traceback__)\n",
      "File \u001b[0;32m/scr/kithomer/hawk/uolbsc/PTR-augur/notebooks/.venv/lib64/python3.11/site-packages/keras/src/engine/training.py:1807\u001b[0m, in \u001b[0;36mModel.fit\u001b[0;34m(self, x, y, batch_size, epochs, verbose, callbacks, validation_split, validation_data, shuffle, class_weight, sample_weight, initial_epoch, steps_per_epoch, validation_steps, validation_batch_size, validation_freq, max_queue_size, workers, use_multiprocessing)\u001b[0m\n\u001b[1;32m   1799\u001b[0m \u001b[38;5;28;01mwith\u001b[39;00m tf\u001b[38;5;241m.\u001b[39mprofiler\u001b[38;5;241m.\u001b[39mexperimental\u001b[38;5;241m.\u001b[39mTrace(\n\u001b[1;32m   1800\u001b[0m     \u001b[38;5;124m\"\u001b[39m\u001b[38;5;124mtrain\u001b[39m\u001b[38;5;124m\"\u001b[39m,\n\u001b[1;32m   1801\u001b[0m     epoch_num\u001b[38;5;241m=\u001b[39mepoch,\n\u001b[0;32m   (...)\u001b[0m\n\u001b[1;32m   1804\u001b[0m     _r\u001b[38;5;241m=\u001b[39m\u001b[38;5;241m1\u001b[39m,\n\u001b[1;32m   1805\u001b[0m ):\n\u001b[1;32m   1806\u001b[0m     callbacks\u001b[38;5;241m.\u001b[39mon_train_batch_begin(step)\n\u001b[0;32m-> 1807\u001b[0m     tmp_logs \u001b[38;5;241m=\u001b[39m \u001b[38;5;28;43mself\u001b[39;49m\u001b[38;5;241;43m.\u001b[39;49m\u001b[43mtrain_function\u001b[49m\u001b[43m(\u001b[49m\u001b[43miterator\u001b[49m\u001b[43m)\u001b[49m\n\u001b[1;32m   1808\u001b[0m     \u001b[38;5;28;01mif\u001b[39;00m data_handler\u001b[38;5;241m.\u001b[39mshould_sync:\n\u001b[1;32m   1809\u001b[0m         context\u001b[38;5;241m.\u001b[39masync_wait()\n",
      "File \u001b[0;32m/scr/kithomer/hawk/uolbsc/PTR-augur/notebooks/.venv/lib64/python3.11/site-packages/tensorflow/python/util/traceback_utils.py:150\u001b[0m, in \u001b[0;36mfilter_traceback.<locals>.error_handler\u001b[0;34m(*args, **kwargs)\u001b[0m\n\u001b[1;32m    148\u001b[0m filtered_tb \u001b[38;5;241m=\u001b[39m \u001b[38;5;28;01mNone\u001b[39;00m\n\u001b[1;32m    149\u001b[0m \u001b[38;5;28;01mtry\u001b[39;00m:\n\u001b[0;32m--> 150\u001b[0m   \u001b[38;5;28;01mreturn\u001b[39;00m \u001b[43mfn\u001b[49m\u001b[43m(\u001b[49m\u001b[38;5;241;43m*\u001b[39;49m\u001b[43margs\u001b[49m\u001b[43m,\u001b[49m\u001b[43m \u001b[49m\u001b[38;5;241;43m*\u001b[39;49m\u001b[38;5;241;43m*\u001b[39;49m\u001b[43mkwargs\u001b[49m\u001b[43m)\u001b[49m\n\u001b[1;32m    151\u001b[0m \u001b[38;5;28;01mexcept\u001b[39;00m \u001b[38;5;167;01mException\u001b[39;00m \u001b[38;5;28;01mas\u001b[39;00m e:\n\u001b[1;32m    152\u001b[0m   filtered_tb \u001b[38;5;241m=\u001b[39m _process_traceback_frames(e\u001b[38;5;241m.\u001b[39m__traceback__)\n",
      "File \u001b[0;32m/scr/kithomer/hawk/uolbsc/PTR-augur/notebooks/.venv/lib64/python3.11/site-packages/tensorflow/python/eager/polymorphic_function/polymorphic_function.py:832\u001b[0m, in \u001b[0;36mFunction.__call__\u001b[0;34m(self, *args, **kwds)\u001b[0m\n\u001b[1;32m    829\u001b[0m compiler \u001b[38;5;241m=\u001b[39m \u001b[38;5;124m\"\u001b[39m\u001b[38;5;124mxla\u001b[39m\u001b[38;5;124m\"\u001b[39m \u001b[38;5;28;01mif\u001b[39;00m \u001b[38;5;28mself\u001b[39m\u001b[38;5;241m.\u001b[39m_jit_compile \u001b[38;5;28;01melse\u001b[39;00m \u001b[38;5;124m\"\u001b[39m\u001b[38;5;124mnonXla\u001b[39m\u001b[38;5;124m\"\u001b[39m\n\u001b[1;32m    831\u001b[0m \u001b[38;5;28;01mwith\u001b[39;00m OptionalXlaContext(\u001b[38;5;28mself\u001b[39m\u001b[38;5;241m.\u001b[39m_jit_compile):\n\u001b[0;32m--> 832\u001b[0m   result \u001b[38;5;241m=\u001b[39m \u001b[38;5;28;43mself\u001b[39;49m\u001b[38;5;241;43m.\u001b[39;49m\u001b[43m_call\u001b[49m\u001b[43m(\u001b[49m\u001b[38;5;241;43m*\u001b[39;49m\u001b[43margs\u001b[49m\u001b[43m,\u001b[49m\u001b[43m \u001b[49m\u001b[38;5;241;43m*\u001b[39;49m\u001b[38;5;241;43m*\u001b[39;49m\u001b[43mkwds\u001b[49m\u001b[43m)\u001b[49m\n\u001b[1;32m    834\u001b[0m new_tracing_count \u001b[38;5;241m=\u001b[39m \u001b[38;5;28mself\u001b[39m\u001b[38;5;241m.\u001b[39mexperimental_get_tracing_count()\n\u001b[1;32m    835\u001b[0m without_tracing \u001b[38;5;241m=\u001b[39m (tracing_count \u001b[38;5;241m==\u001b[39m new_tracing_count)\n",
      "File \u001b[0;32m/scr/kithomer/hawk/uolbsc/PTR-augur/notebooks/.venv/lib64/python3.11/site-packages/tensorflow/python/eager/polymorphic_function/polymorphic_function.py:868\u001b[0m, in \u001b[0;36mFunction._call\u001b[0;34m(self, *args, **kwds)\u001b[0m\n\u001b[1;32m    865\u001b[0m   \u001b[38;5;28mself\u001b[39m\u001b[38;5;241m.\u001b[39m_lock\u001b[38;5;241m.\u001b[39mrelease()\n\u001b[1;32m    866\u001b[0m   \u001b[38;5;66;03m# In this case we have created variables on the first call, so we run the\u001b[39;00m\n\u001b[1;32m    867\u001b[0m   \u001b[38;5;66;03m# defunned version which is guaranteed to never create variables.\u001b[39;00m\n\u001b[0;32m--> 868\u001b[0m   \u001b[38;5;28;01mreturn\u001b[39;00m \u001b[43mtracing_compilation\u001b[49m\u001b[38;5;241;43m.\u001b[39;49m\u001b[43mcall_function\u001b[49m\u001b[43m(\u001b[49m\n\u001b[1;32m    869\u001b[0m \u001b[43m      \u001b[49m\u001b[43margs\u001b[49m\u001b[43m,\u001b[49m\u001b[43m \u001b[49m\u001b[43mkwds\u001b[49m\u001b[43m,\u001b[49m\u001b[43m \u001b[49m\u001b[38;5;28;43mself\u001b[39;49m\u001b[38;5;241;43m.\u001b[39;49m\u001b[43m_no_variable_creation_config\u001b[49m\n\u001b[1;32m    870\u001b[0m \u001b[43m  \u001b[49m\u001b[43m)\u001b[49m\n\u001b[1;32m    871\u001b[0m \u001b[38;5;28;01melif\u001b[39;00m \u001b[38;5;28mself\u001b[39m\u001b[38;5;241m.\u001b[39m_variable_creation_config \u001b[38;5;129;01mis\u001b[39;00m \u001b[38;5;129;01mnot\u001b[39;00m \u001b[38;5;28;01mNone\u001b[39;00m:\n\u001b[1;32m    872\u001b[0m   \u001b[38;5;66;03m# Release the lock early so that multiple threads can perform the call\u001b[39;00m\n\u001b[1;32m    873\u001b[0m   \u001b[38;5;66;03m# in parallel.\u001b[39;00m\n\u001b[1;32m    874\u001b[0m   \u001b[38;5;28mself\u001b[39m\u001b[38;5;241m.\u001b[39m_lock\u001b[38;5;241m.\u001b[39mrelease()\n",
      "File \u001b[0;32m/scr/kithomer/hawk/uolbsc/PTR-augur/notebooks/.venv/lib64/python3.11/site-packages/tensorflow/python/eager/polymorphic_function/tracing_compilation.py:139\u001b[0m, in \u001b[0;36mcall_function\u001b[0;34m(args, kwargs, tracing_options)\u001b[0m\n\u001b[1;32m    137\u001b[0m bound_args \u001b[38;5;241m=\u001b[39m function\u001b[38;5;241m.\u001b[39mfunction_type\u001b[38;5;241m.\u001b[39mbind(\u001b[38;5;241m*\u001b[39margs, \u001b[38;5;241m*\u001b[39m\u001b[38;5;241m*\u001b[39mkwargs)\n\u001b[1;32m    138\u001b[0m flat_inputs \u001b[38;5;241m=\u001b[39m function\u001b[38;5;241m.\u001b[39mfunction_type\u001b[38;5;241m.\u001b[39munpack_inputs(bound_args)\n\u001b[0;32m--> 139\u001b[0m \u001b[38;5;28;01mreturn\u001b[39;00m \u001b[43mfunction\u001b[49m\u001b[38;5;241;43m.\u001b[39;49m\u001b[43m_call_flat\u001b[49m\u001b[43m(\u001b[49m\u001b[43m  \u001b[49m\u001b[38;5;66;43;03m# pylint: disable=protected-access\u001b[39;49;00m\n\u001b[1;32m    140\u001b[0m \u001b[43m    \u001b[49m\u001b[43mflat_inputs\u001b[49m\u001b[43m,\u001b[49m\u001b[43m \u001b[49m\u001b[43mcaptured_inputs\u001b[49m\u001b[38;5;241;43m=\u001b[39;49m\u001b[43mfunction\u001b[49m\u001b[38;5;241;43m.\u001b[39;49m\u001b[43mcaptured_inputs\u001b[49m\n\u001b[1;32m    141\u001b[0m \u001b[43m\u001b[49m\u001b[43m)\u001b[49m\n",
      "File \u001b[0;32m/scr/kithomer/hawk/uolbsc/PTR-augur/notebooks/.venv/lib64/python3.11/site-packages/tensorflow/python/eager/polymorphic_function/concrete_function.py:1323\u001b[0m, in \u001b[0;36mConcreteFunction._call_flat\u001b[0;34m(self, tensor_inputs, captured_inputs)\u001b[0m\n\u001b[1;32m   1319\u001b[0m possible_gradient_type \u001b[38;5;241m=\u001b[39m gradients_util\u001b[38;5;241m.\u001b[39mPossibleTapeGradientTypes(args)\n\u001b[1;32m   1320\u001b[0m \u001b[38;5;28;01mif\u001b[39;00m (possible_gradient_type \u001b[38;5;241m==\u001b[39m gradients_util\u001b[38;5;241m.\u001b[39mPOSSIBLE_GRADIENT_TYPES_NONE\n\u001b[1;32m   1321\u001b[0m     \u001b[38;5;129;01mand\u001b[39;00m executing_eagerly):\n\u001b[1;32m   1322\u001b[0m   \u001b[38;5;66;03m# No tape is watching; skip to running the function.\u001b[39;00m\n\u001b[0;32m-> 1323\u001b[0m   \u001b[38;5;28;01mreturn\u001b[39;00m \u001b[38;5;28;43mself\u001b[39;49m\u001b[38;5;241;43m.\u001b[39;49m\u001b[43m_inference_function\u001b[49m\u001b[38;5;241;43m.\u001b[39;49m\u001b[43mcall_preflattened\u001b[49m\u001b[43m(\u001b[49m\u001b[43margs\u001b[49m\u001b[43m)\u001b[49m\n\u001b[1;32m   1324\u001b[0m forward_backward \u001b[38;5;241m=\u001b[39m \u001b[38;5;28mself\u001b[39m\u001b[38;5;241m.\u001b[39m_select_forward_and_backward_functions(\n\u001b[1;32m   1325\u001b[0m     args,\n\u001b[1;32m   1326\u001b[0m     possible_gradient_type,\n\u001b[1;32m   1327\u001b[0m     executing_eagerly)\n\u001b[1;32m   1328\u001b[0m forward_function, args_with_tangents \u001b[38;5;241m=\u001b[39m forward_backward\u001b[38;5;241m.\u001b[39mforward()\n",
      "File \u001b[0;32m/scr/kithomer/hawk/uolbsc/PTR-augur/notebooks/.venv/lib64/python3.11/site-packages/tensorflow/python/eager/polymorphic_function/atomic_function.py:216\u001b[0m, in \u001b[0;36mAtomicFunction.call_preflattened\u001b[0;34m(self, args)\u001b[0m\n\u001b[1;32m    214\u001b[0m \u001b[38;5;28;01mdef\u001b[39;00m \u001b[38;5;21mcall_preflattened\u001b[39m(\u001b[38;5;28mself\u001b[39m, args: Sequence[core\u001b[38;5;241m.\u001b[39mTensor]) \u001b[38;5;241m-\u001b[39m\u001b[38;5;241m>\u001b[39m Any:\n\u001b[1;32m    215\u001b[0m \u001b[38;5;250m  \u001b[39m\u001b[38;5;124;03m\"\"\"Calls with flattened tensor inputs and returns the structured output.\"\"\"\u001b[39;00m\n\u001b[0;32m--> 216\u001b[0m   flat_outputs \u001b[38;5;241m=\u001b[39m \u001b[38;5;28;43mself\u001b[39;49m\u001b[38;5;241;43m.\u001b[39;49m\u001b[43mcall_flat\u001b[49m\u001b[43m(\u001b[49m\u001b[38;5;241;43m*\u001b[39;49m\u001b[43margs\u001b[49m\u001b[43m)\u001b[49m\n\u001b[1;32m    217\u001b[0m   \u001b[38;5;28;01mreturn\u001b[39;00m \u001b[38;5;28mself\u001b[39m\u001b[38;5;241m.\u001b[39mfunction_type\u001b[38;5;241m.\u001b[39mpack_output(flat_outputs)\n",
      "File \u001b[0;32m/scr/kithomer/hawk/uolbsc/PTR-augur/notebooks/.venv/lib64/python3.11/site-packages/tensorflow/python/eager/polymorphic_function/atomic_function.py:251\u001b[0m, in \u001b[0;36mAtomicFunction.call_flat\u001b[0;34m(self, *args)\u001b[0m\n\u001b[1;32m    249\u001b[0m \u001b[38;5;28;01mwith\u001b[39;00m record\u001b[38;5;241m.\u001b[39mstop_recording():\n\u001b[1;32m    250\u001b[0m   \u001b[38;5;28;01mif\u001b[39;00m \u001b[38;5;28mself\u001b[39m\u001b[38;5;241m.\u001b[39m_bound_context\u001b[38;5;241m.\u001b[39mexecuting_eagerly():\n\u001b[0;32m--> 251\u001b[0m     outputs \u001b[38;5;241m=\u001b[39m \u001b[38;5;28;43mself\u001b[39;49m\u001b[38;5;241;43m.\u001b[39;49m\u001b[43m_bound_context\u001b[49m\u001b[38;5;241;43m.\u001b[39;49m\u001b[43mcall_function\u001b[49m\u001b[43m(\u001b[49m\n\u001b[1;32m    252\u001b[0m \u001b[43m        \u001b[49m\u001b[38;5;28;43mself\u001b[39;49m\u001b[38;5;241;43m.\u001b[39;49m\u001b[43mname\u001b[49m\u001b[43m,\u001b[49m\n\u001b[1;32m    253\u001b[0m \u001b[43m        \u001b[49m\u001b[38;5;28;43mlist\u001b[39;49m\u001b[43m(\u001b[49m\u001b[43margs\u001b[49m\u001b[43m)\u001b[49m\u001b[43m,\u001b[49m\n\u001b[1;32m    254\u001b[0m \u001b[43m        \u001b[49m\u001b[38;5;28;43mlen\u001b[39;49m\u001b[43m(\u001b[49m\u001b[38;5;28;43mself\u001b[39;49m\u001b[38;5;241;43m.\u001b[39;49m\u001b[43mfunction_type\u001b[49m\u001b[38;5;241;43m.\u001b[39;49m\u001b[43mflat_outputs\u001b[49m\u001b[43m)\u001b[49m\u001b[43m,\u001b[49m\n\u001b[1;32m    255\u001b[0m \u001b[43m    \u001b[49m\u001b[43m)\u001b[49m\n\u001b[1;32m    256\u001b[0m   \u001b[38;5;28;01melse\u001b[39;00m:\n\u001b[1;32m    257\u001b[0m     outputs \u001b[38;5;241m=\u001b[39m make_call_op_in_graph(\n\u001b[1;32m    258\u001b[0m         \u001b[38;5;28mself\u001b[39m,\n\u001b[1;32m    259\u001b[0m         \u001b[38;5;28mlist\u001b[39m(args),\n\u001b[1;32m    260\u001b[0m         \u001b[38;5;28mself\u001b[39m\u001b[38;5;241m.\u001b[39m_bound_context\u001b[38;5;241m.\u001b[39mfunction_call_options\u001b[38;5;241m.\u001b[39mas_attrs(),\n\u001b[1;32m    261\u001b[0m     )\n",
      "File \u001b[0;32m/scr/kithomer/hawk/uolbsc/PTR-augur/notebooks/.venv/lib64/python3.11/site-packages/tensorflow/python/eager/context.py:1486\u001b[0m, in \u001b[0;36mContext.call_function\u001b[0;34m(self, name, tensor_inputs, num_outputs)\u001b[0m\n\u001b[1;32m   1484\u001b[0m cancellation_context \u001b[38;5;241m=\u001b[39m cancellation\u001b[38;5;241m.\u001b[39mcontext()\n\u001b[1;32m   1485\u001b[0m \u001b[38;5;28;01mif\u001b[39;00m cancellation_context \u001b[38;5;129;01mis\u001b[39;00m \u001b[38;5;28;01mNone\u001b[39;00m:\n\u001b[0;32m-> 1486\u001b[0m   outputs \u001b[38;5;241m=\u001b[39m \u001b[43mexecute\u001b[49m\u001b[38;5;241;43m.\u001b[39;49m\u001b[43mexecute\u001b[49m\u001b[43m(\u001b[49m\n\u001b[1;32m   1487\u001b[0m \u001b[43m      \u001b[49m\u001b[43mname\u001b[49m\u001b[38;5;241;43m.\u001b[39;49m\u001b[43mdecode\u001b[49m\u001b[43m(\u001b[49m\u001b[38;5;124;43m\"\u001b[39;49m\u001b[38;5;124;43mutf-8\u001b[39;49m\u001b[38;5;124;43m\"\u001b[39;49m\u001b[43m)\u001b[49m\u001b[43m,\u001b[49m\n\u001b[1;32m   1488\u001b[0m \u001b[43m      \u001b[49m\u001b[43mnum_outputs\u001b[49m\u001b[38;5;241;43m=\u001b[39;49m\u001b[43mnum_outputs\u001b[49m\u001b[43m,\u001b[49m\n\u001b[1;32m   1489\u001b[0m \u001b[43m      \u001b[49m\u001b[43minputs\u001b[49m\u001b[38;5;241;43m=\u001b[39;49m\u001b[43mtensor_inputs\u001b[49m\u001b[43m,\u001b[49m\n\u001b[1;32m   1490\u001b[0m \u001b[43m      \u001b[49m\u001b[43mattrs\u001b[49m\u001b[38;5;241;43m=\u001b[39;49m\u001b[43mattrs\u001b[49m\u001b[43m,\u001b[49m\n\u001b[1;32m   1491\u001b[0m \u001b[43m      \u001b[49m\u001b[43mctx\u001b[49m\u001b[38;5;241;43m=\u001b[39;49m\u001b[38;5;28;43mself\u001b[39;49m\u001b[43m,\u001b[49m\n\u001b[1;32m   1492\u001b[0m \u001b[43m  \u001b[49m\u001b[43m)\u001b[49m\n\u001b[1;32m   1493\u001b[0m \u001b[38;5;28;01melse\u001b[39;00m:\n\u001b[1;32m   1494\u001b[0m   outputs \u001b[38;5;241m=\u001b[39m execute\u001b[38;5;241m.\u001b[39mexecute_with_cancellation(\n\u001b[1;32m   1495\u001b[0m       name\u001b[38;5;241m.\u001b[39mdecode(\u001b[38;5;124m\"\u001b[39m\u001b[38;5;124mutf-8\u001b[39m\u001b[38;5;124m\"\u001b[39m),\n\u001b[1;32m   1496\u001b[0m       num_outputs\u001b[38;5;241m=\u001b[39mnum_outputs,\n\u001b[0;32m   (...)\u001b[0m\n\u001b[1;32m   1500\u001b[0m       cancellation_manager\u001b[38;5;241m=\u001b[39mcancellation_context,\n\u001b[1;32m   1501\u001b[0m   )\n",
      "File \u001b[0;32m/scr/kithomer/hawk/uolbsc/PTR-augur/notebooks/.venv/lib64/python3.11/site-packages/tensorflow/python/eager/execute.py:53\u001b[0m, in \u001b[0;36mquick_execute\u001b[0;34m(op_name, num_outputs, inputs, attrs, ctx, name)\u001b[0m\n\u001b[1;32m     51\u001b[0m \u001b[38;5;28;01mtry\u001b[39;00m:\n\u001b[1;32m     52\u001b[0m   ctx\u001b[38;5;241m.\u001b[39mensure_initialized()\n\u001b[0;32m---> 53\u001b[0m   tensors \u001b[38;5;241m=\u001b[39m \u001b[43mpywrap_tfe\u001b[49m\u001b[38;5;241;43m.\u001b[39;49m\u001b[43mTFE_Py_Execute\u001b[49m\u001b[43m(\u001b[49m\u001b[43mctx\u001b[49m\u001b[38;5;241;43m.\u001b[39;49m\u001b[43m_handle\u001b[49m\u001b[43m,\u001b[49m\u001b[43m \u001b[49m\u001b[43mdevice_name\u001b[49m\u001b[43m,\u001b[49m\u001b[43m \u001b[49m\u001b[43mop_name\u001b[49m\u001b[43m,\u001b[49m\n\u001b[1;32m     54\u001b[0m \u001b[43m                                      \u001b[49m\u001b[43minputs\u001b[49m\u001b[43m,\u001b[49m\u001b[43m \u001b[49m\u001b[43mattrs\u001b[49m\u001b[43m,\u001b[49m\u001b[43m \u001b[49m\u001b[43mnum_outputs\u001b[49m\u001b[43m)\u001b[49m\n\u001b[1;32m     55\u001b[0m \u001b[38;5;28;01mexcept\u001b[39;00m core\u001b[38;5;241m.\u001b[39m_NotOkStatusException \u001b[38;5;28;01mas\u001b[39;00m e:\n\u001b[1;32m     56\u001b[0m   \u001b[38;5;28;01mif\u001b[39;00m name \u001b[38;5;129;01mis\u001b[39;00m \u001b[38;5;129;01mnot\u001b[39;00m \u001b[38;5;28;01mNone\u001b[39;00m:\n",
      "\u001b[0;31mKeyboardInterrupt\u001b[0m: "
     ]
    }
   ],
   "source": [
    "# setting up an early stop callback function while tuning\n",
    "callbacks = [\n",
    "    keras.callbacks.EarlyStopping(monitor=\"val_loss\", patience=5),\n",
    "]\n",
    "\n",
    "# running the tuning\n",
    "tuner.search(\n",
    "    X_train, y_train,\n",
    "    batch_size=64, \n",
    "    epochs=100,\n",
    "    validation_data=(X_val, y_val),\n",
    "    callbacks=callbacks,\n",
    "    verbose=2,\n",
    ")"
   ]
  },
  {
   "cell_type": "markdown",
   "id": "9475e359-d923-486a-9867-82166ac93610",
   "metadata": {},
   "source": [
    "### Tests"
   ]
  },
  {
   "cell_type": "code",
   "execution_count": null,
   "id": "8e3bcfc1-1a04-4a74-9605-1d1f83757491",
   "metadata": {},
   "outputs": [],
   "source": [
    "# both zrimec and danq have a really bad performance (at least with 5 iterations, danq is slow because it's big)\n",
    "# model = zrimec_model()\n",
    "# model = danq_model()\n",
    "# model = baseline_model()\n",
    "# model = augur_model()"
   ]
  },
  {
   "cell_type": "code",
   "execution_count": null,
   "id": "d3d846b8-9bdb-453e-b467-1f4f1a518c4b",
   "metadata": {},
   "outputs": [],
   "source": [
    "model.summary()"
   ]
  },
  {
   "cell_type": "code",
   "execution_count": null,
   "id": "c75b8982-e3d5-4544-9862-349265fce832",
   "metadata": {},
   "outputs": [],
   "source": [
    "keras.utils.plot_model(model, 'baseline.png')\n",
    "# img = plt.imread('baseline.png')\n",
    "# plt.figure(figsize=(10,10))\n",
    "# plt.imshow(img)\n",
    "# plt.axis('off')\n",
    "# plt.show()"
   ]
  },
  {
   "cell_type": "code",
   "execution_count": null,
   "id": "5172dfc2-f846-4a93-8321-e38a56f857ad",
   "metadata": {},
   "outputs": [],
   "source": [
    "model.compile(\n",
    "    loss=keras.losses.MeanSquaredError(),\n",
    "    optimizer=keras.optimizers.Adam(learning_rate=0.1, beta_1=0.999, beta_2=0.99, epsilon=1e-6),\n",
    "    metrics=[keras.metrics.MeanAbsolutePercentageError(), keras.metrics.RootMeanSquaredError(), keras.losses.MeanSquaredError(), keras.metrics.MeanAbsoluteError()],\n",
    ")\n",
    "\n",
    "# LOSS\n",
    "# works keras.losses.MeanSquaredError(),\n",
    "\n",
    "# METRIC\n",
    "# useless keras.metrics.Accuracy(), "
   ]
  },
  {
   "cell_type": "code",
   "execution_count": null,
   "id": "a4be5b09-0c52-4911-a579-c61318999317",
   "metadata": {},
   "outputs": [],
   "source": [
    "callbacks = [\n",
    "    # keras.callbacks.ModelCheckpoint(\"PTR_baseline.keras\", save_best_only=True)\n",
    "]"
   ]
  },
  {
   "cell_type": "code",
   "execution_count": null,
   "id": "1a9c18cf-111f-4045-ab88-851efdab4c21",
   "metadata": {},
   "outputs": [],
   "source": [
    "# alternative methode to prepadding the sequences\n",
    "# X_train_ragged = tf.ragged.constant(X_train, dtype=tf.int8, ragged_rank=1, row_splits_dtype=tf.int32)\n",
    "# dataset = tf.data.Dataset.from_tensor_slices(tensor)\n",
    "# dataset = dataset.map(lambda x: x)"
   ]
  },
  {
   "cell_type": "code",
   "execution_count": null,
   "id": "d7843173-f03d-4cdc-9e81-bf033163b6b5",
   "metadata": {},
   "outputs": [],
   "source": [
    "history = model.fit(\n",
    "    X_train, \n",
    "    y_train, \n",
    "    batch_size=64, \n",
    "    epochs=10, \n",
    "    validation_data=(X_val, y_val), \n",
    "    callbacks=callbacks\n",
    ")"
   ]
  },
  {
   "cell_type": "code",
   "execution_count": null,
   "id": "b5389b58-c88c-491a-bd0b-b1ae96f74559",
   "metadata": {},
   "outputs": [],
   "source": [
    "y_pred = model.predict(X_test)"
   ]
  },
  {
   "cell_type": "code",
   "execution_count": null,
   "id": "4ba8bb01-bbe1-4c9e-b7a7-be82d3a61b19",
   "metadata": {},
   "outputs": [],
   "source": [
    "print(y_test[0], y_pred[0])"
   ]
  },
  {
   "cell_type": "code",
   "execution_count": null,
   "id": "6872ae84-78d2-4c18-b170-6561f595aae7",
   "metadata": {},
   "outputs": [],
   "source": [
    "history_dict = history.history\n",
    "history_dict.keys()"
   ]
  },
  {
   "cell_type": "code",
   "execution_count": null,
   "id": "8c82c070-4f3c-47c9-8901-62c10e05b2f9",
   "metadata": {},
   "outputs": [],
   "source": [
    "plot_loss(history)"
   ]
  },
  {
   "cell_type": "code",
   "execution_count": null,
   "id": "39b88240-e1e5-4f66-9de6-e549a3ae79a1",
   "metadata": {},
   "outputs": [],
   "source": [
    "def full_model():\n",
    "    # input\n",
    "    inputs = keras.Input(shape=(None, 10))\n",
    "    # 1D convolution\n",
    "    conv = keras.Conv1D(\n",
    "        filters=128, \n",
    "        kernel_size=10, \n",
    "        strides=1, \n",
    "        activation='relu'\n",
    "    )(inputs)\n",
    "    # batch normalization\n",
    "    norm = keras.BatchNormalization()(conv)\n",
    "    # maxpool\n",
    "    pool = keras.MaxPooling1D(\n",
    "        pool_size=4,\n",
    "        strides=4\n",
    "    )(norm)\n",
    "    # dropout\n",
    "    drop = keras.Dropout(rate=0.2)(pool)\n",
    "    # bi-directional LSTM\n",
    "    bilstm = keras.Bidirectional(\n",
    "        keras.LSTM(\n",
    "            units=128,\n",
    "            dropout=0\n",
    "        ),\n",
    "        merge_mode='concat'\n",
    "    )(drop)\n",
    "    # batch normalization\n",
    "    norm = keras.BatchNormalization()(bilstm)\n",
    "    # maxpool\n",
    "    pool = keras.MaxPooling1D(\n",
    "        pool_size=4,\n",
    "        strides=4\n",
    "    )(norm)\n",
    "    # dropout\n",
    "    drop = keras.Dropout(rate=0.2)(pool)\n",
    "    # flatten\n",
    "    flat = keras.Flatten()(drop)\n",
    "\n",
    "    # second input\n",
    "    inputs2 = keras.Input(shape=(29,))\n",
    "\n",
    "    # concatenation\n",
    "    conc = keras.Concatenate(axis=1)([inputs, inputs2])\n",
    "\n",
    "    # fully connected\n",
    "    dense = keras.Dense(\n",
    "        units=64,\n",
    "        activation='relu'\n",
    "    )(conc)\n",
    "    # batch normalization\n",
    "    norm = keras.BatchNormalization()(dense)\n",
    "    # dropout\n",
    "    drop = keras.Dropout(rate=0.2)(norm)\n",
    "    # dense\n",
    "    outputs = keras.Dense(units=1)(drop)\n",
    "\n",
    "    # model\n",
    "    model = keras.Model(inputs=[inputs, inputs2], outputs=outputs, name='full_model')\n",
    "    \n",
    "    return model"
   ]
  }
 ],
 "metadata": {
  "kernelspec": {
   "display_name": "Python 3 (ipykernel)",
   "language": "python",
   "name": "python3"
  },
  "language_info": {
   "codemirror_mode": {
    "name": "ipython",
    "version": 3
   },
   "file_extension": ".py",
   "mimetype": "text/x-python",
   "name": "python",
   "nbconvert_exporter": "python",
   "pygments_lexer": "ipython3",
   "version": "3.11.6"
  }
 },
 "nbformat": 4,
 "nbformat_minor": 5
}
