{
 "cells": [
  {
   "cell_type": "code",
   "execution_count": 111,
   "id": "8f12e085-6ce6-41e0-8f1e-1d35b23bf358",
   "metadata": {},
   "outputs": [],
   "source": [
    "# library dependencies\n",
    "import numpy as np\n",
    "from pathlib import Path\n",
    "import matplotlib.pyplot as plt\n",
    "import lzma\n",
    "import pickle\n",
    "from sklearn.model_selection import train_test_split\n",
    "import keras\n",
    "from keras import layers\n",
    "import tensorflow as tf"
   ]
  },
  {
   "cell_type": "code",
   "execution_count": 2,
   "id": "c9ecd0a7-8f25-4b5b-bfb0-b5375b32c9ba",
   "metadata": {},
   "outputs": [],
   "source": [
    "# method to store data as serialized binary structure lzma compressed\n",
    "def can_pickles(data, filename):\n",
    "    with lzma.LZMAFile(filename, 'wb') as f:\n",
    "        pickle.dump(data, f, pickle.DEFAULT_PROTOCOL)\n",
    "\n",
    "# method to retrieve data from a compressed pickle file (created with the method above)\n",
    "def uncan_pickles(filename):\n",
    "    with lzma.LZMAFile(filename, 'rb') as f:\n",
    "        return pickle.load(f)"
   ]
  },
  {
   "cell_type": "markdown",
   "id": "c330afba-bf62-4e92-ad84-62921e42d31f",
   "metadata": {},
   "source": [
    "baseline data\n",
    "\n",
    "X holds a list of sequences one hot encoded\n",
    "y holds a list of PTR values as floats"
   ]
  },
  {
   "cell_type": "code",
   "execution_count": 127,
   "id": "c3d1d16d-426c-460f-930d-0e91adba9e80",
   "metadata": {},
   "outputs": [],
   "source": [
    "# read the prepared data back\n",
    "X = uncan_pickles('../data/onehot_x_lung.pickle.xz')\n",
    "y = uncan_pickles('../data/onehot_y_lung.pickle.xz')"
   ]
  },
  {
   "cell_type": "code",
   "execution_count": 128,
   "id": "5b2e91af-1782-4909-8191-87442cac791f",
   "metadata": {},
   "outputs": [],
   "source": [
    "X_padded = tf.keras.preprocessing.sequence.pad_sequences(X, padding=\"post\")"
   ]
  },
  {
   "cell_type": "code",
   "execution_count": 129,
   "id": "a3603897-eca1-41be-a833-79e59f4b5be1",
   "metadata": {},
   "outputs": [],
   "source": [
    "# convert type of target values from string to float\n",
    "y = np.array(y).astype(float)"
   ]
  },
  {
   "cell_type": "code",
   "execution_count": 131,
   "id": "41525e09-813f-46b8-9f47-ebbd7381510c",
   "metadata": {},
   "outputs": [
    {
     "data": {
      "text/plain": [
       "array([[1, 0, 0, 0],\n",
       "       [0, 1, 0, 0],\n",
       "       [0, 1, 0, 0],\n",
       "       ...,\n",
       "       [0, 1, 0, 0],\n",
       "       [0, 1, 0, 0],\n",
       "       [0, 1, 0, 0]])"
      ]
     },
     "execution_count": 131,
     "metadata": {},
     "output_type": "execute_result"
    }
   ],
   "source": [
    "X[0]"
   ]
  },
  {
   "cell_type": "code",
   "execution_count": 132,
   "id": "85471826-2b3a-4371-8441-ae940ba8e580",
   "metadata": {},
   "outputs": [
    {
     "data": {
      "text/plain": [
       "7.544"
      ]
     },
     "execution_count": 132,
     "metadata": {},
     "output_type": "execute_result"
    }
   ],
   "source": [
    "y[0]"
   ]
  },
  {
   "cell_type": "code",
   "execution_count": 133,
   "id": "694f3792-6d06-48e0-81af-f689cbb35c21",
   "metadata": {},
   "outputs": [
    {
     "data": {
      "text/plain": [
       "8201"
      ]
     },
     "execution_count": 133,
     "metadata": {},
     "output_type": "execute_result"
    }
   ],
   "source": [
    "# count of input sequences\n",
    "len(X)"
   ]
  },
  {
   "cell_type": "markdown",
   "id": "9d073003-6e5c-498b-b02f-32f415d55d66",
   "metadata": {},
   "source": [
    "split data in train and test subsets\n",
    "\n",
    "verify that the split worked properly"
   ]
  },
  {
   "cell_type": "code",
   "execution_count": 130,
   "id": "b11ab59a-ba46-4c89-a02e-2e33bde62cfb",
   "metadata": {},
   "outputs": [],
   "source": [
    "X_train, X_test, y_train, y_test = train_test_split(X_padded, y, test_size=0.2, random_state=1202)"
   ]
  },
  {
   "cell_type": "code",
   "execution_count": 134,
   "id": "cb4565eb-bf79-4504-bb8c-3aa2448fcc53",
   "metadata": {},
   "outputs": [
    {
     "data": {
      "text/plain": [
       "array([[1, 0, 0, 0],\n",
       "       [0, 0, 1, 0],\n",
       "       [1, 0, 0, 0],\n",
       "       ...,\n",
       "       [0, 0, 0, 0],\n",
       "       [0, 0, 0, 0],\n",
       "       [0, 0, 0, 0]], dtype=int32)"
      ]
     },
     "execution_count": 134,
     "metadata": {},
     "output_type": "execute_result"
    }
   ],
   "source": [
    "# get a sample\n",
    "X_train[1]"
   ]
  },
  {
   "cell_type": "code",
   "execution_count": 135,
   "id": "f9d75b63-7632-476e-9a01-11d4f428ef5a",
   "metadata": {},
   "outputs": [
    {
     "data": {
      "text/plain": [
       "3.746"
      ]
     },
     "execution_count": 135,
     "metadata": {},
     "output_type": "execute_result"
    }
   ],
   "source": [
    "# get the matching target\n",
    "y_train[1]"
   ]
  },
  {
   "cell_type": "code",
   "execution_count": 136,
   "id": "afd20cd1-1386-4e36-a94f-9209edb96cfc",
   "metadata": {},
   "outputs": [
    {
     "name": "stdout",
     "output_type": "stream",
     "text": [
      "6663\n"
     ]
    }
   ],
   "source": [
    "# find the target value in the raw dataset\n",
    "for i in range(len(y)):\n",
    "    if y[i] == 3.746:\n",
    "        print(i)"
   ]
  },
  {
   "cell_type": "code",
   "execution_count": 138,
   "id": "8cded98c-538f-4195-9380-bd739a150c06",
   "metadata": {},
   "outputs": [
    {
     "name": "stdout",
     "output_type": "stream",
     "text": [
      "OK\n"
     ]
    }
   ],
   "source": [
    "# compare if the raw dataset entry matches the subset entry\n",
    "if X_padded[6663].all() == X_train[1].all():\n",
    "    print('OK')"
   ]
  },
  {
   "cell_type": "markdown",
   "id": "d3de67ac-0026-42a6-b09b-f1fd60a0d74c",
   "metadata": {},
   "source": [
    "model building"
   ]
  },
  {
   "cell_type": "code",
   "execution_count": 147,
   "id": "1a4c5168-f720-48b4-b777-01067098205e",
   "metadata": {},
   "outputs": [],
   "source": [
    "def baseline_model():\n",
    "    # input\n",
    "    inputs = layers.Input(shape=(None, 4), name='SequenceInput')\n",
    "    # 1D convolution\n",
    "    conv = layers.Conv1D(\n",
    "        filters=128, \n",
    "        kernel_size=10, \n",
    "        strides=1, \n",
    "        activation='relu',\n",
    "        name='Conv1D'\n",
    "    )(inputs)\n",
    "    # batch normalization\n",
    "    norm = layers.BatchNormalization(name='Normalization1')(conv)\n",
    "    # maxpool\n",
    "    pool = layers.MaxPooling1D(\n",
    "        pool_size=4,\n",
    "        strides=4,\n",
    "        name='Pooling'\n",
    "    )(norm)\n",
    "    # dropout\n",
    "    drop = layers.Dropout(rate=0.2, name='Dropout1')(pool)\n",
    "    # bi-directional LSTM\n",
    "    bilstm = layers.Bidirectional(\n",
    "        layers.LSTM(\n",
    "            units=128, \n",
    "            dropout=0\n",
    "        ),\n",
    "        merge_mode='sum',\n",
    "        input_shape=(None, 4),\n",
    "        name='BiDirectionalLSTM'\n",
    "    )(drop)\n",
    "    drop = layers.Dropout(rate=0.2, name='Dropout2')(bilstm)\n",
    "    # flatten\n",
    "    flat = layers.Flatten()(drop)\n",
    "    # fully connected\n",
    "    dense = layers.Dense(\n",
    "        units=64,\n",
    "        activation='relu',\n",
    "        name='FullyConnected'\n",
    "    )(flat)\n",
    "    # batch normalization\n",
    "    norm = layers.BatchNormalization(name='Normalization2')(dense)\n",
    "    # dropout\n",
    "    drop = layers.Dropout(rate=0.2, name='Dropout3')(norm)\n",
    "    # dense\n",
    "    outputs = layers.Dense(units=1, name='Output')(drop)\n",
    "\n",
    "    # model\n",
    "    model = keras.Model(inputs=inputs, outputs=outputs, name='BaselineModel')\n",
    "    \n",
    "    return model"
   ]
  },
  {
   "cell_type": "code",
   "execution_count": 153,
   "id": "8e3bcfc1-1a04-4a74-9605-1d1f83757491",
   "metadata": {},
   "outputs": [],
   "source": [
    "model = baseline_model()"
   ]
  },
  {
   "cell_type": "code",
   "execution_count": 154,
   "id": "d3d846b8-9bdb-453e-b467-1f4f1a518c4b",
   "metadata": {},
   "outputs": [
    {
     "name": "stdout",
     "output_type": "stream",
     "text": [
      "Model: \"BaselineModel\"\n",
      "_________________________________________________________________\n",
      " Layer (type)                Output Shape              Param #   \n",
      "=================================================================\n",
      " SequenceInput (InputLayer)  [(None, None, 4)]         0         \n",
      "                                                                 \n",
      " Conv1D (Conv1D)             (None, None, 128)         5248      \n",
      "                                                                 \n",
      " Normalization1 (BatchNorma  (None, None, 128)         512       \n",
      " lization)                                                       \n",
      "                                                                 \n",
      " Pooling (MaxPooling1D)      (None, None, 128)         0         \n",
      "                                                                 \n",
      " Dropout1 (Dropout)          (None, None, 128)         0         \n",
      "                                                                 \n",
      " BiDirectionalLSTM (Bidirec  (None, 128)               263168    \n",
      " tional)                                                         \n",
      "                                                                 \n",
      " Dropout2 (Dropout)          (None, 128)               0         \n",
      "                                                                 \n",
      " flatten_16 (Flatten)        (None, 128)               0         \n",
      "                                                                 \n",
      " FullyConnected (Dense)      (None, 64)                8256      \n",
      "                                                                 \n",
      " Normalization2 (BatchNorma  (None, 64)                256       \n",
      " lization)                                                       \n",
      "                                                                 \n",
      " Dropout3 (Dropout)          (None, 64)                0         \n",
      "                                                                 \n",
      " Output (Dense)              (None, 1)                 65        \n",
      "                                                                 \n",
      "=================================================================\n",
      "Total params: 277505 (1.06 MB)\n",
      "Trainable params: 277121 (1.06 MB)\n",
      "Non-trainable params: 384 (1.50 KB)\n",
      "_________________________________________________________________\n"
     ]
    }
   ],
   "source": [
    "model.summary()"
   ]
  },
  {
   "cell_type": "code",
   "execution_count": 106,
   "id": "c75b8982-e3d5-4544-9862-349265fce832",
   "metadata": {},
   "outputs": [
    {
     "name": "stdout",
     "output_type": "stream",
     "text": [
      "You must install pydot (`pip install pydot`) and install graphviz (see instructions at https://graphviz.gitlab.io/download/) for plot_model to work.\n"
     ]
    }
   ],
   "source": [
    "keras.utils.plot_model(model, 'baseline.png')\n",
    "# img = plt.imread('baseline.png')\n",
    "# plt.figure(figsize=(10,10))\n",
    "# plt.imshow(img)\n",
    "# plt.axis('off')\n",
    "# plt.show()"
   ]
  },
  {
   "cell_type": "code",
   "execution_count": 156,
   "id": "5172dfc2-f846-4a93-8321-e38a56f857ad",
   "metadata": {},
   "outputs": [],
   "source": [
    "model.compile(\n",
    "    loss=keras.losses.MeanSquaredError(),\n",
    "    optimizer=keras.optimizers.RMSprop(),\n",
    "    metrics=[keras.metrics.Accuracy(), keras.metrics.CosineSimilarity(), keras.metrics.MeanAbsoluteError()],\n",
    ")"
   ]
  },
  {
   "cell_type": "code",
   "execution_count": 117,
   "id": "1a9c18cf-111f-4045-ab88-851efdab4c21",
   "metadata": {},
   "outputs": [],
   "source": [
    "# X_train_ragged = tf.ragged.constant(X_train, dtype=tf.int8, ragged_rank=1, row_splits_dtype=tf.int32)"
   ]
  },
  {
   "cell_type": "code",
   "execution_count": 157,
   "id": "d7843173-f03d-4cdc-9e81-bf033163b6b5",
   "metadata": {},
   "outputs": [
    {
     "name": "stdout",
     "output_type": "stream",
     "text": [
      "Epoch 1/2\n",
      "82/82 [==============================] - 79s 952ms/step - loss: 21.1152 - accuracy: 0.0000e+00 - cosine_similarity: 0.4893 - mean_absolute_error: 4.4082 - val_loss: 13.7518 - val_accuracy: 0.0000e+00 - val_cosine_similarity: 1.0000 - val_mean_absolute_error: 3.5974\n",
      "Epoch 2/2\n",
      "82/82 [==============================] - 79s 962ms/step - loss: 10.3228 - accuracy: 0.0000e+00 - cosine_similarity: 0.9627 - mean_absolute_error: 2.9423 - val_loss: 5.5309 - val_accuracy: 0.0000e+00 - val_cosine_similarity: 1.0000 - val_mean_absolute_error: 2.1823\n"
     ]
    },
    {
     "data": {
      "text/plain": [
       "<keras.src.callbacks.History at 0x7f18e0759c50>"
      ]
     },
     "execution_count": 157,
     "metadata": {},
     "output_type": "execute_result"
    }
   ],
   "source": [
    "history = model.fit(X_train, y_train, batch_size=64, epochs=2, validation_split=0.2)"
   ]
  },
  {
   "cell_type": "code",
   "execution_count": 165,
   "id": "b5389b58-c88c-491a-bd0b-b1ae96f74559",
   "metadata": {},
   "outputs": [
    {
     "name": "stdout",
     "output_type": "stream",
     "text": [
      "52/52 [==============================] - 8s 149ms/step\n"
     ]
    }
   ],
   "source": [
    "y_pred = model.predict(X_test)"
   ]
  },
  {
   "cell_type": "code",
   "execution_count": 166,
   "id": "4ba8bb01-bbe1-4c9e-b7a7-be82d3a61b19",
   "metadata": {},
   "outputs": [
    {
     "name": "stdout",
     "output_type": "stream",
     "text": [
      "4.92 [2.8196418]\n"
     ]
    }
   ],
   "source": [
    "print(y_test[0], y_pred[0])"
   ]
  },
  {
   "cell_type": "code",
   "execution_count": 50,
   "id": "39b88240-e1e5-4f66-9de6-e549a3ae79a1",
   "metadata": {},
   "outputs": [],
   "source": [
    "def full_model():\n",
    "    # input\n",
    "    inputs = keras.Input(shape=(None, 10))\n",
    "    # 1D convolution\n",
    "    conv = keras.Conv1D(\n",
    "        filters=128, \n",
    "        kernel_size=10, \n",
    "        strides=1, \n",
    "        activation='relu'\n",
    "    )(inputs)\n",
    "    # batch normalization\n",
    "    norm = keras.BatchNormalization()(conv)\n",
    "    # maxpool\n",
    "    pool = keras.MaxPooling1D(\n",
    "        pool_size=4,\n",
    "        strides=4\n",
    "    )(norm)\n",
    "    # dropout\n",
    "    drop = keras.Dropout(rate=0.2)(pool)\n",
    "    # bi-directional LSTM\n",
    "    bilstm = keras.Bidirectional(\n",
    "        keras.LSTM(\n",
    "            units=128,\n",
    "            dropout=0\n",
    "        ),\n",
    "        merge_mode='concat'\n",
    "    )(drop)\n",
    "    # batch normalization\n",
    "    norm = keras.BatchNormalization()(bilstm)\n",
    "    # maxpool\n",
    "    pool = keras.MaxPooling1D(\n",
    "        pool_size=4,\n",
    "        strides=4\n",
    "    )(norm)\n",
    "    # dropout\n",
    "    drop = keras.Dropout(rate=0.2)(pool)\n",
    "    # flatten\n",
    "    flat = keras.Flatten()(drop)\n",
    "\n",
    "    # second input\n",
    "    inputs2 = keras.Input(shape=(29,))\n",
    "\n",
    "    # concatenation\n",
    "    conc = keras.Concatenate(axis=1)([inputs, inputs2])\n",
    "\n",
    "    # fully connected\n",
    "    dense = keras.Dense(\n",
    "        units=64,\n",
    "        activation='relu'\n",
    "    )(conc)\n",
    "    # batch normalization\n",
    "    norm = keras.BatchNormalization()(dense)\n",
    "    # dropout\n",
    "    drop = keras.Dropout(rate=0.2)(norm)\n",
    "    # dense\n",
    "    outputs = keras.Dense(units=1)(drop)\n",
    "\n",
    "    # model\n",
    "    model = keras.Model(inputs=[inputs, inputs2], outputs=outputs, name='full_model')\n",
    "    \n",
    "    return model"
   ]
  }
 ],
 "metadata": {
  "kernelspec": {
   "display_name": "Python 3 (ipykernel)",
   "language": "python",
   "name": "python3"
  },
  "language_info": {
   "codemirror_mode": {
    "name": "ipython",
    "version": 3
   },
   "file_extension": ".py",
   "mimetype": "text/x-python",
   "name": "python",
   "nbconvert_exporter": "python",
   "pygments_lexer": "ipython3",
   "version": "3.11.6"
  }
 },
 "nbformat": 4,
 "nbformat_minor": 5
}
