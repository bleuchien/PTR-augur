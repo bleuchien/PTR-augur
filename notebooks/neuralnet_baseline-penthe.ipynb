{
 "cells": [
  {
   "cell_type": "markdown",
   "id": "1ce73b25-d36d-413d-a323-67e9a246b21b",
   "metadata": {},
   "source": [
    "# Baseline Neural Network Setup using k-fold Cross Validation"
   ]
  },
  {
   "cell_type": "code",
   "execution_count": 1,
   "id": "2874d9ad-1cd5-4f33-bcf6-178552b4ecc4",
   "metadata": {},
   "outputs": [
    {
     "name": "stderr",
     "output_type": "stream",
     "text": [
      "2024-02-11 23:48:35.342360: E external/local_xla/xla/stream_executor/cuda/cuda_dnn.cc:9261] Unable to register cuDNN factory: Attempting to register factory for plugin cuDNN when one has already been registered\n",
      "2024-02-11 23:48:35.342399: E external/local_xla/xla/stream_executor/cuda/cuda_fft.cc:607] Unable to register cuFFT factory: Attempting to register factory for plugin cuFFT when one has already been registered\n",
      "2024-02-11 23:48:35.343354: E external/local_xla/xla/stream_executor/cuda/cuda_blas.cc:1515] Unable to register cuBLAS factory: Attempting to register factory for plugin cuBLAS when one has already been registered\n",
      "2024-02-11 23:48:35.348474: I tensorflow/core/platform/cpu_feature_guard.cc:182] This TensorFlow binary is optimized to use available CPU instructions in performance-critical operations.\n",
      "To enable the following instructions: AVX2 FMA, in other operations, rebuild TensorFlow with the appropriate compiler flags.\n",
      "2024-02-11 23:48:35.989976: W tensorflow/compiler/tf2tensorrt/utils/py_utils.cc:38] TF-TRT Warning: Could not find TensorRT\n"
     ]
    }
   ],
   "source": [
    "# library dependencies\n",
    "import numpy as np\n",
    "from pathlib import Path\n",
    "import matplotlib.pyplot as plt\n",
    "import lzma\n",
    "import pickle\n",
    "from sklearn.model_selection import train_test_split\n",
    "from sklearn.model_selection import KFold\n",
    "import keras\n",
    "from keras import layers\n",
    "import tensorflow as tf\n",
    "import keras_tuner\n",
    "import math\n",
    "import time\n",
    "import gc"
   ]
  },
  {
   "cell_type": "code",
   "execution_count": 2,
   "id": "7b634de2-ee59-4979-ae29-9ce9ab8a2909",
   "metadata": {},
   "outputs": [],
   "source": [
    "# method to store data as serialized binary structure lzma compressed\n",
    "def can_pickles(data, filename):\n",
    "    with lzma.LZMAFile(filename, 'wb') as f:\n",
    "        pickle.dump(data, f, pickle.DEFAULT_PROTOCOL)\n",
    "\n",
    "# method to retrieve data from a compressed pickle file (created with the method above)\n",
    "def uncan_pickles(filename):\n",
    "    with lzma.LZMAFile(filename, 'rb') as f:\n",
    "        return pickle.load(f)"
   ]
  },
  {
   "cell_type": "code",
   "execution_count": 3,
   "id": "29c2a628-8756-4b25-844b-10352d9ce814",
   "metadata": {},
   "outputs": [],
   "source": [
    "# helper method to create a valid dataset\n",
    "# padded batches from ragged tensors are not supported (yet)\n",
    "# it needs a work around creating a uniform tensor\n",
    "# idea from : https://github.com/tensorflow/tensorflow/issues/39163\n",
    "def reformat(data, label):\n",
    "    return data, label\n",
    "\n",
    "# method to create a TF dataset\n",
    "def create_dataset(X_np_array, y_np_array, batch_size=32, sort=False):\n",
    "    # sort the arrays\n",
    "    if sort == True:\n",
    "        # build an array containing the sequence lengths\n",
    "        sequence_lengths = list(map(lambda x: len(x), X_np_array))\n",
    "        # sort the array but only get the indices\n",
    "        sorted_indices = np.argsort(sequence_lengths)\n",
    "        # now sort the X and y train arrays according to the sorted indicds\n",
    "        X_np_array = X_np_array[sorted_indices]\n",
    "        y_np_array = y_np_array[sorted_indices]\n",
    "\n",
    "    # create ragged tensor from in-homogeneous array\n",
    "    # X_tensor = tf.ragged.constant(X_np_array, dtype=tf.int8, ragged_rank=1, row_splits_dtype=tf.int32)\n",
    "    X_tensor = tf.RaggedTensor.from_row_lengths(\n",
    "        values=tf.concat(X_np_array.tolist(), axis=0),\n",
    "        row_lengths=[len(a) for a in X_np_array]\n",
    "    )\n",
    "    \n",
    "    # create dataset\n",
    "    ds = tf.data.Dataset.from_tensor_slices((X_tensor, y_np_array))\n",
    "\n",
    "    # create a dataset of dense tensors\n",
    "    ds = ds.map(reformat)\n",
    "\n",
    "    # apply padded batching to the dataset\n",
    "    ds = ds.padded_batch(batch_size)\n",
    "    \n",
    "    return ds"
   ]
  },
  {
   "cell_type": "code",
   "execution_count": 4,
   "id": "d13c3c1f-0eef-41c7-a4cb-8f1287335b64",
   "metadata": {},
   "outputs": [],
   "source": [
    "# method to plot two MAE arrays\n",
    "def plot_loss(train_mae, val_mae, start_epoch=1):\n",
    "    # get the number of epochs the training ran\n",
    "    epochs = range(start_epoch, len(train_mae) + 1)\n",
    "    # plot the graph\n",
    "    plt.plot(epochs, train_mae, \"bo\", label=\"Training\")\n",
    "    plt.plot(epochs, val_mae, \"b\", label=\"Validation\")\n",
    "    plt.title(\"Training and Validation Mean Absolute Error\")\n",
    "    plt.xlabel(\"Epochs\")\n",
    "    plt.ylabel(\"MAE\")\n",
    "    plt.legend()\n",
    "    plt.show()"
   ]
  },
  {
   "cell_type": "code",
   "execution_count": 5,
   "id": "57ee08f6-464e-4492-9931-69e754ab2d40",
   "metadata": {},
   "outputs": [],
   "source": [
    "# model to work with\n",
    "# from keras-tuner run:\n",
    "#   conv_units: 424\n",
    "#   kernel_size: 30\n",
    "#   rate: 0.30000000000000004\n",
    "#   dense_units: 128\n",
    "def augur_model():\n",
    "    inputs = layers.Input(shape=(None, 4))\n",
    "    conv1 = layers.Conv1D(\n",
    "        filters=424,\n",
    "        kernel_size=30,\n",
    "        strides=1,\n",
    "        activation='relu',\n",
    "        padding='valid'\n",
    "    )(inputs)\n",
    "    norm1 = layers.BatchNormalization()(conv1)\n",
    "    drop1 = layers.Dropout(\n",
    "        rate=0.3\n",
    "    )(norm1)\n",
    "    # pool1 = layers.MaxPooling1D(\n",
    "    #     pool_size=4,\n",
    "    #     strides=4\n",
    "    # )(drop1)\n",
    "    pool1 = layers.GlobalMaxPool1D()(drop1)\n",
    "    # flat = layers.Flatten()(drop1)\n",
    "    dense = layers.Dense(128, activation='relu')(pool1)\n",
    "    outputs = layers.Dense(1)(dense)\n",
    "    \n",
    "    model = keras.Model(inputs=inputs, outputs=outputs, name='Test')\n",
    "\n",
    "    return model"
   ]
  },
  {
   "cell_type": "code",
   "execution_count": 6,
   "id": "81491a3c-2246-482f-ab53-c8ab281e24da",
   "metadata": {},
   "outputs": [],
   "source": [
    "def dan_zrimec_model():\n",
    "    inputs = layers.Input(shape=(None, 4))\n",
    "    # 1D convolution\n",
    "    conv = layers.Conv1D(\n",
    "        filters=280,\n",
    "        kernel_size=12, \n",
    "        strides=1, \n",
    "        activation='relu'\n",
    "    )(inputs)\n",
    "    # batch normalization\n",
    "    norm = layers.BatchNormalization()(conv)\n",
    "    # maxpool\n",
    "    pool = layers.MaxPooling1D(\n",
    "        pool_size=2,\n",
    "        strides=None\n",
    "    )(norm)\n",
    "    # dropout\n",
    "    drop = layers.Dropout(\n",
    "        rate=0.15\n",
    "    )(pool)\n",
    "    # bi-directional LSTM\n",
    "    bilstm = layers.Bidirectional(\n",
    "        layers.LSTM(\n",
    "            units=448, \n",
    "            return_sequences=True, \n",
    "            recurrent_dropout=0.3\n",
    "        ),\n",
    "        merge_mode='concat'\n",
    "        # input_shape=(8000, 4),\n",
    "    )(drop)\n",
    "    # maxpool\n",
    "    pool = layers.MaxPooling1D(\n",
    "        pool_size=2,\n",
    "        strides=None\n",
    "    )(bilstm)\n",
    "    drop = layers.Dropout(\n",
    "        rate=0.1\n",
    "    )(pool)\n",
    "    # flatten\n",
    "    # flat = layers.Flatten()(drop)\n",
    "    gmp = layers.GlobalMaxPool1D()(drop)\n",
    "    # fully connected\n",
    "    dense = layers.Dense(\n",
    "        units=128,\n",
    "        activation='relu',\n",
    "    )(gmp)\n",
    "    # batch normalization\n",
    "    norm = layers.BatchNormalization()(dense)\n",
    "    # dropout\n",
    "    drop = layers.Dropout(\n",
    "        rate=0.45\n",
    "    )(norm)\n",
    "    # dense\n",
    "    outputs = layers.Dense(units=1)(drop)\n",
    "\n",
    "    # model\n",
    "    model = keras.Model(inputs=inputs, outputs=outputs, name='BaselineModel')\n",
    "\n",
    "    return model"
   ]
  },
  {
   "cell_type": "code",
   "execution_count": 24,
   "id": "df259e68-7fb1-43bf-affd-c85c43d440c9",
   "metadata": {},
   "outputs": [],
   "source": [
    "# Custom Callback To Include in Callbacks List At Training Time\n",
    "class GarbageCollectorCallback(tf.keras.callbacks.Callback):\n",
    "    def on_epoch_end(self, epoch, logs=None):\n",
    "        gc.collect()"
   ]
  },
  {
   "cell_type": "code",
   "execution_count": 8,
   "id": "a69600b6-8ab4-4080-8bce-64dbbb308151",
   "metadata": {},
   "outputs": [],
   "source": [
    "def run_model(model, train_ds, val_ds, epochs=10, start_epoch=1, oneshot=True, verbose=True):\n",
    "    if verbose: \n",
    "        model.summary()\n",
    "        verbose_fit = 'auto'\n",
    "    else:\n",
    "        verbose_fit = 0\n",
    "    \n",
    "    model.compile(\n",
    "        loss=keras.losses.MeanSquaredError(),\n",
    "        optimizer=keras.optimizers.Adam(),\n",
    "        metrics=[keras.metrics.MeanAbsoluteError()],\n",
    "    )\n",
    "        \n",
    "    history = model.fit(\n",
    "        train_ds,\n",
    "        epochs=epochs,\n",
    "        validation_data=val_ds,\n",
    "        verbose=verbose_fit,\n",
    "        callbacks=[GarbageCollectorCallback()]\n",
    "    )\n",
    "    \n",
    "    if oneshot == True:\n",
    "        plot_loss(\n",
    "            history.history['mean_absolute_error'],\n",
    "            history.history['val_mean_absolute_error'],\n",
    "            start_epoch\n",
    "        )\n",
    "\n",
    "    if val_ds != None:\n",
    "        return history.history['mean_absolute_error'], history.history['val_mean_absolute_error']"
   ]
  },
  {
   "cell_type": "code",
   "execution_count": 9,
   "id": "bf21cd28-49ae-441a-9daa-8b0712296906",
   "metadata": {},
   "outputs": [],
   "source": [
    "# simple timer from https://realpython.com/python-timer/\n",
    "\n",
    "class Timer:\n",
    "    def __init__(self):\n",
    "        self._start_time = None\n",
    "\n",
    "    def start(self):\n",
    "        \"\"\"Start a new timer\"\"\"\n",
    "        if self._start_time is not None:\n",
    "            print(f\"Timer is running. Use .stop() to stop it\")\n",
    "        else:\n",
    "            self._start_time = time.perf_counter()\n",
    "\n",
    "    def stop(self):\n",
    "        \"\"\"Stop the timer, and report the elapsed time\"\"\"\n",
    "        if self._start_time is None:\n",
    "            print(f\"Timer is not running. Use .start() to start it\")\n",
    "        else:\n",
    "            elapsed_time = time.perf_counter() - self._start_time\n",
    "            self._start_time = None\n",
    "            print(f\"    elapsed time: {elapsed_time:0.4f} seconds\")"
   ]
  },
  {
   "cell_type": "markdown",
   "id": "cf711275-0384-46df-9510-b7beaf2a2463",
   "metadata": {},
   "source": [
    "## Data Prep\n",
    "\n",
    "*explain it in more detail*\n",
    "\n",
    "X holds a list of sequences one hot encoded\n",
    "\n",
    "y holds a list of PTR values as floats"
   ]
  },
  {
   "cell_type": "code",
   "execution_count": 10,
   "id": "198c44f7-050c-4c96-a00b-0b4fcbf2c9fb",
   "metadata": {},
   "outputs": [],
   "source": [
    "# read the prepared data back\n",
    "X_raw = uncan_pickles('../data/onehot_x_lung.pickle.xz')\n",
    "y = uncan_pickles('../data/onehot_y_lung.pickle.xz')"
   ]
  },
  {
   "cell_type": "code",
   "execution_count": 11,
   "id": "7a77d5bf-bbc1-4c38-8466-c2904242880b",
   "metadata": {},
   "outputs": [],
   "source": [
    "# build an inhomogenous numpy array from X\n",
    "# X = np.array(X, dtype=object)\n",
    "X = np.empty(len(X_raw), dtype=object)\n",
    "for id, seq in enumerate(X_raw):\n",
    "    X[id] = np.array(seq, dtype=np.int8)"
   ]
  },
  {
   "cell_type": "code",
   "execution_count": 12,
   "id": "668f2ec1-e6df-4287-b0ab-442001a822b7",
   "metadata": {},
   "outputs": [],
   "source": [
    "# convert type of target values from string to float\n",
    "y = np.array(y, dtype=np.float32)"
   ]
  },
  {
   "cell_type": "markdown",
   "id": "2d46f705-a1c2-4c59-ad0b-88ae2c943c7d",
   "metadata": {},
   "source": [
    "Random sample from X and y."
   ]
  },
  {
   "cell_type": "code",
   "execution_count": 13,
   "id": "d4c1a3a7-3751-4649-9d85-8e17255a4c03",
   "metadata": {},
   "outputs": [
    {
     "data": {
      "text/plain": [
       "array([[1, 0, 0, 0],\n",
       "       [0, 1, 0, 0],\n",
       "       [0, 1, 0, 0],\n",
       "       ...,\n",
       "       [0, 1, 0, 0],\n",
       "       [0, 1, 0, 0],\n",
       "       [0, 1, 0, 0]], dtype=int8)"
      ]
     },
     "execution_count": 13,
     "metadata": {},
     "output_type": "execute_result"
    }
   ],
   "source": [
    "X[0]"
   ]
  },
  {
   "cell_type": "code",
   "execution_count": 14,
   "id": "784bb474-f719-45fe-8836-beaef80dc222",
   "metadata": {},
   "outputs": [
    {
     "data": {
      "text/plain": [
       "7.544"
      ]
     },
     "execution_count": 14,
     "metadata": {},
     "output_type": "execute_result"
    }
   ],
   "source": [
    "y[0]"
   ]
  },
  {
   "cell_type": "code",
   "execution_count": 15,
   "id": "01e465cd-e5c3-41e1-889c-f82254879828",
   "metadata": {},
   "outputs": [
    {
     "data": {
      "text/plain": [
       "8201"
      ]
     },
     "execution_count": 15,
     "metadata": {},
     "output_type": "execute_result"
    }
   ],
   "source": [
    "# count of input sequences\n",
    "len(X)"
   ]
  },
  {
   "cell_type": "markdown",
   "id": "ea0459c2-c83d-4920-a3d0-8c86f348a235",
   "metadata": {},
   "source": [
    "### Baseline PTR\n",
    "\n",
    "There is no common sense approach in finding a baseline for the protein-to-mRNA ratio of a particular mRNA sequence. This is what the *Basic Neural Network* approach is for - to determin a baseline and see if a slightly adapted neural network with feature engineered input can provide better predictions.\n",
    "\n",
    "But what can be done is to simply check the value range of the target PTRs, calculate mean and standard deviation. Given that the standard deviation is  small (12.5% of the value range) one can (stupidly) predict the mean value every time. From that it's possible to calculate the Mean Absolute Error (MAE) and compare that to the following neural network output."
   ]
  },
  {
   "cell_type": "code",
   "execution_count": 16,
   "id": "941624fc-a917-4983-bfdd-d58fb88f0a52",
   "metadata": {},
   "outputs": [
    {
     "name": "stdout",
     "output_type": "stream",
     "text": [
      "1.552 8.587 4.9739575 0.8835629\n"
     ]
    }
   ],
   "source": [
    "# get some idea of the range of the PTR in the selected SAMPLE\n",
    "print(np.min(y), np.max(y), np.mean(y), np.std(y))"
   ]
  },
  {
   "cell_type": "code",
   "execution_count": 17,
   "id": "28d58d39-da1d-4f25-8f43-770dd077ae7b",
   "metadata": {},
   "outputs": [
    {
     "data": {
      "text/plain": [
       "0.70551455"
      ]
     },
     "execution_count": 17,
     "metadata": {},
     "output_type": "execute_result"
    }
   ],
   "source": [
    "# simple/dumb baseline mean absolute error of always predicting 4.974\n",
    "mae = np.mean(np.abs(np.array(y) - 4.974))\n",
    "mae"
   ]
  },
  {
   "cell_type": "markdown",
   "id": "81105338-e17c-4c50-b9c8-19e022c857eb",
   "metadata": {},
   "source": [
    "### Splits\n",
    "\n",
    "Split data in train and test sub sets"
   ]
  },
  {
   "cell_type": "code",
   "execution_count": 18,
   "id": "f3bec3f9-c83c-4690-b56c-ae3b97b877d4",
   "metadata": {},
   "outputs": [],
   "source": [
    "# split in train and test sub sets\n",
    "X_train, X_test, y_train, y_test = train_test_split(X, y, test_size=0.2, random_state=1202)"
   ]
  },
  {
   "cell_type": "code",
   "execution_count": 20,
   "id": "582618a5-4e35-4998-acdf-84feff4d2f74",
   "metadata": {},
   "outputs": [],
   "source": [
    "# batch_size = 64 # too large for available GPU memory\n",
    "# batch_size = 32 # too large for available GPU memory\n",
    "# batch_size = 16 # still too big\n",
    "batch_size = 16"
   ]
  },
  {
   "cell_type": "code",
   "execution_count": 21,
   "id": "9f34c6b2-ff64-4861-918a-34c83e3a51ae",
   "metadata": {
    "collapsed": true,
    "jupyter": {
     "outputs_hidden": true
    }
   },
   "outputs": [
    {
     "name": "stderr",
     "output_type": "stream",
     "text": [
      "2024-02-11 23:49:35.184525: I external/local_xla/xla/stream_executor/cuda/cuda_executor.cc:901] successful NUMA node read from SysFS had negative value (-1), but there must be at least one NUMA node, so returning NUMA node zero. See more at https://github.com/torvalds/linux/blob/v6.0/Documentation/ABI/testing/sysfs-bus-pci#L344-L355\n",
      "2024-02-11 23:49:35.185210: I external/local_xla/xla/stream_executor/cuda/cuda_executor.cc:901] successful NUMA node read from SysFS had negative value (-1), but there must be at least one NUMA node, so returning NUMA node zero. See more at https://github.com/torvalds/linux/blob/v6.0/Documentation/ABI/testing/sysfs-bus-pci#L344-L355\n",
      "2024-02-11 23:49:35.185889: I external/local_xla/xla/stream_executor/cuda/cuda_executor.cc:901] successful NUMA node read from SysFS had negative value (-1), but there must be at least one NUMA node, so returning NUMA node zero. See more at https://github.com/torvalds/linux/blob/v6.0/Documentation/ABI/testing/sysfs-bus-pci#L344-L355\n",
      "2024-02-11 23:49:35.186503: I external/local_xla/xla/stream_executor/cuda/cuda_executor.cc:901] successful NUMA node read from SysFS had negative value (-1), but there must be at least one NUMA node, so returning NUMA node zero. See more at https://github.com/torvalds/linux/blob/v6.0/Documentation/ABI/testing/sysfs-bus-pci#L344-L355\n",
      "2024-02-11 23:49:35.232158: I external/local_xla/xla/stream_executor/cuda/cuda_executor.cc:901] successful NUMA node read from SysFS had negative value (-1), but there must be at least one NUMA node, so returning NUMA node zero. See more at https://github.com/torvalds/linux/blob/v6.0/Documentation/ABI/testing/sysfs-bus-pci#L344-L355\n",
      "2024-02-11 23:49:35.232506: I external/local_xla/xla/stream_executor/cuda/cuda_executor.cc:901] successful NUMA node read from SysFS had negative value (-1), but there must be at least one NUMA node, so returning NUMA node zero. See more at https://github.com/torvalds/linux/blob/v6.0/Documentation/ABI/testing/sysfs-bus-pci#L344-L355\n",
      "2024-02-11 23:49:35.232781: I external/local_xla/xla/stream_executor/cuda/cuda_executor.cc:901] successful NUMA node read from SysFS had negative value (-1), but there must be at least one NUMA node, so returning NUMA node zero. See more at https://github.com/torvalds/linux/blob/v6.0/Documentation/ABI/testing/sysfs-bus-pci#L344-L355\n",
      "2024-02-11 23:49:35.233065: I external/local_xla/xla/stream_executor/cuda/cuda_executor.cc:901] successful NUMA node read from SysFS had negative value (-1), but there must be at least one NUMA node, so returning NUMA node zero. See more at https://github.com/torvalds/linux/blob/v6.0/Documentation/ABI/testing/sysfs-bus-pci#L344-L355\n",
      "2024-02-11 23:49:35.233331: I external/local_xla/xla/stream_executor/cuda/cuda_executor.cc:901] successful NUMA node read from SysFS had negative value (-1), but there must be at least one NUMA node, so returning NUMA node zero. See more at https://github.com/torvalds/linux/blob/v6.0/Documentation/ABI/testing/sysfs-bus-pci#L344-L355\n",
      "2024-02-11 23:49:35.233591: I external/local_xla/xla/stream_executor/cuda/cuda_executor.cc:901] successful NUMA node read from SysFS had negative value (-1), but there must be at least one NUMA node, so returning NUMA node zero. See more at https://github.com/torvalds/linux/blob/v6.0/Documentation/ABI/testing/sysfs-bus-pci#L344-L355\n",
      "2024-02-11 23:49:35.233854: I external/local_xla/xla/stream_executor/cuda/cuda_executor.cc:901] successful NUMA node read from SysFS had negative value (-1), but there must be at least one NUMA node, so returning NUMA node zero. See more at https://github.com/torvalds/linux/blob/v6.0/Documentation/ABI/testing/sysfs-bus-pci#L344-L355\n",
      "2024-02-11 23:49:35.234112: I external/local_xla/xla/stream_executor/cuda/cuda_executor.cc:901] successful NUMA node read from SysFS had negative value (-1), but there must be at least one NUMA node, so returning NUMA node zero. See more at https://github.com/torvalds/linux/blob/v6.0/Documentation/ABI/testing/sysfs-bus-pci#L344-L355\n",
      "2024-02-11 23:49:35.536054: I external/local_xla/xla/stream_executor/cuda/cuda_executor.cc:901] successful NUMA node read from SysFS had negative value (-1), but there must be at least one NUMA node, so returning NUMA node zero. See more at https://github.com/torvalds/linux/blob/v6.0/Documentation/ABI/testing/sysfs-bus-pci#L344-L355\n",
      "2024-02-11 23:49:35.536361: I external/local_xla/xla/stream_executor/cuda/cuda_executor.cc:901] successful NUMA node read from SysFS had negative value (-1), but there must be at least one NUMA node, so returning NUMA node zero. See more at https://github.com/torvalds/linux/blob/v6.0/Documentation/ABI/testing/sysfs-bus-pci#L344-L355\n",
      "2024-02-11 23:49:35.536619: I external/local_xla/xla/stream_executor/cuda/cuda_executor.cc:901] successful NUMA node read from SysFS had negative value (-1), but there must be at least one NUMA node, so returning NUMA node zero. See more at https://github.com/torvalds/linux/blob/v6.0/Documentation/ABI/testing/sysfs-bus-pci#L344-L355\n",
      "2024-02-11 23:49:35.536875: I external/local_xla/xla/stream_executor/cuda/cuda_executor.cc:901] successful NUMA node read from SysFS had negative value (-1), but there must be at least one NUMA node, so returning NUMA node zero. See more at https://github.com/torvalds/linux/blob/v6.0/Documentation/ABI/testing/sysfs-bus-pci#L344-L355\n",
      "2024-02-11 23:49:35.537120: I external/local_xla/xla/stream_executor/cuda/cuda_executor.cc:901] successful NUMA node read from SysFS had negative value (-1), but there must be at least one NUMA node, so returning NUMA node zero. See more at https://github.com/torvalds/linux/blob/v6.0/Documentation/ABI/testing/sysfs-bus-pci#L344-L355\n",
      "2024-02-11 23:49:35.537361: I external/local_xla/xla/stream_executor/cuda/cuda_executor.cc:901] successful NUMA node read from SysFS had negative value (-1), but there must be at least one NUMA node, so returning NUMA node zero. See more at https://github.com/torvalds/linux/blob/v6.0/Documentation/ABI/testing/sysfs-bus-pci#L344-L355\n",
      "2024-02-11 23:49:35.537596: I external/local_xla/xla/stream_executor/cuda/cuda_executor.cc:901] successful NUMA node read from SysFS had negative value (-1), but there must be at least one NUMA node, so returning NUMA node zero. See more at https://github.com/torvalds/linux/blob/v6.0/Documentation/ABI/testing/sysfs-bus-pci#L344-L355\n",
      "2024-02-11 23:49:35.537834: I external/local_xla/xla/stream_executor/cuda/cuda_executor.cc:901] successful NUMA node read from SysFS had negative value (-1), but there must be at least one NUMA node, so returning NUMA node zero. See more at https://github.com/torvalds/linux/blob/v6.0/Documentation/ABI/testing/sysfs-bus-pci#L344-L355\n",
      "2024-02-11 23:49:35.538069: I external/local_xla/xla/stream_executor/cuda/cuda_executor.cc:901] successful NUMA node read from SysFS had negative value (-1), but there must be at least one NUMA node, so returning NUMA node zero. See more at https://github.com/torvalds/linux/blob/v6.0/Documentation/ABI/testing/sysfs-bus-pci#L344-L355\n",
      "2024-02-11 23:49:35.538301: I external/local_xla/xla/stream_executor/cuda/cuda_executor.cc:901] successful NUMA node read from SysFS had negative value (-1), but there must be at least one NUMA node, so returning NUMA node zero. See more at https://github.com/torvalds/linux/blob/v6.0/Documentation/ABI/testing/sysfs-bus-pci#L344-L355\n",
      "2024-02-11 23:49:35.538531: I external/local_xla/xla/stream_executor/cuda/cuda_executor.cc:901] successful NUMA node read from SysFS had negative value (-1), but there must be at least one NUMA node, so returning NUMA node zero. See more at https://github.com/torvalds/linux/blob/v6.0/Documentation/ABI/testing/sysfs-bus-pci#L344-L355\n",
      "2024-02-11 23:49:35.538764: I external/local_xla/xla/stream_executor/cuda/cuda_executor.cc:901] successful NUMA node read from SysFS had negative value (-1), but there must be at least one NUMA node, so returning NUMA node zero. See more at https://github.com/torvalds/linux/blob/v6.0/Documentation/ABI/testing/sysfs-bus-pci#L344-L355\n",
      "2024-02-11 23:49:35.555210: I external/local_xla/xla/stream_executor/cuda/cuda_executor.cc:901] successful NUMA node read from SysFS had negative value (-1), but there must be at least one NUMA node, so returning NUMA node zero. See more at https://github.com/torvalds/linux/blob/v6.0/Documentation/ABI/testing/sysfs-bus-pci#L344-L355\n",
      "2024-02-11 23:49:35.555477: I external/local_xla/xla/stream_executor/cuda/cuda_executor.cc:901] successful NUMA node read from SysFS had negative value (-1), but there must be at least one NUMA node, so returning NUMA node zero. See more at https://github.com/torvalds/linux/blob/v6.0/Documentation/ABI/testing/sysfs-bus-pci#L344-L355\n",
      "2024-02-11 23:49:35.555732: I external/local_xla/xla/stream_executor/cuda/cuda_executor.cc:901] successful NUMA node read from SysFS had negative value (-1), but there must be at least one NUMA node, so returning NUMA node zero. See more at https://github.com/torvalds/linux/blob/v6.0/Documentation/ABI/testing/sysfs-bus-pci#L344-L355\n",
      "2024-02-11 23:49:35.555988: I external/local_xla/xla/stream_executor/cuda/cuda_executor.cc:901] successful NUMA node read from SysFS had negative value (-1), but there must be at least one NUMA node, so returning NUMA node zero. See more at https://github.com/torvalds/linux/blob/v6.0/Documentation/ABI/testing/sysfs-bus-pci#L344-L355\n",
      "2024-02-11 23:49:35.556229: I external/local_xla/xla/stream_executor/cuda/cuda_executor.cc:901] successful NUMA node read from SysFS had negative value (-1), but there must be at least one NUMA node, so returning NUMA node zero. See more at https://github.com/torvalds/linux/blob/v6.0/Documentation/ABI/testing/sysfs-bus-pci#L344-L355\n",
      "2024-02-11 23:49:35.556468: I external/local_xla/xla/stream_executor/cuda/cuda_executor.cc:901] successful NUMA node read from SysFS had negative value (-1), but there must be at least one NUMA node, so returning NUMA node zero. See more at https://github.com/torvalds/linux/blob/v6.0/Documentation/ABI/testing/sysfs-bus-pci#L344-L355\n",
      "2024-02-11 23:49:35.556710: I external/local_xla/xla/stream_executor/cuda/cuda_executor.cc:901] successful NUMA node read from SysFS had negative value (-1), but there must be at least one NUMA node, so returning NUMA node zero. See more at https://github.com/torvalds/linux/blob/v6.0/Documentation/ABI/testing/sysfs-bus-pci#L344-L355\n",
      "2024-02-11 23:49:35.556953: I external/local_xla/xla/stream_executor/cuda/cuda_executor.cc:901] successful NUMA node read from SysFS had negative value (-1), but there must be at least one NUMA node, so returning NUMA node zero. See more at https://github.com/torvalds/linux/blob/v6.0/Documentation/ABI/testing/sysfs-bus-pci#L344-L355\n",
      "2024-02-11 23:49:35.557197: I external/local_xla/xla/stream_executor/cuda/cuda_executor.cc:901] successful NUMA node read from SysFS had negative value (-1), but there must be at least one NUMA node, so returning NUMA node zero. See more at https://github.com/torvalds/linux/blob/v6.0/Documentation/ABI/testing/sysfs-bus-pci#L344-L355\n",
      "2024-02-11 23:49:35.557402: I tensorflow/core/common_runtime/gpu/gpu_device.cc:1929] Created device /job:localhost/replica:0/task:0/device:GPU:0 with 22461 MB memory:  -> device: 0, name: NVIDIA GeForce RTX 3090, pci bus id: 0000:81:00.0, compute capability: 8.6\n",
      "2024-02-11 23:49:35.557801: I external/local_xla/xla/stream_executor/cuda/cuda_executor.cc:901] successful NUMA node read from SysFS had negative value (-1), but there must be at least one NUMA node, so returning NUMA node zero. See more at https://github.com/torvalds/linux/blob/v6.0/Documentation/ABI/testing/sysfs-bus-pci#L344-L355\n",
      "2024-02-11 23:49:35.558011: I tensorflow/core/common_runtime/gpu/gpu_device.cc:1929] Created device /job:localhost/replica:0/task:0/device:GPU:1 with 22461 MB memory:  -> device: 1, name: NVIDIA GeForce RTX 3090, pci bus id: 0000:82:00.0, compute capability: 8.6\n",
      "2024-02-11 23:49:35.558358: I external/local_xla/xla/stream_executor/cuda/cuda_executor.cc:901] successful NUMA node read from SysFS had negative value (-1), but there must be at least one NUMA node, so returning NUMA node zero. See more at https://github.com/torvalds/linux/blob/v6.0/Documentation/ABI/testing/sysfs-bus-pci#L344-L355\n",
      "2024-02-11 23:49:35.558557: I tensorflow/core/common_runtime/gpu/gpu_device.cc:1929] Created device /job:localhost/replica:0/task:0/device:GPU:2 with 22461 MB memory:  -> device: 2, name: NVIDIA GeForce RTX 3090, pci bus id: 0000:c1:00.0, compute capability: 8.6\n",
      "2024-02-11 23:49:35.558939: I external/local_xla/xla/stream_executor/cuda/cuda_executor.cc:901] successful NUMA node read from SysFS had negative value (-1), but there must be at least one NUMA node, so returning NUMA node zero. See more at https://github.com/torvalds/linux/blob/v6.0/Documentation/ABI/testing/sysfs-bus-pci#L344-L355\n",
      "2024-02-11 23:49:35.559148: I tensorflow/core/common_runtime/gpu/gpu_device.cc:1929] Created device /job:localhost/replica:0/task:0/device:GPU:3 with 22461 MB memory:  -> device: 3, name: NVIDIA GeForce RTX 3090, pci bus id: 0000:c2:00.0, compute capability: 8.6\n"
     ]
    }
   ],
   "source": [
    "# build the test dataset\n",
    "test_ds = create_dataset(X_test, y_test, batch_size=batch_size, sort=False)"
   ]
  },
  {
   "cell_type": "markdown",
   "id": "dd15effe-0d99-4c4b-ab7d-261f42efa608",
   "metadata": {},
   "source": [
    "## k-Fold Cross Validation"
   ]
  },
  {
   "cell_type": "code",
   "execution_count": 22,
   "id": "b66d001b-11b1-4d6a-9dc0-90dc7a290af5",
   "metadata": {},
   "outputs": [],
   "source": [
    "num_splits = 5"
   ]
  },
  {
   "cell_type": "markdown",
   "id": "31421c42-2e54-40a6-be5e-720f33e4dd3d",
   "metadata": {},
   "source": [
    "### Augur Model"
   ]
  },
  {
   "cell_type": "code",
   "execution_count": 25,
   "id": "e139b274-5025-4118-a01f-2fb56657f7d5",
   "metadata": {},
   "outputs": [
    {
     "name": "stdout",
     "output_type": "stream",
     "text": [
      "k-fold cross validation with 5 splits for 100 epochs\n",
      "  processing fold 0\n",
      "    splitting data\n",
      "    elapsed time: 0.0005 seconds\n",
      "    creating training dataset\n",
      "    elapsed time: 0.3891 seconds\n",
      "    creating validation dataset\n",
      "    elapsed time: 0.0961 seconds\n",
      "    fitting model\n",
      "    elapsed time: 376.5743 seconds\n",
      "  processing fold 1\n",
      "    splitting data\n",
      "    elapsed time: 0.0003 seconds\n",
      "    creating training dataset\n",
      "    elapsed time: 0.3038 seconds\n",
      "    creating validation dataset\n",
      "    elapsed time: 0.0881 seconds\n",
      "    fitting model\n",
      "    elapsed time: 455.8843 seconds\n",
      "  processing fold 2\n",
      "    splitting data\n",
      "    elapsed time: 0.0003 seconds\n",
      "    creating training dataset\n",
      "    elapsed time: 0.3273 seconds\n",
      "    creating validation dataset\n",
      "    elapsed time: 0.0836 seconds\n",
      "    fitting model\n",
      "    elapsed time: 444.3147 seconds\n",
      "  processing fold 3\n",
      "    splitting data\n",
      "    elapsed time: 0.0003 seconds\n",
      "    creating training dataset\n",
      "    elapsed time: 0.3207 seconds\n",
      "    creating validation dataset\n",
      "    elapsed time: 0.0931 seconds\n",
      "    fitting model\n",
      "    elapsed time: 437.8827 seconds\n",
      "  processing fold 4\n",
      "    splitting data\n",
      "    elapsed time: 0.0003 seconds\n",
      "    creating training dataset\n",
      "    elapsed time: 0.3234 seconds\n",
      "    creating validation dataset\n",
      "    elapsed time: 0.0888 seconds\n",
      "    fitting model\n",
      "    elapsed time: 442.9958 seconds\n"
     ]
    },
    {
     "data": {
      "image/png": "[encoded data removed]",
      "text/plain": [
       "<Figure size 640x480 with 1 Axes>"
      ]
     },
     "metadata": {},
     "output_type": "display_data"
    },
    {
     "name": "stdout",
     "output_type": "stream",
     "text": [
      "CPU times: user 35min 41s, sys: 2min 57s, total: 38min 39s\n",
      "Wall time: 36min\n"
     ]
    }
   ],
   "source": [
    "%%time\n",
    "# run k-fold cross validation\n",
    "\n",
    "# epochs to run for\n",
    "epochs = 100\n",
    "\n",
    "# timer\n",
    "t = Timer()\n",
    "\n",
    "# training and validation mean absolute error results\n",
    "train_mae = []\n",
    "val_mae = []\n",
    "\n",
    "print(f'k-fold cross validation with {num_splits} splits for {epochs} epochs')\n",
    "kf = KFold(n_splits=num_splits, shuffle=True, random_state=1202)\n",
    "for i, (train_index, val_index) in enumerate(kf.split(X_train)):\n",
    "    print(f'  processing fold {i}')\n",
    "\n",
    "    # split the data\n",
    "    print('    splitting data')\n",
    "    t.start()\n",
    "    X_train_kf, X_val_kf, y_train_kf, y_val_kf = X_train[train_index], X_train[val_index], y_train[train_index], y_train[val_index]\n",
    "    t.stop()\n",
    "\n",
    "    # build the datasets\n",
    "    print('    creating training dataset')\n",
    "    t.start()\n",
    "    train_ds = create_dataset(X_train_kf, y_train_kf, batch_size=batch_size, sort=True)\n",
    "    t.stop()\n",
    "    print('    creating validation dataset')\n",
    "    t.start()\n",
    "    val_ds = create_dataset(X_val_kf, y_val_kf, batch_size=batch_size, sort=False)\n",
    "    t.stop()\n",
    "\n",
    "    # fit the model and return mae\n",
    "    print('    fitting model')\n",
    "    t.start()\n",
    "    t_mae, v_mae = run_model(augur_model(), train_ds, val_ds, epochs=epochs, start_epoch=1, oneshot=False, verbose=False)\n",
    "    t.stop()\n",
    "\n",
    "    # add returned mae values to the arrays\n",
    "    train_mae.append(t_mae)\n",
    "    val_mae.append(v_mae)\n",
    "\n",
    "# calculate the average\n",
    "average_train_mae = [ np.mean([ x[i] for x in train_mae ]) for i in range(epochs) ]\n",
    "average_val_mae = [ np.mean([ x[i] for x in val_mae ]) for i in range(epochs) ]\n",
    "\n",
    "# plot\n",
    "plot_loss(average_train_mae, average_val_mae, start_epoch=1)"
   ]
  },
  {
   "cell_type": "code",
   "execution_count": null,
   "id": "7c833d59-8d0b-4c09-8b27-32841e29e43d",
   "metadata": {},
   "outputs": [],
   "source": [
    "# train final model\n",
    "\n",
    "# model file name\n",
    "model_name = 'model_baseline_augur-penthe.keras'\n",
    "\n",
    "# timer\n",
    "t = Timer()\n",
    "\n",
    "# training and validation mean absolute error results\n",
    "train_mae = []\n",
    "val_mae = []\n",
    "\n",
    "# number of epochs to train for\n",
    "epochs = 40\n",
    "\n",
    "print(f'training final model {model_name} for {epochs} epochs')\n",
    "\n",
    "print('  creating training dataset')\n",
    "t.start()\n",
    "train_ds = create_dataset(X_train, y_train, batch_size=batch_size, sort=True)\n",
    "t.stop()\n",
    "\n",
    "print('  building model')\n",
    "model = augur_model()\n",
    "\n",
    "print('  training model')\n",
    "t.start()\n",
    "run_model(model, train_ds, None, epochs=epochs, start_epoch=1, oneshot=False, verbose=False)\n",
    "t.stop()\n",
    "\n",
    "print('  evaluating model')\n",
    "mae = model.evaluate(test_ds)\n",
    "print(f'  mean absolute evaluation error is {mae}')\n",
    "\n",
    "print('  saving model')\n",
    "model.save(model_name)"
   ]
  },
  {
   "cell_type": "code",
   "execution_count": 26,
   "id": "5e83109b-8577-4591-945e-c2d08491d1a8",
   "metadata": {},
   "outputs": [
    {
     "name": "stdout",
     "output_type": "stream",
     "text": [
      "k-fold cross validation with 5 splits for 100 epochs\n",
      "  processing fold 0\n",
      "    splitting data\n",
      "    elapsed time: 0.0003 seconds\n",
      "    creating training dataset\n",
      "    elapsed time: 0.3974 seconds\n",
      "    creating validation dataset\n",
      "    elapsed time: 0.0949 seconds\n",
      "    fitting model\n",
      "WARNING:tensorflow:Layer lstm will not use cuDNN kernels since it doesn't meet the criteria. It will use a generic GPU kernel as fallback when running on GPU.\n",
      "WARNING:tensorflow:Layer lstm will not use cuDNN kernels since it doesn't meet the criteria. It will use a generic GPU kernel as fallback when running on GPU.\n",
      "WARNING:tensorflow:Layer lstm will not use cuDNN kernels since it doesn't meet the criteria. It will use a generic GPU kernel as fallback when running on GPU.\n"
     ]
    },
    {
     "name": "stderr",
     "output_type": "stream",
     "text": [
      "IOPub data rate exceeded.\n",
      "The Jupyter server will temporarily stop sending output\n",
      "to the client in order to avoid crashing it.\n",
      "To change this limit, set the config variable\n",
      "`--ServerApp.iopub_data_rate_limit`.\n",
      "\n",
      "Current values:\n",
      "ServerApp.iopub_data_rate_limit=1000000.0 (bytes/sec)\n",
      "ServerApp.rate_limit_window=3.0 (secs)\n",
      "\n"
     ]
    },
    {
     "ename": "ResourceExhaustedError",
     "evalue": "Graph execution error:\n\nDetected at node BaselineModel/dropout_7/dropout/random_uniform/RandomUniform defined at (most recent call last):\n  File \"<frozen runpy>\", line 198, in _run_module_as_main\n\n  File \"<frozen runpy>\", line 88, in _run_code\n\n  File \"/scratch/hawk/PTR-augur/notebooks/.venv/lib64/python3.11/site-packages/ipykernel_launcher.py\", line 17, in <module>\n\n  File \"/scratch/hawk/PTR-augur/notebooks/.venv/lib64/python3.11/site-packages/traitlets/config/application.py\", line 1053, in launch_instance\n\n  File \"/scratch/hawk/PTR-augur/notebooks/.venv/lib64/python3.11/site-packages/ipykernel/kernelapp.py\", line 737, in start\n\n  File \"/scratch/hawk/PTR-augur/notebooks/.venv/lib64/python3.11/site-packages/tornado/platform/asyncio.py\", line 195, in start\n\n  File \"/usr/lib64/python3.11/asyncio/base_events.py\", line 607, in run_forever\n\n  File \"/usr/lib64/python3.11/asyncio/base_events.py\", line 1922, in _run_once\n\n  File \"/usr/lib64/python3.11/asyncio/events.py\", line 80, in _run\n\n  File \"/scratch/hawk/PTR-augur/notebooks/.venv/lib64/python3.11/site-packages/ipykernel/kernelbase.py\", line 524, in dispatch_queue\n\n  File \"/scratch/hawk/PTR-augur/notebooks/.venv/lib64/python3.11/site-packages/ipykernel/kernelbase.py\", line 513, in process_one\n\n  File \"/scratch/hawk/PTR-augur/notebooks/.venv/lib64/python3.11/site-packages/ipykernel/kernelbase.py\", line 418, in dispatch_shell\n\n  File \"/scratch/hawk/PTR-augur/notebooks/.venv/lib64/python3.11/site-packages/ipykernel/kernelbase.py\", line 758, in execute_request\n\n  File \"/scratch/hawk/PTR-augur/notebooks/.venv/lib64/python3.11/site-packages/ipykernel/ipkernel.py\", line 426, in do_execute\n\n  File \"/scratch/hawk/PTR-augur/notebooks/.venv/lib64/python3.11/site-packages/ipykernel/zmqshell.py\", line 549, in run_cell\n\n  File \"/scratch/hawk/PTR-augur/notebooks/.venv/lib64/python3.11/site-packages/IPython/core/interactiveshell.py\", line 3046, in run_cell\n\n  File \"/scratch/hawk/PTR-augur/notebooks/.venv/lib64/python3.11/site-packages/IPython/core/interactiveshell.py\", line 3101, in _run_cell\n\n  File \"/scratch/hawk/PTR-augur/notebooks/.venv/lib64/python3.11/site-packages/IPython/core/async_helpers.py\", line 129, in _pseudo_sync_runner\n\n  File \"/scratch/hawk/PTR-augur/notebooks/.venv/lib64/python3.11/site-packages/IPython/core/interactiveshell.py\", line 3306, in run_cell_async\n\n  File \"/scratch/hawk/PTR-augur/notebooks/.venv/lib64/python3.11/site-packages/IPython/core/interactiveshell.py\", line 3488, in run_ast_nodes\n\n  File \"/scratch/hawk/PTR-augur/notebooks/.venv/lib64/python3.11/site-packages/IPython/core/interactiveshell.py\", line 3548, in run_code\n\n  File \"/tmp/ipykernel_68230/2089603490.py\", line 1, in <module>\n\n  File \"/scratch/hawk/PTR-augur/notebooks/.venv/lib64/python3.11/site-packages/IPython/core/interactiveshell.py\", line 2515, in run_cell_magic\n\n  File \"/scratch/hawk/PTR-augur/notebooks/.venv/lib64/python3.11/site-packages/IPython/core/magics/execution.py\", line 1340, in time\n\n  File \"<timed exec>\", line 37, in <module>\n\n  File \"/tmp/ipykernel_68230/1928319210.py\", line 14, in run_model\n\n  File \"/scratch/hawk/PTR-augur/notebooks/.venv/lib64/python3.11/site-packages/keras/src/utils/traceback_utils.py\", line 65, in error_handler\n\n  File \"/scratch/hawk/PTR-augur/notebooks/.venv/lib64/python3.11/site-packages/keras/src/engine/training.py\", line 1807, in fit\n\n  File \"/scratch/hawk/PTR-augur/notebooks/.venv/lib64/python3.11/site-packages/keras/src/engine/training.py\", line 1401, in train_function\n\n  File \"/scratch/hawk/PTR-augur/notebooks/.venv/lib64/python3.11/site-packages/keras/src/engine/training.py\", line 1384, in step_function\n\n  File \"/scratch/hawk/PTR-augur/notebooks/.venv/lib64/python3.11/site-packages/keras/src/engine/training.py\", line 1373, in run_step\n\n  File \"/scratch/hawk/PTR-augur/notebooks/.venv/lib64/python3.11/site-packages/keras/src/engine/training.py\", line 1150, in train_step\n\n  File \"/scratch/hawk/PTR-augur/notebooks/.venv/lib64/python3.11/site-packages/keras/src/utils/traceback_utils.py\", line 65, in error_handler\n\n  File \"/scratch/hawk/PTR-augur/notebooks/.venv/lib64/python3.11/site-packages/keras/src/engine/training.py\", line 590, in __call__\n\n  File \"/scratch/hawk/PTR-augur/notebooks/.venv/lib64/python3.11/site-packages/keras/src/utils/traceback_utils.py\", line 65, in error_handler\n\n  File \"/scratch/hawk/PTR-augur/notebooks/.venv/lib64/python3.11/site-packages/keras/src/engine/base_layer.py\", line 1149, in __call__\n\n  File \"/scratch/hawk/PTR-augur/notebooks/.venv/lib64/python3.11/site-packages/keras/src/utils/traceback_utils.py\", line 96, in error_handler\n\n  File \"/scratch/hawk/PTR-augur/notebooks/.venv/lib64/python3.11/site-packages/keras/src/engine/functional.py\", line 515, in call\n\n  File \"/scratch/hawk/PTR-augur/notebooks/.venv/lib64/python3.11/site-packages/keras/src/engine/functional.py\", line 672, in _run_internal_graph\n\n  File \"/scratch/hawk/PTR-augur/notebooks/.venv/lib64/python3.11/site-packages/keras/src/utils/traceback_utils.py\", line 65, in error_handler\n\n  File \"/scratch/hawk/PTR-augur/notebooks/.venv/lib64/python3.11/site-packages/keras/src/engine/base_layer.py\", line 1149, in __call__\n\n  File \"/scratch/hawk/PTR-augur/notebooks/.venv/lib64/python3.11/site-packages/keras/src/utils/traceback_utils.py\", line 96, in error_handler\n\n  File \"/scratch/hawk/PTR-augur/notebooks/.venv/lib64/python3.11/site-packages/keras/src/layers/regularization/dropout.py\", line 120, in call\n\n  File \"/scratch/hawk/PTR-augur/notebooks/.venv/lib64/python3.11/site-packages/keras/src/utils/control_flow_util.py\", line 108, in smart_cond\n\n  File \"/scratch/hawk/PTR-augur/notebooks/.venv/lib64/python3.11/site-packages/keras/src/layers/regularization/dropout.py\", line 116, in dropped_inputs\n\n  File \"/scratch/hawk/PTR-augur/notebooks/.venv/lib64/python3.11/site-packages/keras/src/backend.py\", line 2170, in dropout\n\nOOM when allocating tensor with shape[16,1000,896] and type float on /job:localhost/replica:0/task:0/device:GPU:0 by allocator GPU_0_bfc\n\t [[{{node BaselineModel/dropout_7/dropout/random_uniform/RandomUniform}}]]\nHint: If you want to see a list of allocated tensors when OOM happens, add report_tensor_allocations_upon_oom to RunOptions for current allocation info. This isn't available when running in Eager mode.\n [Op:__inference_train_function_907543]",
     "output_type": "error",
     "traceback": [
      "\u001b[0;31m---------------------------------------------------------------------------\u001b[0m",
      "\u001b[0;31mResourceExhaustedError\u001b[0m                    Traceback (most recent call last)",
      "File \u001b[0;32m<timed exec>:37\u001b[0m\n",
      "Cell \u001b[0;32mIn[8], line 14\u001b[0m, in \u001b[0;36mrun_model\u001b[0;34m(model, train_ds, val_ds, epochs, start_epoch, oneshot, verbose)\u001b[0m\n\u001b[1;32m      6\u001b[0m     verbose_fit \u001b[38;5;241m=\u001b[39m \u001b[38;5;241m0\u001b[39m\n\u001b[1;32m      8\u001b[0m model\u001b[38;5;241m.\u001b[39mcompile(\n\u001b[1;32m      9\u001b[0m     loss\u001b[38;5;241m=\u001b[39mkeras\u001b[38;5;241m.\u001b[39mlosses\u001b[38;5;241m.\u001b[39mMeanSquaredError(),\n\u001b[1;32m     10\u001b[0m     optimizer\u001b[38;5;241m=\u001b[39mkeras\u001b[38;5;241m.\u001b[39moptimizers\u001b[38;5;241m.\u001b[39mAdam(),\n\u001b[1;32m     11\u001b[0m     metrics\u001b[38;5;241m=\u001b[39m[keras\u001b[38;5;241m.\u001b[39mmetrics\u001b[38;5;241m.\u001b[39mMeanAbsoluteError()],\n\u001b[1;32m     12\u001b[0m )\n\u001b[0;32m---> 14\u001b[0m history \u001b[38;5;241m=\u001b[39m \u001b[43mmodel\u001b[49m\u001b[38;5;241;43m.\u001b[39;49m\u001b[43mfit\u001b[49m\u001b[43m(\u001b[49m\n\u001b[1;32m     15\u001b[0m \u001b[43m    \u001b[49m\u001b[43mtrain_ds\u001b[49m\u001b[43m,\u001b[49m\n\u001b[1;32m     16\u001b[0m \u001b[43m    \u001b[49m\u001b[43mepochs\u001b[49m\u001b[38;5;241;43m=\u001b[39;49m\u001b[43mepochs\u001b[49m\u001b[43m,\u001b[49m\n\u001b[1;32m     17\u001b[0m \u001b[43m    \u001b[49m\u001b[43mvalidation_data\u001b[49m\u001b[38;5;241;43m=\u001b[39;49m\u001b[43mval_ds\u001b[49m\u001b[43m,\u001b[49m\n\u001b[1;32m     18\u001b[0m \u001b[43m    \u001b[49m\u001b[43mverbose\u001b[49m\u001b[38;5;241;43m=\u001b[39;49m\u001b[43mverbose_fit\u001b[49m\u001b[43m,\u001b[49m\n\u001b[1;32m     19\u001b[0m \u001b[43m    \u001b[49m\u001b[43mcallbacks\u001b[49m\u001b[38;5;241;43m=\u001b[39;49m\u001b[43m[\u001b[49m\u001b[43mGarbageCollectorCallback\u001b[49m\u001b[43m(\u001b[49m\u001b[43m)\u001b[49m\u001b[43m]\u001b[49m\n\u001b[1;32m     20\u001b[0m \u001b[43m\u001b[49m\u001b[43m)\u001b[49m\n\u001b[1;32m     22\u001b[0m \u001b[38;5;28;01mif\u001b[39;00m oneshot \u001b[38;5;241m==\u001b[39m \u001b[38;5;28;01mTrue\u001b[39;00m:\n\u001b[1;32m     23\u001b[0m     plot_loss(\n\u001b[1;32m     24\u001b[0m         history\u001b[38;5;241m.\u001b[39mhistory[\u001b[38;5;124m'\u001b[39m\u001b[38;5;124mmean_absolute_error\u001b[39m\u001b[38;5;124m'\u001b[39m],\n\u001b[1;32m     25\u001b[0m         history\u001b[38;5;241m.\u001b[39mhistory[\u001b[38;5;124m'\u001b[39m\u001b[38;5;124mval_mean_absolute_error\u001b[39m\u001b[38;5;124m'\u001b[39m],\n\u001b[1;32m     26\u001b[0m         start_epoch\n\u001b[1;32m     27\u001b[0m     )\n",
      "File \u001b[0;32m/scratch/hawk/PTR-augur/notebooks/.venv/lib64/python3.11/site-packages/keras/src/utils/traceback_utils.py:70\u001b[0m, in \u001b[0;36mfilter_traceback.<locals>.error_handler\u001b[0;34m(*args, **kwargs)\u001b[0m\n\u001b[1;32m     67\u001b[0m     filtered_tb \u001b[38;5;241m=\u001b[39m _process_traceback_frames(e\u001b[38;5;241m.\u001b[39m__traceback__)\n\u001b[1;32m     68\u001b[0m     \u001b[38;5;66;03m# To get the full stack trace, call:\u001b[39;00m\n\u001b[1;32m     69\u001b[0m     \u001b[38;5;66;03m# `tf.debugging.disable_traceback_filtering()`\u001b[39;00m\n\u001b[0;32m---> 70\u001b[0m     \u001b[38;5;28;01mraise\u001b[39;00m e\u001b[38;5;241m.\u001b[39mwith_traceback(filtered_tb) \u001b[38;5;28;01mfrom\u001b[39;00m \u001b[38;5;28;01mNone\u001b[39;00m\n\u001b[1;32m     71\u001b[0m \u001b[38;5;28;01mfinally\u001b[39;00m:\n\u001b[1;32m     72\u001b[0m     \u001b[38;5;28;01mdel\u001b[39;00m filtered_tb\n",
      "File \u001b[0;32m/scratch/hawk/PTR-augur/notebooks/.venv/lib64/python3.11/site-packages/tensorflow/python/eager/execute.py:53\u001b[0m, in \u001b[0;36mquick_execute\u001b[0;34m(op_name, num_outputs, inputs, attrs, ctx, name)\u001b[0m\n\u001b[1;32m     51\u001b[0m \u001b[38;5;28;01mtry\u001b[39;00m:\n\u001b[1;32m     52\u001b[0m   ctx\u001b[38;5;241m.\u001b[39mensure_initialized()\n\u001b[0;32m---> 53\u001b[0m   tensors \u001b[38;5;241m=\u001b[39m pywrap_tfe\u001b[38;5;241m.\u001b[39mTFE_Py_Execute(ctx\u001b[38;5;241m.\u001b[39m_handle, device_name, op_name,\n\u001b[1;32m     54\u001b[0m                                       inputs, attrs, num_outputs)\n\u001b[1;32m     55\u001b[0m \u001b[38;5;28;01mexcept\u001b[39;00m core\u001b[38;5;241m.\u001b[39m_NotOkStatusException \u001b[38;5;28;01mas\u001b[39;00m e:\n\u001b[1;32m     56\u001b[0m   \u001b[38;5;28;01mif\u001b[39;00m name \u001b[38;5;129;01mis\u001b[39;00m \u001b[38;5;129;01mnot\u001b[39;00m \u001b[38;5;28;01mNone\u001b[39;00m:\n",
      "\u001b[0;31mResourceExhaustedError\u001b[0m: Graph execution error:\n\nDetected at node BaselineModel/dropout_7/dropout/random_uniform/RandomUniform defined at (most recent call last):\n  File \"<frozen runpy>\", line 198, in _run_module_as_main\n\n  File \"<frozen runpy>\", line 88, in _run_code\n\n  File \"/scratch/hawk/PTR-augur/notebooks/.venv/lib64/python3.11/site-packages/ipykernel_launcher.py\", line 17, in <module>\n\n  File \"/scratch/hawk/PTR-augur/notebooks/.venv/lib64/python3.11/site-packages/traitlets/config/application.py\", line 1053, in launch_instance\n\n  File \"/scratch/hawk/PTR-augur/notebooks/.venv/lib64/python3.11/site-packages/ipykernel/kernelapp.py\", line 737, in start\n\n  File \"/scratch/hawk/PTR-augur/notebooks/.venv/lib64/python3.11/site-packages/tornado/platform/asyncio.py\", line 195, in start\n\n  File \"/usr/lib64/python3.11/asyncio/base_events.py\", line 607, in run_forever\n\n  File \"/usr/lib64/python3.11/asyncio/base_events.py\", line 1922, in _run_once\n\n  File \"/usr/lib64/python3.11/asyncio/events.py\", line 80, in _run\n\n  File \"/scratch/hawk/PTR-augur/notebooks/.venv/lib64/python3.11/site-packages/ipykernel/kernelbase.py\", line 524, in dispatch_queue\n\n  File \"/scratch/hawk/PTR-augur/notebooks/.venv/lib64/python3.11/site-packages/ipykernel/kernelbase.py\", line 513, in process_one\n\n  File \"/scratch/hawk/PTR-augur/notebooks/.venv/lib64/python3.11/site-packages/ipykernel/kernelbase.py\", line 418, in dispatch_shell\n\n  File \"/scratch/hawk/PTR-augur/notebooks/.venv/lib64/python3.11/site-packages/ipykernel/kernelbase.py\", line 758, in execute_request\n\n  File \"/scratch/hawk/PTR-augur/notebooks/.venv/lib64/python3.11/site-packages/ipykernel/ipkernel.py\", line 426, in do_execute\n\n  File \"/scratch/hawk/PTR-augur/notebooks/.venv/lib64/python3.11/site-packages/ipykernel/zmqshell.py\", line 549, in run_cell\n\n  File \"/scratch/hawk/PTR-augur/notebooks/.venv/lib64/python3.11/site-packages/IPython/core/interactiveshell.py\", line 3046, in run_cell\n\n  File \"/scratch/hawk/PTR-augur/notebooks/.venv/lib64/python3.11/site-packages/IPython/core/interactiveshell.py\", line 3101, in _run_cell\n\n  File \"/scratch/hawk/PTR-augur/notebooks/.venv/lib64/python3.11/site-packages/IPython/core/async_helpers.py\", line 129, in _pseudo_sync_runner\n\n  File \"/scratch/hawk/PTR-augur/notebooks/.venv/lib64/python3.11/site-packages/IPython/core/interactiveshell.py\", line 3306, in run_cell_async\n\n  File \"/scratch/hawk/PTR-augur/notebooks/.venv/lib64/python3.11/site-packages/IPython/core/interactiveshell.py\", line 3488, in run_ast_nodes\n\n  File \"/scratch/hawk/PTR-augur/notebooks/.venv/lib64/python3.11/site-packages/IPython/core/interactiveshell.py\", line 3548, in run_code\n\n  File \"/tmp/ipykernel_68230/2089603490.py\", line 1, in <module>\n\n  File \"/scratch/hawk/PTR-augur/notebooks/.venv/lib64/python3.11/site-packages/IPython/core/interactiveshell.py\", line 2515, in run_cell_magic\n\n  File \"/scratch/hawk/PTR-augur/notebooks/.venv/lib64/python3.11/site-packages/IPython/core/magics/execution.py\", line 1340, in time\n\n  File \"<timed exec>\", line 37, in <module>\n\n  File \"/tmp/ipykernel_68230/1928319210.py\", line 14, in run_model\n\n  File \"/scratch/hawk/PTR-augur/notebooks/.venv/lib64/python3.11/site-packages/keras/src/utils/traceback_utils.py\", line 65, in error_handler\n\n  File \"/scratch/hawk/PTR-augur/notebooks/.venv/lib64/python3.11/site-packages/keras/src/engine/training.py\", line 1807, in fit\n\n  File \"/scratch/hawk/PTR-augur/notebooks/.venv/lib64/python3.11/site-packages/keras/src/engine/training.py\", line 1401, in train_function\n\n  File \"/scratch/hawk/PTR-augur/notebooks/.venv/lib64/python3.11/site-packages/keras/src/engine/training.py\", line 1384, in step_function\n\n  File \"/scratch/hawk/PTR-augur/notebooks/.venv/lib64/python3.11/site-packages/keras/src/engine/training.py\", line 1373, in run_step\n\n  File \"/scratch/hawk/PTR-augur/notebooks/.venv/lib64/python3.11/site-packages/keras/src/engine/training.py\", line 1150, in train_step\n\n  File \"/scratch/hawk/PTR-augur/notebooks/.venv/lib64/python3.11/site-packages/keras/src/utils/traceback_utils.py\", line 65, in error_handler\n\n  File \"/scratch/hawk/PTR-augur/notebooks/.venv/lib64/python3.11/site-packages/keras/src/engine/training.py\", line 590, in __call__\n\n  File \"/scratch/hawk/PTR-augur/notebooks/.venv/lib64/python3.11/site-packages/keras/src/utils/traceback_utils.py\", line 65, in error_handler\n\n  File \"/scratch/hawk/PTR-augur/notebooks/.venv/lib64/python3.11/site-packages/keras/src/engine/base_layer.py\", line 1149, in __call__\n\n  File \"/scratch/hawk/PTR-augur/notebooks/.venv/lib64/python3.11/site-packages/keras/src/utils/traceback_utils.py\", line 96, in error_handler\n\n  File \"/scratch/hawk/PTR-augur/notebooks/.venv/lib64/python3.11/site-packages/keras/src/engine/functional.py\", line 515, in call\n\n  File \"/scratch/hawk/PTR-augur/notebooks/.venv/lib64/python3.11/site-packages/keras/src/engine/functional.py\", line 672, in _run_internal_graph\n\n  File \"/scratch/hawk/PTR-augur/notebooks/.venv/lib64/python3.11/site-packages/keras/src/utils/traceback_utils.py\", line 65, in error_handler\n\n  File \"/scratch/hawk/PTR-augur/notebooks/.venv/lib64/python3.11/site-packages/keras/src/engine/base_layer.py\", line 1149, in __call__\n\n  File \"/scratch/hawk/PTR-augur/notebooks/.venv/lib64/python3.11/site-packages/keras/src/utils/traceback_utils.py\", line 96, in error_handler\n\n  File \"/scratch/hawk/PTR-augur/notebooks/.venv/lib64/python3.11/site-packages/keras/src/layers/regularization/dropout.py\", line 120, in call\n\n  File \"/scratch/hawk/PTR-augur/notebooks/.venv/lib64/python3.11/site-packages/keras/src/utils/control_flow_util.py\", line 108, in smart_cond\n\n  File \"/scratch/hawk/PTR-augur/notebooks/.venv/lib64/python3.11/site-packages/keras/src/layers/regularization/dropout.py\", line 116, in dropped_inputs\n\n  File \"/scratch/hawk/PTR-augur/notebooks/.venv/lib64/python3.11/site-packages/keras/src/backend.py\", line 2170, in dropout\n\nOOM when allocating tensor with shape[16,1000,896] and type float on /job:localhost/replica:0/task:0/device:GPU:0 by allocator GPU_0_bfc\n\t [[{{node BaselineModel/dropout_7/dropout/random_uniform/RandomUniform}}]]\nHint: If you want to see a list of allocated tensors when OOM happens, add report_tensor_allocations_upon_oom to RunOptions for current allocation info. This isn't available when running in Eager mode.\n [Op:__inference_train_function_907543]"
     ]
    }
   ],
   "source": [
    "%%time\n",
    "# run k-fold cross validation\n",
    "\n",
    "# epochs to run for\n",
    "epochs = 100\n",
    "\n",
    "# timer\n",
    "t = Timer()\n",
    "\n",
    "# training and validation mean absolute error results\n",
    "train_mae = []\n",
    "val_mae = []\n",
    "\n",
    "print(f'k-fold cross validation with {num_splits} splits for {epochs} epochs')\n",
    "kf = KFold(n_splits=num_splits, shuffle=True, random_state=1202)\n",
    "for i, (train_index, val_index) in enumerate(kf.split(X_train)):\n",
    "    print(f'  processing fold {i}')\n",
    "\n",
    "    # split the data\n",
    "    print('    splitting data')\n",
    "    t.start()\n",
    "    X_train_kf, X_val_kf, y_train_kf, y_val_kf = X_train[train_index], X_train[val_index], y_train[train_index], y_train[val_index]\n",
    "    t.stop()\n",
    "\n",
    "    # build the datasets\n",
    "    print('    creating training dataset')\n",
    "    t.start()\n",
    "    train_ds = create_dataset(X_train_kf, y_train_kf, batch_size=batch_size, sort=True)\n",
    "    t.stop()\n",
    "    print('    creating validation dataset')\n",
    "    t.start()\n",
    "    val_ds = create_dataset(X_val_kf, y_val_kf, batch_size=batch_size, sort=False)\n",
    "    t.stop()\n",
    "\n",
    "    # fit the model and return mae\n",
    "    print('    fitting model')\n",
    "    t.start()\n",
    "    t_mae, v_mae = run_model(dan_zrimec_model(), train_ds, val_ds, epochs=epochs, start_epoch=1, oneshot=False, verbose=False)\n",
    "    t.stop()\n",
    "\n",
    "    # add returned mae values to the arrays\n",
    "    train_mae.append(t_mae)\n",
    "    val_mae.append(v_mae)\n",
    "\n",
    "# calculate the average\n",
    "average_train_mae = [ np.mean([ x[i] for x in train_mae ]) for i in range(epochs) ]\n",
    "average_val_mae = [ np.mean([ x[i] for x in val_mae ]) for i in range(epochs) ]\n",
    "\n",
    "# plot\n",
    "plot_loss(average_train_mae, average_val_mae, start_epoch=1)"
   ]
  },
  {
   "cell_type": "code",
   "execution_count": null,
   "id": "81e4d637-147d-4b60-bd4a-bb07c1384219",
   "metadata": {},
   "outputs": [],
   "source": [
    "# train final model\n",
    "\n",
    "# model file name\n",
    "model_name = 'model_baseline_danzrimec-penthe.keras'\n",
    "\n",
    "# timer\n",
    "t = Timer()\n",
    "\n",
    "# training and validation mean absolute error results\n",
    "train_mae = []\n",
    "val_mae = []\n",
    "\n",
    "# number of epochs to train for\n",
    "epochs = 40\n",
    "\n",
    "print(f'training final model {model_name} for {epochs} epochs')\n",
    "\n",
    "print('  creating training dataset')\n",
    "t.start()\n",
    "train_ds = create_dataset(X_train, y_train, batch_size=batch_size, sort=True)\n",
    "t.stop()\n",
    "\n",
    "print('  building model')\n",
    "model = dan_zrimec_model()\n",
    "\n",
    "print('  training model')\n",
    "t.start()\n",
    "run_model(model, train_ds, None, epochs=epochs, start_epoch=1, oneshot=False, verbose=False)\n",
    "t.stop()\n",
    "\n",
    "print('  evaluating model')\n",
    "mae = model.evaluate(test_ds)\n",
    "print(f'  mean absolute evaluation error is {mae}')\n",
    "\n",
    "print('  saving model')\n",
    "model.save(model_name)"
   ]
  },
  {
   "cell_type": "code",
   "execution_count": null,
   "id": "77c94735-fe6c-46bc-815d-ef0a7f6def94",
   "metadata": {},
   "outputs": [],
   "source": [
    "%%time\n",
    "# run k-fold cross validation\n",
    "\n",
    "# epochs to run for\n",
    "epochs = 60\n",
    "\n",
    "# timer\n",
    "t = Timer()\n",
    "\n",
    "# training and validation mean absolute error results\n",
    "train_mae = []\n",
    "val_mae = []\n",
    "\n",
    "print(f'k-fold cross validation with {num_splits} splits for {epochs} epochs')\n",
    "kf = KFold(n_splits=num_splits, shuffle=True, random_state=1202)\n",
    "for i, (train_index, val_index) in enumerate(kf.split(X_train)):\n",
    "    print(f'  processing fold {i}')\n",
    "\n",
    "    # split the data\n",
    "    print('    splitting data')\n",
    "    t.start()\n",
    "    X_train_kf, X_val_kf, y_train_kf, y_val_kf = X_train[train_index], X_train[val_index], y_train[train_index], y_train[val_index]\n",
    "    t.stop()\n",
    "\n",
    "    # build the datasets\n",
    "    print('    creating training dataset')\n",
    "    t.start()\n",
    "    train_ds = create_dataset(X_train_kf, y_train_kf, batch_size=batch_size, sort=True)\n",
    "    t.stop()\n",
    "    print('    creating validation dataset')\n",
    "    t.start()\n",
    "    val_ds = create_dataset(X_val_kf, y_val_kf, batch_size=batch_size, sort=False)\n",
    "    t.stop()\n",
    "\n",
    "    # fit the model and return mae\n",
    "    print('    fitting model')\n",
    "    t.start()\n",
    "    t_mae, v_mae = run_model(dan_zrimec_model2(), train_ds, val_ds, epochs=epochs, start_epoch=1, oneshot=False, verbose=False)\n",
    "    t.stop()\n",
    "\n",
    "    # add returned mae values to the arrays\n",
    "    train_mae.append(t_mae)\n",
    "    val_mae.append(v_mae)\n",
    "\n",
    "# calculate the average\n",
    "average_train_mae = [ np.mean([ x[i] for x in train_mae ]) for i in range(epochs) ]\n",
    "average_val_mae = [ np.mean([ x[i] for x in val_mae ]) for i in range(epochs) ]\n",
    "\n",
    "# plot\n",
    "plot_loss(average_train_mae, average_val_mae, start_epoch=1)"
   ]
  },
  {
   "cell_type": "code",
   "execution_count": null,
   "id": "e67d3b78-6d7f-489c-a5f6-3a91f47f751c",
   "metadata": {},
   "outputs": [],
   "source": [
    "# train final model\n",
    "\n",
    "# model file name\n",
    "model_name = 'model_baseline_danzrimec2.keras'\n",
    "\n",
    "# timer\n",
    "t = Timer()\n",
    "\n",
    "# training and validation mean absolute error results\n",
    "train_mae = []\n",
    "val_mae = []\n",
    "\n",
    "# number of epochs to train for\n",
    "epochs = 40\n",
    "\n",
    "print(f'training final model {model_name} for {epochs} epochs')\n",
    "\n",
    "print('  creating training dataset')\n",
    "t.start()\n",
    "train_ds = create_dataset(X_train, y_train, batch_size=batch_size, sort=True)\n",
    "t.stop()\n",
    "\n",
    "print('  building model')\n",
    "model = dan_zrimec_model2()\n",
    "\n",
    "print('  training model')\n",
    "t.start()\n",
    "run_model(model, train_ds, None, epochs=epochs, start_epoch=1, oneshot=False, verbose=False)\n",
    "t.stop()\n",
    "\n",
    "print('  evaluating model')\n",
    "mae = model.evaluate(test_ds)\n",
    "print(f'  mean absolute evaluation error is {mae}')\n",
    "\n",
    "print('  saving model')\n",
    "model.save(model_name)"
   ]
  },
  {
   "cell_type": "code",
   "execution_count": null,
   "id": "ff8053c0-8c5f-4da9-9217-d8bb8a1433b6",
   "metadata": {},
   "outputs": [],
   "source": []
  },
  {
   "cell_type": "markdown",
   "id": "181cfeca-7bde-4da8-aa66-3e4379026cd5",
   "metadata": {},
   "source": [
    "# what are the steps?\n",
    "\n",
    "- create ragged tensor from X_test\n",
    "- create dataset from X_test and y_test\n",
    "\n",
    "k-fold cross validation for the baseline neural network\n",
    "- input is X_train, y_train\n",
    "- using KFold this will be split in k folds\n",
    "  - sort the trainin part\n",
    "  - convert X to ragged tensor\n",
    "  - create dataset\n",
    "  - train\n",
    "  - evaluate\n",
    "- evaluate the cross fold performance\n",
    "- rerun model with the whole dataset (test+val)\n",
    "- save the model\n",
    "```\n",
    "kf = KFold(n_splits=num_splits, shuffle=True, random_state=1202)\n",
    "for i, (train_index, val_index) in enumerate(kf.split(X_train)):\n",
    "    print(f\"Fold {i}:\")\n",
    "    X_train_kf, X_test_kf, y_train_kf, y_test_kf = X_train[train_index], X_train[test_index], y_train[train_index], y_train[test_index]\n",
    "    # sort X_train_kf and y_train_kf\n",
    "    # convert X_train_kf to ragged tensor\n",
    "    # create dataset from X_train_kf and y_train_kf\n",
    "    # do the training and evaluation\n",
    "# evaluate the cross fold performance\n",
    "```\n",
    "\n",
    "train/val split for the full neural network -> separate jupyter notebook\n",
    "- input X_train, y_train\n",
    "- split the training test set again in train and val\n",
    "- create ragged tensor from training X\n",
    "- create dataset from training X and y\n",
    "- train\n",
    "- evaluate\n",
    "- rerun the model with the whole dataset (test+val)\n",
    "- save the model\n",
    "\n",
    "\n",
    "what have both in common?\n",
    "- data load and initial prep (up to the first split)\n",
    "- model setup\n",
    "- training setup\n",
    "- visualisation\n",
    "- evaluation -> this is just one command\n",
    "\n",
    "helpful methods\n",
    "- create_dataset(X, y, sort=False)\n",
    "  input X and y, specify if the dataset should be sorted\n",
    "  returns a TF dataset\n",
    "- run_model(model, epochs, plot=True, plot_epoch_start=0)\n",
    "- plot_loss()\n",
    "\n",
    "- callbacks\n",
    "    - earlystopping -> to limit training that doesn't progress, only for the tuner\n",
    "    - backupandrestore -> for the full training as fault tolerance setup\n",
    "    - modelcheckpoint -> to save the best model on the final train"
   ]
  },
  {
   "cell_type": "code",
   "execution_count": null,
   "id": "bcbc7e7c-4981-4ce5-9435-b20fea7cd399",
   "metadata": {},
   "outputs": [],
   "source": []
  },
  {
   "cell_type": "code",
   "execution_count": null,
   "id": "45b8d99d-4c8c-4af2-b9ce-77df859362a3",
   "metadata": {},
   "outputs": [],
   "source": [
    "# split the train set again in train and validation\n",
    "X_train, X_val, y_train, y_val = train_test_split(X_train, y_train, test_size=0.2, random_state=1202)"
   ]
  },
  {
   "cell_type": "code",
   "execution_count": null,
   "id": "6c86b943-3471-42b6-bef0-e60a0e376568",
   "metadata": {},
   "outputs": [],
   "source": [
    "# find the first unique PTR value that is also in y_train\n",
    "train_idx = 0\n",
    "for i in range(len(y)):\n",
    "    count = 0\n",
    "    for l in range(len(y)):\n",
    "        if i != l and y[i] == y[l]:\n",
    "            count += 1\n",
    "            continue\n",
    "    if count == 0:\n",
    "        for m in range(len(y_train)):\n",
    "            if y[i] == y_train[m]:\n",
    "                train_idx = m\n",
    "                break\n",
    "train_idx"
   ]
  },
  {
   "cell_type": "code",
   "execution_count": null,
   "id": "387f1c55-480e-459b-b295-ddc038493283",
   "metadata": {},
   "outputs": [],
   "source": [
    "# get a sample\n",
    "X_train[train_idx]"
   ]
  },
  {
   "cell_type": "code",
   "execution_count": null,
   "id": "82384079-68d4-4ca6-9301-b856d56aeb4d",
   "metadata": {},
   "outputs": [],
   "source": [
    "# get the matching target\n",
    "search_y = y_train[train_idx]\n",
    "search_y"
   ]
  },
  {
   "cell_type": "code",
   "execution_count": null,
   "id": "737386f4-6bdc-446b-8f31-a910f9f015c7",
   "metadata": {},
   "outputs": [],
   "source": [
    "# find the target value in the raw dataset\n",
    "full_idx = 0\n",
    "for i in range(len(y)):\n",
    "    if y[i] == search_y:\n",
    "        print(i)\n",
    "        full_idx = i"
   ]
  },
  {
   "cell_type": "code",
   "execution_count": null,
   "id": "29af14a0-e1a3-45ab-8d0b-56dc0020917b",
   "metadata": {},
   "outputs": [],
   "source": [
    "# compare if the raw dataset entry matches the subset entry\n",
    "if X[full_idx].all() == X_train[train_idx].all():\n",
    "    print('OK')"
   ]
  },
  {
   "cell_type": "markdown",
   "id": "f4f525a1-3fef-4b27-b7ee-eb136ff06ebc",
   "metadata": {},
   "source": [
    "### Sort Training Data"
   ]
  },
  {
   "cell_type": "code",
   "execution_count": null,
   "id": "94fc569c-9d02-4619-82bf-ebf4e4caaf49",
   "metadata": {},
   "outputs": [],
   "source": [
    "# build an inhomogenous numpy array from the training set\n",
    "X_train = np.array(X_train, dtype=object)"
   ]
  },
  {
   "cell_type": "code",
   "execution_count": null,
   "id": "bbc1d8b7-225a-43b4-a3a7-344569269d8a",
   "metadata": {},
   "outputs": [],
   "source": [
    "# build an array containing the sequence lengths\n",
    "sequence_lengths = list(map(lambda x: len(x), X_train))"
   ]
  },
  {
   "cell_type": "code",
   "execution_count": null,
   "id": "5360be4d-b70c-4fe6-9515-a0b904e0fa3d",
   "metadata": {},
   "outputs": [],
   "source": [
    "# sort the array but only get the indices\n",
    "sorted_indices = np.argsort(sequence_lengths)"
   ]
  },
  {
   "cell_type": "code",
   "execution_count": null,
   "id": "0200e456-a746-417d-bc9c-ca4f75fa973b",
   "metadata": {},
   "outputs": [],
   "source": [
    "sorted_indices"
   ]
  },
  {
   "cell_type": "code",
   "execution_count": null,
   "id": "75abd9cc-7c09-40b0-b5a0-619bfc2e5a6b",
   "metadata": {},
   "outputs": [],
   "source": [
    "# now sort the X and y train arrays according to the sorted indicds\n",
    "X_train = X_train[sorted_indices]\n",
    "y_train = y_train[sorted_indices]"
   ]
  },
  {
   "cell_type": "code",
   "execution_count": null,
   "id": "d9070a40-d333-4008-9a8b-edb277a5209c",
   "metadata": {},
   "outputs": [],
   "source": [
    "# check if the previously found values still correlate\n",
    "for i in range(len(y_train)):\n",
    "    if y_train[i] == search_y:\n",
    "        print(X_train[i])"
   ]
  },
  {
   "cell_type": "markdown",
   "id": "48e10faa-ea20-42bb-bd97-75395da099c9",
   "metadata": {},
   "source": [
    "### Ragged Tensor Tests"
   ]
  },
  {
   "cell_type": "code",
   "execution_count": null,
   "id": "b86fae6d-0aa3-4bb5-97ec-e2e8920e1b23",
   "metadata": {},
   "outputs": [],
   "source": [
    "# this does not work since the sequences are of different length\n",
    "# X_test_dataset = tf.data.Dataset.from_tensor_slices((X_test, y_test))"
   ]
  },
  {
   "cell_type": "code",
   "execution_count": null,
   "id": "3d39e886-2279-4bbb-a838-c44e26ba3ef6",
   "metadata": {},
   "outputs": [],
   "source": [
    "%%time\n",
    "X_train_tensor = tf.ragged.constant(X_train, dtype=tf.int8, ragged_rank=1, row_splits_dtype=tf.int32)\n",
    "X_val_tensor = tf.ragged.constant(X_val, dtype=tf.int8, ragged_rank=1, row_splits_dtype=tf.int32)"
   ]
  },
  {
   "cell_type": "code",
   "execution_count": null,
   "id": "850a17ad-bb52-4365-9424-3447b37529ab",
   "metadata": {},
   "outputs": [],
   "source": [
    "X_train_dataset = tf.data.Dataset.from_tensor_slices((X_train_tensor, y_train))\n",
    "X_val_dataset = tf.data.Dataset.from_tensor_slices((X_val_tensor, y_val))"
   ]
  },
  {
   "cell_type": "code",
   "execution_count": null,
   "id": "c506f768-6e15-4c6f-872b-0038d177dd57",
   "metadata": {},
   "outputs": [],
   "source": [
    "X_train_dataset.element_spec"
   ]
  },
  {
   "cell_type": "code",
   "execution_count": null,
   "id": "907d3def-dbf3-4830-aad6-5368d664e235",
   "metadata": {},
   "outputs": [],
   "source": [
    "X_val_dataset.element_spec"
   ]
  },
  {
   "cell_type": "code",
   "execution_count": null,
   "id": "a705eb41-faff-44f3-b262-88b883ec013a",
   "metadata": {},
   "outputs": [],
   "source": [
    "# padded batches from ragged tensors are not supported (yet)\n",
    "# it needs a work around creating a uniform tensor\n",
    "# idea from : https://github.com/tensorflow/tensorflow/issues/39163\n",
    "def reformat(data, label):\n",
    "    return data, label"
   ]
  },
  {
   "cell_type": "code",
   "execution_count": null,
   "id": "805f9521-15da-4791-9a6a-5cf3dca18a31",
   "metadata": {},
   "outputs": [],
   "source": [
    "X_train_dataset = X_train_dataset.map(reformat)\n",
    "X_val_dataset = X_val_dataset.map(reformat)"
   ]
  },
  {
   "cell_type": "code",
   "execution_count": null,
   "id": "8e6e1c8a-efb9-455b-a3b3-cabc2d02daa3",
   "metadata": {},
   "outputs": [],
   "source": [
    "# shuffle the dataset (again) and create padded batches\n",
    "batch_size = 64\n",
    "X_train_dataset = X_train_dataset.padded_batch(batch_size)\n",
    "X_val_dataset = X_val_dataset.shuffle(buffer_size=len(X_val), seed=1202).padded_batch(batch_size)"
   ]
  },
  {
   "cell_type": "code",
   "execution_count": null,
   "id": "2b2fa149-8b00-4210-8a33-2a3b810cbd49",
   "metadata": {},
   "outputs": [],
   "source": [
    "# optinally repeat the dataset multiple times -> WHY?\n",
    "# rep = 3\n",
    "# X_train_dataset = X_train_dataset.repeat(rep)\n",
    "# X_val_dataset = X_val_dataset.repeat(rep)"
   ]
  },
  {
   "cell_type": "code",
   "execution_count": null,
   "id": "49244b0a-a161-457b-88d2-ba4417d89110",
   "metadata": {},
   "outputs": [],
   "source": [
    "datalen = []\n",
    "ds_iterator = iter(X_train_dataset)\n",
    "for data, label in ds_iterator:\n",
    "    datalen.append(len(data[1]))"
   ]
  },
  {
   "cell_type": "code",
   "execution_count": null,
   "id": "6fa0eb29-ea9c-4272-8cf9-682c9fe01451",
   "metadata": {},
   "outputs": [],
   "source": [
    "datalen[:5]"
   ]
  },
  {
   "cell_type": "code",
   "execution_count": null,
   "id": "f5ba5416-4ed2-4d5f-8123-5e67e46b4dd5",
   "metadata": {},
   "outputs": [],
   "source": [
    "# testing if keras can use the dataset\n",
    "model = tf.keras.Sequential([\n",
    "    tf.keras.layers.Dense(16, activation='relu', input_shape=(None,4)),\n",
    "    tf.keras.layers.Dense(1, activation='sigmoid')\n",
    "])\n",
    "model.compile(optimizer='adam', loss='mse', metrics=['mae'])\n",
    "model.fit(X_train_dataset, epochs=1)"
   ]
  }
 ],
 "metadata": {
  "kernelspec": {
   "display_name": "Python 3 (ipykernel)",
   "language": "python",
   "name": "python3"
  },
  "language_info": {
   "codemirror_mode": {
    "name": "ipython",
    "version": 3
   },
   "file_extension": ".py",
   "mimetype": "text/x-python",
   "name": "python",
   "nbconvert_exporter": "python",
   "pygments_lexer": "ipython3",
   "version": "3.11.6"
  }
 },
 "nbformat": 4,
 "nbformat_minor": 5
}
