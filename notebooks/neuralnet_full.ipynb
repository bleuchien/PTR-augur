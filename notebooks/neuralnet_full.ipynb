{
 "cells": [
  {
   "cell_type": "markdown",
   "id": "1ce73b25-d36d-413d-a323-67e9a246b21b",
   "metadata": {},
   "source": [
    "# Full Neural Network Setup\n",
    "\n",
    "*run on ds6*"
   ]
  },
  {
   "cell_type": "code",
   "execution_count": 26,
   "id": "2874d9ad-1cd5-4f33-bcf6-178552b4ecc4",
   "metadata": {},
   "outputs": [],
   "source": [
    "# library dependencies\n",
    "import numpy as np\n",
    "from pathlib import Path\n",
    "import matplotlib.pyplot as plt\n",
    "import lzma\n",
    "import pickle\n",
    "from sklearn.model_selection import train_test_split\n",
    "from sklearn.model_selection import KFold\n",
    "import keras\n",
    "from keras import layers\n",
    "import tensorflow as tf\n",
    "import keras_tuner\n",
    "import math\n",
    "import time\n",
    "import gc"
   ]
  },
  {
   "cell_type": "code",
   "execution_count": 2,
   "id": "7b634de2-ee59-4979-ae29-9ce9ab8a2909",
   "metadata": {},
   "outputs": [],
   "source": [
    "# method to store data as serialized binary structure lzma compressed\n",
    "def can_pickles(data, filename):\n",
    "    with lzma.LZMAFile(filename, 'wb') as f:\n",
    "        pickle.dump(data, f, pickle.DEFAULT_PROTOCOL)\n",
    "\n",
    "# method to retrieve data from a compressed pickle file (created with the method above)\n",
    "def uncan_pickles(filename):\n",
    "    with lzma.LZMAFile(filename, 'rb') as f:\n",
    "        return pickle.load(f)"
   ]
  },
  {
   "cell_type": "code",
   "execution_count": 3,
   "id": "29c2a628-8756-4b25-844b-10352d9ce814",
   "metadata": {},
   "outputs": [],
   "source": [
    "# helper method to create a valid dataset\n",
    "# padded batches from ragged tensors are not supported (yet)\n",
    "# it needs a work around creating a uniform tensor\n",
    "# idea from : https://github.com/tensorflow/tensorflow/issues/39163\n",
    "def reformat(data, label):\n",
    "    return data, label\n",
    "\n",
    "# method to create a TF dataset\n",
    "def create_dataset(X1_np_array, X2_np_array, y_np_array, batch_size=32, sort=False):\n",
    "    # sort the arrays\n",
    "    if sort == True:\n",
    "        # build an array containing the sequence lengths\n",
    "        sequence_lengths = list(map(lambda x: len(x), X1_np_array))\n",
    "        # sort the array but only get the indices\n",
    "        sorted_indices = np.argsort(sequence_lengths)\n",
    "        # now sort the X and y train arrays according to the sorted indicds\n",
    "        X1_np_array = X1_np_array[sorted_indices]\n",
    "        X2_np_array = X2_np_array[sorted_indices]\n",
    "        y_np_array = y_np_array[sorted_indices]\n",
    "\n",
    "    # create ragged tensor from in-homogeneous array\n",
    "    # using .constant is incredibly slow, even slower with parameters\n",
    "    # ie. 100 samples take 7 seconds, with parameters it takes 11 seconds\n",
    "    # using the following method that seems nuts it's a speedup for the previous example to 0.02 seconds\n",
    "    # X_tensor = tf.ragged.constant(X1_np_array, dtype=tf.int8, ragged_rank=1, row_splits_dtype=tf.int32)\n",
    "    # https://github.com/tensorflow/tensorflow/issues/47853\n",
    "    X_tensor = tf.RaggedTensor.from_row_lengths(\n",
    "        values=tf.concat(X1_np_array.tolist(), axis=0),\n",
    "        row_lengths=[len(a) for a in X1_np_array]\n",
    "    )\n",
    "    \n",
    "    # create dataset\n",
    "    ds = tf.data.Dataset.from_tensor_slices(({'inputs_1': X_tensor, 'inputs_2': X2_np_array}, y_np_array))\n",
    "\n",
    "    # create a dataset of dense tensors\n",
    "    ds = ds.map(reformat)\n",
    "\n",
    "    # apply padded batching to the dataset\n",
    "    ds = ds.padded_batch(batch_size)\n",
    "    \n",
    "    return ds"
   ]
  },
  {
   "cell_type": "code",
   "execution_count": 49,
   "id": "d13c3c1f-0eef-41c7-a4cb-8f1287335b64",
   "metadata": {},
   "outputs": [],
   "source": [
    "# method to plot two MAE arrays\n",
    "def plot_loss(train_mae, val_mae, start_epoch=1):\n",
    "    # get the number of epochs the training ran\n",
    "    epochs = range(start_epoch, len(train_mae) + 1)\n",
    "    # plot the graph\n",
    "    plt.plot(epochs, train_mae[start_epoch - 1:], \"bo\", label=\"Training\")\n",
    "    plt.plot(epochs, val_mae[start_epoch - 1:], \"b\", label=\"Validation\")\n",
    "    plt.title(\"Training and Validation Mean Absolute Error\")\n",
    "    plt.xlabel(\"Epochs\")\n",
    "    plt.ylabel(\"MAE\")\n",
    "    plt.legend()\n",
    "    plt.show()"
   ]
  },
  {
   "cell_type": "code",
   "execution_count": 5,
   "id": "57ee08f6-464e-4492-9931-69e754ab2d40",
   "metadata": {},
   "outputs": [],
   "source": [
    "# model to work with\n",
    "# from keras-tuner run:\n",
    "#   conv_units: 424\n",
    "#   kernel_size: 30\n",
    "#   rate: 0.30000000000000004\n",
    "#   dense_units: 128\n",
    "def augur_model():\n",
    "    inputs_1 = layers.Input(shape=(None, 10), name='inputs_1')\n",
    "    \n",
    "    conv1 = layers.Conv1D(\n",
    "        filters=424,\n",
    "        kernel_size=30,\n",
    "        strides=1,\n",
    "        activation='relu',\n",
    "        padding='valid'\n",
    "    )(inputs_1)\n",
    "    norm1 = layers.BatchNormalization()(conv1)\n",
    "    drop1 = layers.Dropout(\n",
    "        rate=0.3\n",
    "    )(norm1)\n",
    "    pool1 = layers.GlobalMaxPool1D()(drop1)\n",
    "    # flat = layers.Flatten()(pool1)\n",
    "\n",
    "    inputs_2 = layers.Input(shape=(29,), name='inputs_2')\n",
    "\n",
    "    conc = layers.Concatenate(axis=1)([pool1, inputs_2])\n",
    "    \n",
    "    dense = layers.Dense(128, activation='relu')(conc)\n",
    "    outputs = layers.Dense(1)(dense)\n",
    "    \n",
    "    model = keras.Model(inputs=[inputs_1, inputs_2], outputs=outputs, name='Test')\n",
    "\n",
    "    return model"
   ]
  },
  {
   "cell_type": "code",
   "execution_count": 6,
   "id": "81491a3c-2246-482f-ab53-c8ab281e24da",
   "metadata": {},
   "outputs": [],
   "source": [
    "def dan_zrimec_model():\n",
    "    inputs_1 = layers.Input(shape=(None, 10), name='inputs_1')\n",
    "    \n",
    "    # 1D convolution\n",
    "    conv = layers.Conv1D(\n",
    "        filters=280,\n",
    "        kernel_size=12, \n",
    "        strides=1, \n",
    "        activation='relu'\n",
    "    )(inputs_1)\n",
    "    # batch normalization\n",
    "    norm = layers.BatchNormalization()(conv)\n",
    "    # maxpool\n",
    "    pool = layers.MaxPooling1D(\n",
    "        pool_size=2,\n",
    "        strides=None\n",
    "    )(norm)\n",
    "    # dropout\n",
    "    drop = layers.Dropout(\n",
    "        rate=0.15\n",
    "    )(pool)\n",
    "    # bi-directional LSTM\n",
    "    bilstm = layers.Bidirectional(\n",
    "        layers.LSTM(\n",
    "            units=448, \n",
    "            return_sequences=True, \n",
    "            recurrent_dropout=0.3\n",
    "        ),\n",
    "        merge_mode='concat'\n",
    "        # input_shape=(8000, 4),\n",
    "    )(drop)\n",
    "    # maxpool\n",
    "    pool = layers.MaxPooling1D(\n",
    "        pool_size=2,\n",
    "        strides=None\n",
    "    )(bilstm)\n",
    "    drop = layers.Dropout(\n",
    "        rate=0.1\n",
    "    )(pool)\n",
    "    # flatten\n",
    "    # flat = layers.Flatten()(drop)\n",
    "    gmp = layers.GlobalMaxPool1D()(drop)\n",
    "\n",
    "    inputs_2 = layers.Input(shape=(29,), name='inputs_2')\n",
    "\n",
    "    conc = layers.Concatenate(axis=1)([gmp, inputs_2])\n",
    "    \n",
    "    # fully connected\n",
    "    dense = layers.Dense(\n",
    "        units=128,\n",
    "        activation='relu',\n",
    "    )(conc)\n",
    "    # batch normalization\n",
    "    norm = layers.BatchNormalization()(dense)\n",
    "    # dropout\n",
    "    drop = layers.Dropout(\n",
    "        rate=0.45\n",
    "    )(norm)\n",
    "    # dense\n",
    "    outputs = layers.Dense(units=1)(drop)\n",
    "\n",
    "    # model\n",
    "    model = keras.Model(inputs=[inputs_1, inputs_2], outputs=outputs, name='FullModel')\n",
    "\n",
    "    return model"
   ]
  },
  {
   "cell_type": "code",
   "execution_count": 42,
   "id": "df069115-d601-4306-86e7-0fa0415e1606",
   "metadata": {},
   "outputs": [],
   "source": [
    "# Custom Callback To Include in Callbacks List At Training Time\n",
    "class GarbageCollectorCallback(tf.keras.callbacks.Callback):\n",
    "    def on_epoch_end(self, epoch, logs=None):\n",
    "        gc.collect()"
   ]
  },
  {
   "cell_type": "code",
   "execution_count": 45,
   "id": "a69600b6-8ab4-4080-8bce-64dbbb308151",
   "metadata": {},
   "outputs": [],
   "source": [
    "def run_model(model, train_ds, val_ds, epochs=10, start_epoch=1, oneshot=True, verbose=True):\n",
    "    if verbose: \n",
    "        model.summary()\n",
    "        verbose_fit = 'auto'\n",
    "    else:\n",
    "        verbose_fit = 0\n",
    "    \n",
    "    model.compile(\n",
    "        loss=keras.losses.MeanSquaredError(),\n",
    "        optimizer=keras.optimizers.Adam(),\n",
    "        metrics=[keras.metrics.MeanAbsoluteError()],\n",
    "    )\n",
    "\n",
    "    bar_callback = keras.callbacks.BackupAndRestore(backup_dir='./bar', save_freq='epoch')\n",
    "        \n",
    "    history = model.fit(\n",
    "        train_ds,\n",
    "        epochs=epochs,\n",
    "        validation_data=val_ds,\n",
    "        verbose=verbose_fit,\n",
    "        callbacks=[GarbageCollectorCallback(), bar_callback]\n",
    "    )\n",
    "    \n",
    "    if oneshot == True:\n",
    "        plot_loss(\n",
    "            history.history['mean_absolute_error'],\n",
    "            history.history['val_mean_absolute_error'],\n",
    "            start_epoch\n",
    "        )\n",
    "\n",
    "    if val_ds != None:\n",
    "        return history.history['mean_absolute_error'], history.history['val_mean_absolute_error']\n",
    "    else:\n",
    "        return history.history['mean_absolute_error']"
   ]
  },
  {
   "cell_type": "code",
   "execution_count": 8,
   "id": "bf21cd28-49ae-441a-9daa-8b0712296906",
   "metadata": {},
   "outputs": [],
   "source": [
    "# simple timer from https://realpython.com/python-timer/\n",
    "\n",
    "class Timer:\n",
    "    def __init__(self):\n",
    "        self._start_time = None\n",
    "\n",
    "    def start(self):\n",
    "        \"\"\"Start a new timer\"\"\"\n",
    "        if self._start_time is not None:\n",
    "            print(f\"Timer is running. Use .stop() to stop it\")\n",
    "        else:\n",
    "            self._start_time = time.perf_counter()\n",
    "\n",
    "    def stop(self):\n",
    "        \"\"\"Stop the timer, and report the elapsed time\"\"\"\n",
    "        if self._start_time is None:\n",
    "            print(f\"Timer is not running. Use .start() to start it\")\n",
    "        else:\n",
    "            elapsed_time = time.perf_counter() - self._start_time\n",
    "            self._start_time = None\n",
    "            print(f\"    elapsed time: {elapsed_time:0.4f} seconds\")"
   ]
  },
  {
   "cell_type": "markdown",
   "id": "cf711275-0384-46df-9510-b7beaf2a2463",
   "metadata": {},
   "source": [
    "## Data Prep\n",
    "\n",
    "*explain it in more detail*\n",
    "\n",
    "X holds a list of sequences one hot encoded\n",
    "\n",
    "y holds a list of PTR values as floats"
   ]
  },
  {
   "cell_type": "code",
   "execution_count": 28,
   "id": "198c44f7-050c-4c96-a00b-0b4fcbf2c9fb",
   "metadata": {},
   "outputs": [],
   "source": [
    "# read the prepared data back\n",
    "X1_raw = uncan_pickles('../data/multihot_x1.pickle.xz')\n",
    "X2 = uncan_pickles('../data/multihot_x2.pickle.xz')\n",
    "y = uncan_pickles('../data/multihot_y.pickle.xz')"
   ]
  },
  {
   "cell_type": "code",
   "execution_count": 29,
   "id": "77c01427-9b6f-4c4d-a2c2-49be0ba27abe",
   "metadata": {},
   "outputs": [],
   "source": [
    "# refined numpy array build with smaller memory footprint\n",
    "X1 = np.empty(len(X1_raw), dtype=object)\n",
    "for id, seq in enumerate(X1_raw):\n",
    "  X1[id] = np.array(seq, dtype=np.int8)"
   ]
  },
  {
   "cell_type": "code",
   "execution_count": 30,
   "id": "7a77d5bf-bbc1-4c38-8466-c2904242880b",
   "metadata": {},
   "outputs": [],
   "source": [
    "# build an inhomogenous numpy array from X\n",
    "# X1 = np.array(X1, dtype=object)\n",
    "X2 = np.array(X2, dtype=np.int8)"
   ]
  },
  {
   "cell_type": "code",
   "execution_count": 31,
   "id": "668f2ec1-e6df-4287-b0ab-442001a822b7",
   "metadata": {},
   "outputs": [],
   "source": [
    "# convert type of target values from string to float\n",
    "y = np.array(y, dtype=np.float32)"
   ]
  },
  {
   "cell_type": "markdown",
   "id": "2d46f705-a1c2-4c59-ad0b-88ae2c943c7d",
   "metadata": {},
   "source": [
    "Random sample from X and y."
   ]
  },
  {
   "cell_type": "code",
   "execution_count": 13,
   "id": "d4c1a3a7-3751-4649-9d85-8e17255a4c03",
   "metadata": {},
   "outputs": [
    {
     "data": {
      "text/plain": [
       "array([[1, 0, 0, ..., 0, 0, 0],\n",
       "       [0, 1, 0, ..., 0, 0, 0],\n",
       "       [0, 1, 0, ..., 0, 0, 0],\n",
       "       ...,\n",
       "       [0, 1, 0, ..., 0, 0, 0],\n",
       "       [0, 1, 0, ..., 0, 0, 0],\n",
       "       [0, 1, 0, ..., 0, 0, 0]], dtype=int8)"
      ]
     },
     "execution_count": 13,
     "metadata": {},
     "output_type": "execute_result"
    }
   ],
   "source": [
    "X1[0]"
   ]
  },
  {
   "cell_type": "code",
   "execution_count": 14,
   "id": "32f82f91-4bf2-4f29-8e12-92ba7196ea07",
   "metadata": {},
   "outputs": [
    {
     "data": {
      "text/plain": [
       "array([0, 1, 0, 0, 0, 0, 0, 0, 0, 0, 0, 0, 0, 0, 0, 0, 0, 0, 0, 0, 0, 0,\n",
       "       0, 0, 0, 0, 0, 0, 0], dtype=int8)"
      ]
     },
     "execution_count": 14,
     "metadata": {},
     "output_type": "execute_result"
    }
   ],
   "source": [
    "X2[0]"
   ]
  },
  {
   "cell_type": "code",
   "execution_count": 15,
   "id": "784bb474-f719-45fe-8836-beaef80dc222",
   "metadata": {},
   "outputs": [
    {
     "data": {
      "text/plain": [
       "8.277"
      ]
     },
     "execution_count": 15,
     "metadata": {},
     "output_type": "execute_result"
    }
   ],
   "source": [
    "y[0]"
   ]
  },
  {
   "cell_type": "code",
   "execution_count": 16,
   "id": "01e465cd-e5c3-41e1-889c-f82254879828",
   "metadata": {},
   "outputs": [
    {
     "data": {
      "text/plain": [
       "(214853, 214853, 214853)"
      ]
     },
     "execution_count": 16,
     "metadata": {},
     "output_type": "execute_result"
    }
   ],
   "source": [
    "# count of features and labels\n",
    "len(X1), len(X2), len(y)"
   ]
  },
  {
   "cell_type": "markdown",
   "id": "ea0459c2-c83d-4920-a3d0-8c86f348a235",
   "metadata": {},
   "source": [
    "### Baseline PTR\n",
    "\n",
    "There is no common sense approach in finding a baseline for the protein-to-mRNA ratio of a particular mRNA sequence. This is what the *Basic Neural Network* approach is for - to determin a baseline and see if a slightly adapted neural network with feature engineered input can provide better predictions.\n",
    "\n",
    "But what can be done is to simply check the value range of the target PTRs, calculate mean and standard deviation. Given that the standard deviation is  small (12.5% of the value range) one can (stupidly) predict the mean value every time. From that it's possible to calculate the Mean Absolute Error (MAE) and compare that to the following neural network output."
   ]
  },
  {
   "cell_type": "code",
   "execution_count": 17,
   "id": "941624fc-a917-4983-bfdd-d58fb88f0a52",
   "metadata": {},
   "outputs": [
    {
     "name": "stdout",
     "output_type": "stream",
     "text": [
      "0.9085 9.974 4.9798956 0.8879484\n"
     ]
    }
   ],
   "source": [
    "# get some idea of the range of the PTR in the selected SAMPLE\n",
    "print(np.min(y), np.max(y), np.mean(y), np.std(y))"
   ]
  },
  {
   "cell_type": "code",
   "execution_count": 18,
   "id": "28d58d39-da1d-4f25-8f43-770dd077ae7b",
   "metadata": {},
   "outputs": [
    {
     "data": {
      "text/plain": [
       "0.7119917"
      ]
     },
     "execution_count": 18,
     "metadata": {},
     "output_type": "execute_result"
    }
   ],
   "source": [
    "# simple/dumb baseline mean absolute error of always predicting 4.974\n",
    "mae = np.mean(np.abs(np.array(y) - 4.974))\n",
    "mae"
   ]
  },
  {
   "cell_type": "markdown",
   "id": "81105338-e17c-4c50-b9c8-19e022c857eb",
   "metadata": {},
   "source": [
    "### Splits\n",
    "\n",
    "Split data in train and test sub sets"
   ]
  },
  {
   "cell_type": "code",
   "execution_count": 32,
   "id": "f3bec3f9-c83c-4690-b56c-ae3b97b877d4",
   "metadata": {},
   "outputs": [],
   "source": [
    "# split in train and test sub sets\n",
    "X1_train_full, X1_test, X2_train_full, X2_test, y_train_full, y_test = train_test_split(X1, X2, y, test_size=0.2, random_state=1202)"
   ]
  },
  {
   "cell_type": "code",
   "execution_count": 33,
   "id": "f4205acc-8876-4855-9cc9-8b5948dd15ba",
   "metadata": {},
   "outputs": [],
   "source": [
    "# split the training set again in train and validation\n",
    "X1_train, X1_val, X2_train, X2_val, y_train, y_val = train_test_split(X1_train_full, X2_train_full, y_train_full, test_size=0.2, random_state=1202)"
   ]
  },
  {
   "cell_type": "code",
   "execution_count": 34,
   "id": "582618a5-4e35-4998-acdf-84feff4d2f74",
   "metadata": {},
   "outputs": [],
   "source": [
    "batch_size = 64"
   ]
  },
  {
   "cell_type": "code",
   "execution_count": 35,
   "id": "9f34c6b2-ff64-4861-918a-34c83e3a51ae",
   "metadata": {},
   "outputs": [
    {
     "name": "stdout",
     "output_type": "stream",
     "text": [
      "CPU times: user 4.07 s, sys: 142 ms, total: 4.21 s\n",
      "Wall time: 801 ms\n"
     ]
    }
   ],
   "source": [
    "%%time\n",
    "# build the test dataset\n",
    "test_ds = create_dataset(X1_test, X2_test, y_test, batch_size=batch_size, sort=False)"
   ]
  },
  {
   "cell_type": "code",
   "execution_count": 36,
   "id": "fa335eb5-5d74-4c78-b192-414edc015645",
   "metadata": {},
   "outputs": [
    {
     "name": "stdout",
     "output_type": "stream",
     "text": [
      "CPU times: user 3.52 s, sys: 23.5 s, total: 27 s\n",
      "Wall time: 3.26 s\n"
     ]
    }
   ],
   "source": [
    "%%time\n",
    "# build the training dataset\n",
    "train_full_ds = create_dataset(X1_train_full, X2_train_full, y_train_full, batch_size=batch_size, sort=True)"
   ]
  },
  {
   "cell_type": "code",
   "execution_count": 37,
   "id": "6e139b14-a23f-4899-b85e-5fe7d80c49fb",
   "metadata": {},
   "outputs": [
    {
     "name": "stdout",
     "output_type": "stream",
     "text": [
      "CPU times: user 3.03 s, sys: 18.6 s, total: 21.6 s\n",
      "Wall time: 2.77 s\n"
     ]
    }
   ],
   "source": [
    "%%time\n",
    "# build the training dataset\n",
    "train_ds = create_dataset(X1_train, X2_train, y_train, batch_size=batch_size, sort=True)"
   ]
  },
  {
   "cell_type": "code",
   "execution_count": 38,
   "id": "783f52f5-022b-4991-8337-c5fd4062b4db",
   "metadata": {},
   "outputs": [
    {
     "name": "stdout",
     "output_type": "stream",
     "text": [
      "CPU times: user 3.65 s, sys: 102 ms, total: 3.75 s\n",
      "Wall time: 979 ms\n"
     ]
    }
   ],
   "source": [
    "%%time\n",
    "# build the validation dataset\n",
    "val_ds = create_dataset(X1_val, X2_val, y_val, batch_size=batch_size, sort=False)"
   ]
  },
  {
   "cell_type": "code",
   "execution_count": null,
   "id": "85ac31aa-4582-45df-957c-d7aa0bb79449",
   "metadata": {},
   "outputs": [],
   "source": [
    "# NOT doing that any more since the speed up of the ragged tensor creation\n",
    "\n",
    "# save the previously generated dataset\n",
    "# since the ragged tensor creation takes a very, very long time\n",
    "# test_ds.save('../data/test_ds.tf.dataset')\n",
    "# train_full_ds.save('../data/train_full_ds.tf.dataset')\n",
    "# train_ds.save('../data/train_ds.tf.dataset')\n",
    "# val_ds.save('../data/val_ds.tf.dataset')"
   ]
  },
  {
   "cell_type": "markdown",
   "id": "16486337-06cf-4678-8a96-bde976a9df03",
   "metadata": {},
   "source": [
    "## Full Model Training"
   ]
  },
  {
   "cell_type": "code",
   "execution_count": 43,
   "id": "a9840923-0fd8-4d3e-9472-bc6753de99a9",
   "metadata": {},
   "outputs": [
    {
     "name": "stdout",
     "output_type": "stream",
     "text": [
      "training model for 40\n",
      "Model: \"Test\"\n",
      "__________________________________________________________________________________________________\n",
      " Layer (type)                Output Shape                 Param #   Connected to                  \n",
      "==================================================================================================\n",
      " inputs_1 (InputLayer)       [(None, None, 10)]           0         []                            \n",
      "                                                                                                  \n",
      " conv1d_7 (Conv1D)           (None, None, 424)            127624    ['inputs_1[0][0]']            \n",
      "                                                                                                  \n",
      " batch_normalization_6 (Bat  (None, None, 424)            1696      ['conv1d_7[0][0]']            \n",
      " chNormalization)                                                                                 \n",
      "                                                                                                  \n",
      " dropout_6 (Dropout)         (None, None, 424)            0         ['batch_normalization_6[0][0]'\n",
      "                                                                    ]                             \n",
      "                                                                                                  \n",
      " global_max_pooling1d_6 (Gl  (None, 424)                  0         ['dropout_6[0][0]']           \n",
      " obalMaxPooling1D)                                                                                \n",
      "                                                                                                  \n",
      " inputs_2 (InputLayer)       [(None, 29)]                 0         []                            \n",
      "                                                                                                  \n",
      " concatenate_6 (Concatenate  (None, 453)                  0         ['global_max_pooling1d_6[0][0]\n",
      " )                                                                  ',                            \n",
      "                                                                     'inputs_2[0][0]']            \n",
      "                                                                                                  \n",
      " dense_8 (Dense)             (None, 128)                  58112     ['concatenate_6[0][0]']       \n",
      "                                                                                                  \n",
      " dense_9 (Dense)             (None, 1)                    129       ['dense_8[0][0]']             \n",
      "                                                                                                  \n",
      "==================================================================================================\n",
      "Total params: 187561 (732.66 KB)\n",
      "Trainable params: 186713 (729.35 KB)\n",
      "Non-trainable params: 848 (3.31 KB)\n",
      "__________________________________________________________________________________________________\n",
      "Epoch 1/40\n",
      "2149/2149 [==============================] - 1620s 754ms/step - loss: 1.4934 - mean_absolute_error: 0.8755 - val_loss: 3.5095 - val_mean_absolute_error: 1.6981\n",
      "Epoch 2/40\n",
      "2149/2149 [==============================] - 1613s 751ms/step - loss: 0.8364 - mean_absolute_error: 0.7257 - val_loss: 3.8304 - val_mean_absolute_error: 1.7826\n",
      "Epoch 3/40\n",
      "2149/2149 [==============================] - 1609s 749ms/step - loss: 0.7538 - mean_absolute_error: 0.6886 - val_loss: 3.7467 - val_mean_absolute_error: 1.7626\n",
      "Epoch 4/40\n",
      "2149/2149 [==============================] - 1605s 747ms/step - loss: 0.7403 - mean_absolute_error: 0.6833 - val_loss: 3.8650 - val_mean_absolute_error: 1.7935\n",
      "Epoch 5/40\n",
      "2149/2149 [==============================] - 1605s 747ms/step - loss: 0.7119 - mean_absolute_error: 0.6694 - val_loss: 3.9338 - val_mean_absolute_error: 1.8148\n",
      "Epoch 6/40\n",
      "2149/2149 [==============================] - 1602s 746ms/step - loss: 0.6838 - mean_absolute_error: 0.6548 - val_loss: 3.8971 - val_mean_absolute_error: 1.8119\n",
      "Epoch 7/40\n",
      "2149/2149 [==============================] - 1602s 746ms/step - loss: 0.6557 - mean_absolute_error: 0.6402 - val_loss: 3.9562 - val_mean_absolute_error: 1.8336\n",
      "Epoch 8/40\n",
      "2149/2149 [==============================] - 1597s 744ms/step - loss: 0.6270 - mean_absolute_error: 0.6237 - val_loss: 3.9678 - val_mean_absolute_error: 1.8411\n",
      "Epoch 9/40\n",
      "2149/2149 [==============================] - 1596s 743ms/step - loss: 0.5971 - mean_absolute_error: 0.6073 - val_loss: 3.8495 - val_mean_absolute_error: 1.8172\n",
      "Epoch 10/40\n",
      "2149/2149 [==============================] - 1596s 743ms/step - loss: 0.5651 - mean_absolute_error: 0.5886 - val_loss: 3.5607 - val_mean_absolute_error: 1.7467\n",
      "Epoch 11/40\n",
      "2149/2149 [==============================] - 1591s 741ms/step - loss: 0.5356 - mean_absolute_error: 0.5717 - val_loss: 3.0633 - val_mean_absolute_error: 1.6119\n",
      "Epoch 12/40\n",
      "2149/2149 [==============================] - 1591s 741ms/step - loss: 0.5060 - mean_absolute_error: 0.5531 - val_loss: 3.0009 - val_mean_absolute_error: 1.6020\n",
      "Epoch 13/40\n",
      "2149/2149 [==============================] - 1591s 741ms/step - loss: 0.4748 - mean_absolute_error: 0.5336 - val_loss: 2.9728 - val_mean_absolute_error: 1.6004\n",
      "Epoch 14/40\n",
      "2149/2149 [==============================] - 1589s 740ms/step - loss: 0.4466 - mean_absolute_error: 0.5146 - val_loss: 2.8919 - val_mean_absolute_error: 1.5826\n",
      "Epoch 15/40\n",
      "2149/2149 [==============================] - 1588s 739ms/step - loss: 0.4253 - mean_absolute_error: 0.5003 - val_loss: 3.0240 - val_mean_absolute_error: 1.6269\n",
      "Epoch 16/40\n",
      "2149/2149 [==============================] - 1587s 739ms/step - loss: 0.4050 - mean_absolute_error: 0.4877 - val_loss: 2.9849 - val_mean_absolute_error: 1.6176\n",
      "Epoch 17/40\n",
      "2149/2149 [==============================] - 1582s 736ms/step - loss: 0.3922 - mean_absolute_error: 0.4787 - val_loss: 2.9395 - val_mean_absolute_error: 1.6059\n",
      "Epoch 18/40\n",
      "2149/2149 [==============================] - 1578s 735ms/step - loss: 0.3979 - mean_absolute_error: 0.4834 - val_loss: 2.4549 - val_mean_absolute_error: 1.4521\n",
      "Epoch 19/40\n",
      "2149/2149 [==============================] - 1580s 736ms/step - loss: 0.4210 - mean_absolute_error: 0.5002 - val_loss: 2.6062 - val_mean_absolute_error: 1.4970\n",
      "Epoch 20/40\n",
      "2149/2149 [==============================] - 1577s 734ms/step - loss: 0.4262 - mean_absolute_error: 0.5037 - val_loss: 3.2207 - val_mean_absolute_error: 1.6841\n",
      "Epoch 21/40\n",
      "2149/2149 [==============================] - 1574s 733ms/step - loss: 0.4141 - mean_absolute_error: 0.4955 - val_loss: 3.2633 - val_mean_absolute_error: 1.6980\n",
      "Epoch 22/40\n",
      "2149/2149 [==============================] - 1572s 732ms/step - loss: 0.3753 - mean_absolute_error: 0.4676 - val_loss: 3.2247 - val_mean_absolute_error: 1.6934\n",
      "Epoch 23/40\n",
      "2149/2149 [==============================] - 1572s 732ms/step - loss: 0.3492 - mean_absolute_error: 0.4490 - val_loss: 3.3282 - val_mean_absolute_error: 1.7259\n",
      "Epoch 24/40\n",
      "2149/2149 [==============================] - 1568s 730ms/step - loss: 0.3496 - mean_absolute_error: 0.4495 - val_loss: 2.6916 - val_mean_absolute_error: 1.5337\n",
      "Epoch 25/40\n",
      "2149/2149 [==============================] - 1566s 729ms/step - loss: 0.3646 - mean_absolute_error: 0.4608 - val_loss: 2.6232 - val_mean_absolute_error: 1.5082\n",
      "Epoch 26/40\n",
      "2149/2149 [==============================] - 1562s 727ms/step - loss: 0.4059 - mean_absolute_error: 0.4896 - val_loss: 4.8498 - val_mean_absolute_error: 2.1091\n",
      "Epoch 27/40\n",
      "2149/2149 [==============================] - 1560s 726ms/step - loss: 0.4495 - mean_absolute_error: 0.5198 - val_loss: 3.5926 - val_mean_absolute_error: 1.7858\n",
      "Epoch 28/40\n",
      "2149/2149 [==============================] - 1558s 725ms/step - loss: 0.4048 - mean_absolute_error: 0.4892 - val_loss: 3.7760 - val_mean_absolute_error: 1.8450\n",
      "Epoch 29/40\n",
      "2149/2149 [==============================] - 1556s 724ms/step - loss: 0.3395 - mean_absolute_error: 0.4419 - val_loss: 3.0469 - val_mean_absolute_error: 1.6473\n",
      "Epoch 30/40\n",
      "2149/2149 [==============================] - 1556s 724ms/step - loss: 0.3231 - mean_absolute_error: 0.4308 - val_loss: 2.8788 - val_mean_absolute_error: 1.5980\n",
      "Epoch 31/40\n",
      "2149/2149 [==============================] - 1554s 723ms/step - loss: 0.3176 - mean_absolute_error: 0.4270 - val_loss: 2.8567 - val_mean_absolute_error: 1.5901\n",
      "Epoch 32/40\n",
      "2149/2149 [==============================] - 1556s 724ms/step - loss: 0.3314 - mean_absolute_error: 0.4371 - val_loss: 3.5423 - val_mean_absolute_error: 1.7846\n",
      "Epoch 33/40\n",
      "2149/2149 [==============================] - 1553s 723ms/step - loss: 0.3505 - mean_absolute_error: 0.4521 - val_loss: 3.6000 - val_mean_absolute_error: 1.8024\n",
      "Epoch 34/40\n",
      "2149/2149 [==============================] - 1552s 723ms/step - loss: 0.3590 - mean_absolute_error: 0.4587 - val_loss: 4.0461 - val_mean_absolute_error: 1.9203\n",
      "Epoch 35/40\n",
      "2149/2149 [==============================] - 1552s 722ms/step - loss: 0.3666 - mean_absolute_error: 0.4635 - val_loss: 4.4007 - val_mean_absolute_error: 2.0069\n",
      "Epoch 36/40\n",
      "2149/2149 [==============================] - 1549s 721ms/step - loss: 0.4132 - mean_absolute_error: 0.4970 - val_loss: 2.4040 - val_mean_absolute_error: 1.4292\n",
      "Epoch 37/40\n",
      "2149/2149 [==============================] - 1546s 720ms/step - loss: 0.4230 - mean_absolute_error: 0.5034 - val_loss: 2.4034 - val_mean_absolute_error: 1.4323\n",
      "Epoch 38/40\n",
      "2149/2149 [==============================] - 1546s 720ms/step - loss: 0.3516 - mean_absolute_error: 0.4515 - val_loss: 2.9242 - val_mean_absolute_error: 1.6100\n",
      "Epoch 39/40\n",
      "2149/2149 [==============================] - 1536s 715ms/step - loss: 0.3119 - mean_absolute_error: 0.4227 - val_loss: 3.7101 - val_mean_absolute_error: 1.8376\n",
      "Epoch 40/40\n",
      "2149/2149 [==============================] - 1536s 715ms/step - loss: 0.3063 - mean_absolute_error: 0.4188 - val_loss: 2.9887 - val_mean_absolute_error: 1.6324\n"
     ]
    },
    {
     "data": {
      "image/png": "[encoded data removed]",
      "text/plain": [
       "<Figure size 640x480 with 1 Axes>"
      ]
     },
     "metadata": {},
     "output_type": "display_data"
    },
    {
     "name": "stdout",
     "output_type": "stream",
     "text": [
      "    elapsed time: 63025.4187 seconds\n"
     ]
    }
   ],
   "source": [
    "# epochs to run for\n",
    "epochs = 40\n",
    "\n",
    "# timer\n",
    "t = Timer()\n",
    "\n",
    "# current model\n",
    "model = augur_model()\n",
    "# fit the model, validate and plot results\n",
    "print(f'training model for {epochs}')\n",
    "t.start()\n",
    "mae, val_mae = run_model(model, train_ds, val_ds, epochs=epochs, start_epoch=1, oneshot=True, verbose=True)\n",
    "t.stop()"
   ]
  },
  {
   "cell_type": "code",
   "execution_count": 44,
   "id": "f83b9275-b52b-4b61-a1e0-07f4ba8d8e0a",
   "metadata": {},
   "outputs": [],
   "source": [
    "augur_mae = mae\n",
    "augur_val_mae = val_mae"
   ]
  },
  {
   "cell_type": "code",
   "execution_count": 48,
   "id": "9d9ecdfb-61a4-4dd0-9089-15022d0b72c7",
   "metadata": {},
   "outputs": [
    {
     "name": "stdout",
     "output_type": "stream",
     "text": [
      "training final model model_full_augur.keras for 37 epochs\n",
      "  building model\n",
      "  training model\n",
      "    elapsed time: 66046.5175 seconds\n",
      "  evaluating model\n",
      "672/672 [==============================] - 100s 149ms/step - loss: 3.1555 - mean_absolute_error: 1.6659\n",
      "  mean absolute evaluation error is [3.1555373668670654, 1.6658642292022705]\n",
      "  saving model\n"
     ]
    }
   ],
   "source": [
    "# train final model\n",
    "\n",
    "# model file name\n",
    "model_name = 'model_full_augur.keras'\n",
    "\n",
    "# timer\n",
    "t = Timer()\n",
    "\n",
    "# number of epochs to train for\n",
    "epochs = 37\n",
    "\n",
    "print(f'training final model {model_name} for {epochs} epochs')\n",
    "\n",
    "print('  building model')\n",
    "model = augur_model()\n",
    "\n",
    "print('  training model')\n",
    "t.start()\n",
    "run_model(model, train_full_ds, None, epochs=epochs, start_epoch=1, oneshot=False, verbose=False)\n",
    "t.stop()\n",
    "\n",
    "print('  evaluating model')\n",
    "mae = model.evaluate(test_ds)\n",
    "print(f'  mean absolute evaluation error is {mae}')\n",
    "\n",
    "print('  saving model')\n",
    "model.save(model_name)"
   ]
  },
  {
   "cell_type": "code",
   "execution_count": 46,
   "id": "96105e2c-933d-405b-98aa-6576e6e2c792",
   "metadata": {},
   "outputs": [
    {
     "name": "stdout",
     "output_type": "stream",
     "text": [
      "training model for 40\n",
      "Model: \"FullModel\"\n",
      "__________________________________________________________________________________________________\n",
      " Layer (type)                Output Shape                 Param #   Connected to                  \n",
      "==================================================================================================\n",
      " inputs_1 (InputLayer)       [(None, None, 10)]           0         []                            \n",
      "                                                                                                  \n",
      " conv1d_2 (Conv1D)           (None, None, 280)            33880     ['inputs_1[0][0]']            \n",
      "                                                                                                  \n",
      " batch_normalization_4 (Bat  (None, None, 280)            1120      ['conv1d_2[0][0]']            \n",
      " chNormalization)                                                                                 \n",
      "                                                                                                  \n",
      " max_pooling1d_4 (MaxPoolin  (None, None, 280)            0         ['batch_normalization_4[0][0]'\n",
      " g1D)                                                               ]                             \n",
      "                                                                                                  \n",
      " dropout_6 (Dropout)         (None, None, 280)            0         ['max_pooling1d_4[0][0]']     \n",
      "                                                                                                  \n",
      " bidirectional_2 (Bidirecti  (None, None, 896)            2612736   ['dropout_6[0][0]']           \n",
      " onal)                                                                                            \n",
      "                                                                                                  \n",
      " max_pooling1d_5 (MaxPoolin  (None, None, 896)            0         ['bidirectional_2[0][0]']     \n",
      " g1D)                                                                                             \n",
      "                                                                                                  \n",
      " dropout_7 (Dropout)         (None, None, 896)            0         ['max_pooling1d_5[0][0]']     \n",
      "                                                                                                  \n",
      " global_max_pooling1d_2 (Gl  (None, 896)                  0         ['dropout_7[0][0]']           \n",
      " obalMaxPooling1D)                                                                                \n",
      "                                                                                                  \n",
      " inputs_2 (InputLayer)       [(None, 29)]                 0         []                            \n",
      "                                                                                                  \n",
      " concatenate_2 (Concatenate  (None, 925)                  0         ['global_max_pooling1d_2[0][0]\n",
      " )                                                                  ',                            \n",
      "                                                                     'inputs_2[0][0]']            \n",
      "                                                                                                  \n",
      " dense_4 (Dense)             (None, 128)                  118528    ['concatenate_2[0][0]']       \n",
      "                                                                                                  \n",
      " batch_normalization_5 (Bat  (None, 128)                  512       ['dense_4[0][0]']             \n",
      " chNormalization)                                                                                 \n",
      "                                                                                                  \n",
      " dropout_8 (Dropout)         (None, 128)                  0         ['batch_normalization_5[0][0]'\n",
      "                                                                    ]                             \n",
      "                                                                                                  \n",
      " dense_5 (Dense)             (None, 1)                    129       ['dropout_8[0][0]']           \n",
      "                                                                                                  \n",
      "==================================================================================================\n",
      "Total params: 2766905 (10.55 MB)\n",
      "Trainable params: 2766089 (10.55 MB)\n",
      "Non-trainable params: 816 (3.19 KB)\n",
      "__________________________________________________________________________________________________\n",
      "Epoch 1/40\n",
      "2149/2149 [==============================] - 16705s 8s/step - loss: 2.2936 - mean_absolute_error: 1.0539 - val_loss: 3.8215 - val_mean_absolute_error: 1.7751\n",
      "Epoch 2/40\n",
      "2149/2149 [==============================] - 16714s 8s/step - loss: 0.9452 - mean_absolute_error: 0.7748 - val_loss: 30.5415 - val_mean_absolute_error: 5.4524\n",
      "Epoch 3/40\n",
      "2149/2149 [==============================] - 16739s 8s/step - loss: 0.8975 - mean_absolute_error: 0.7550 - val_loss: 2.9354 - val_mean_absolute_error: 1.5124\n",
      "Epoch 4/40\n",
      "2149/2149 [==============================] - 16734s 8s/step - loss: 0.8620 - mean_absolute_error: 0.7404 - val_loss: 2.8085 - val_mean_absolute_error: 1.4694\n",
      "Epoch 5/40\n",
      "2149/2149 [==============================] - 16712s 8s/step - loss: 0.8346 - mean_absolute_error: 0.7283 - val_loss: 1.3426 - val_mean_absolute_error: 0.9719\n",
      "Epoch 6/40\n",
      "2149/2149 [==============================] - 16685s 8s/step - loss: 0.8127 - mean_absolute_error: 0.7187 - val_loss: 1.6159 - val_mean_absolute_error: 1.0400\n",
      "Epoch 7/40\n",
      "2149/2149 [==============================] - 16636s 8s/step - loss: 0.7959 - mean_absolute_error: 0.7094 - val_loss: 2.2072 - val_mean_absolute_error: 1.2669\n",
      "Epoch 8/40\n",
      "2149/2149 [==============================] - 16671s 8s/step - loss: 0.7814 - mean_absolute_error: 0.7042 - val_loss: 1.2243 - val_mean_absolute_error: 0.8805\n",
      "Epoch 9/40\n",
      "2149/2149 [==============================] - 16661s 8s/step - loss: 0.7692 - mean_absolute_error: 0.6985 - val_loss: 1.6499 - val_mean_absolute_error: 1.0586\n",
      "Epoch 10/40\n",
      "2149/2149 [==============================] - 16666s 8s/step - loss: 0.7509 - mean_absolute_error: 0.6886 - val_loss: 1.0568 - val_mean_absolute_error: 0.8067\n",
      "Epoch 11/40\n",
      "2149/2149 [==============================] - 16655s 8s/step - loss: 0.7406 - mean_absolute_error: 0.6844 - val_loss: 0.6910 - val_mean_absolute_error: 0.6581\n",
      "Epoch 12/40\n",
      "2149/2149 [==============================] - 16681s 8s/step - loss: 0.7316 - mean_absolute_error: 0.6788 - val_loss: 0.7131 - val_mean_absolute_error: 0.6626\n",
      "Epoch 13/40\n",
      "2149/2149 [==============================] - 16670s 8s/step - loss: 0.7186 - mean_absolute_error: 0.6729 - val_loss: 0.9331 - val_mean_absolute_error: 0.7544\n",
      "Epoch 14/40\n",
      "2149/2149 [==============================] - 16657s 8s/step - loss: 0.7113 - mean_absolute_error: 0.6695 - val_loss: 0.8142 - val_mean_absolute_error: 0.7025\n",
      "Epoch 15/40\n",
      "2149/2149 [==============================] - 16664s 8s/step - loss: 0.7007 - mean_absolute_error: 0.6639 - val_loss: 1.0189 - val_mean_absolute_error: 0.7916\n",
      "Epoch 16/40\n",
      "2149/2149 [==============================] - 16680s 8s/step - loss: 0.6921 - mean_absolute_error: 0.6593 - val_loss: 0.6927 - val_mean_absolute_error: 0.6501\n",
      "Epoch 17/40\n",
      "2149/2149 [==============================] - 16676s 8s/step - loss: 0.6821 - mean_absolute_error: 0.6538 - val_loss: 0.6851 - val_mean_absolute_error: 0.6504\n",
      "Epoch 18/40\n",
      "2149/2149 [==============================] - 16674s 8s/step - loss: 0.6691 - mean_absolute_error: 0.6473 - val_loss: 0.8668 - val_mean_absolute_error: 0.7259\n",
      "Epoch 19/40\n",
      "2149/2149 [==============================] - 16675s 8s/step - loss: 0.6547 - mean_absolute_error: 0.6398 - val_loss: 0.6793 - val_mean_absolute_error: 0.6446\n",
      "Epoch 20/40\n",
      "2149/2149 [==============================] - 16647s 8s/step - loss: 0.6474 - mean_absolute_error: 0.6364 - val_loss: 0.7355 - val_mean_absolute_error: 0.6634\n",
      "Epoch 21/40\n",
      "2149/2149 [==============================] - 16646s 8s/step - loss: 0.6334 - mean_absolute_error: 0.6285 - val_loss: 0.8607 - val_mean_absolute_error: 0.7196\n",
      "Epoch 22/40\n",
      "2149/2149 [==============================] - 16629s 8s/step - loss: 0.6181 - mean_absolute_error: 0.6202 - val_loss: 0.6175 - val_mean_absolute_error: 0.6163\n",
      "Epoch 23/40\n",
      "2149/2149 [==============================] - 16632s 8s/step - loss: 0.6020 - mean_absolute_error: 0.6120 - val_loss: 0.6829 - val_mean_absolute_error: 0.6406\n",
      "Epoch 24/40\n",
      "2149/2149 [==============================] - 16640s 8s/step - loss: 0.5840 - mean_absolute_error: 0.6013 - val_loss: 0.6120 - val_mean_absolute_error: 0.6172\n",
      "Epoch 25/40\n",
      "2149/2149 [==============================] - 16642s 8s/step - loss: 0.5651 - mean_absolute_error: 0.5911 - val_loss: 0.5988 - val_mean_absolute_error: 0.6063\n",
      "Epoch 26/40\n",
      "1138/2149 [==============>...............] - ETA: 1:03:17 - loss: 0.5571 - mean_absolute_error: 0.5855"
     ]
    },
    {
     "name": "stderr",
     "output_type": "stream",
     "text": [
      "IOPub message rate exceeded.\n",
      "The Jupyter server will temporarily stop sending output\n",
      "to the client in order to avoid crashing it.\n",
      "To change this limit, set the config variable\n",
      "`--ServerApp.iopub_msg_rate_limit`.\n",
      "\n",
      "Current values:\n",
      "ServerApp.iopub_msg_rate_limit=1000.0 (msgs/sec)\n",
      "ServerApp.rate_limit_window=3.0 (secs)\n",
      "\n"
     ]
    },
    {
     "name": "stdout",
     "output_type": "stream",
     "text": [
      "2149/2149 [==============================] - 16628s 8s/step - loss: 0.5330 - mean_absolute_error: 0.5736 - val_loss: 0.6237 - val_mean_absolute_error: 0.6249\n",
      "Epoch 28/40\n",
      "2149/2149 [==============================] - 16618s 8s/step - loss: 0.5172 - mean_absolute_error: 0.5642 - val_loss: 0.7081 - val_mean_absolute_error: 0.6476\n",
      "Epoch 29/40\n",
      "2149/2149 [==============================] - 16643s 8s/step - loss: 0.5071 - mean_absolute_error: 0.5585 - val_loss: 0.6590 - val_mean_absolute_error: 0.6275\n",
      "Epoch 30/40\n",
      "2149/2149 [==============================] - 16609s 8s/step - loss: 0.4968 - mean_absolute_error: 0.5521 - val_loss: 0.5790 - val_mean_absolute_error: 0.5908\n",
      "Epoch 31/40\n",
      "1706/2149 [======================>.......] - ETA: 37:32 - loss: 0.4911 - mean_absolute_error: 0.5477"
     ]
    },
    {
     "name": "stderr",
     "output_type": "stream",
     "text": [
      "IOPub message rate exceeded.\n",
      "The Jupyter server will temporarily stop sending output\n",
      "to the client in order to avoid crashing it.\n",
      "To change this limit, set the config variable\n",
      "`--ServerApp.iopub_msg_rate_limit`.\n",
      "\n",
      "Current values:\n",
      "ServerApp.iopub_msg_rate_limit=1000.0 (msgs/sec)\n",
      "ServerApp.rate_limit_window=3.0 (secs)\n",
      "\n"
     ]
    },
    {
     "name": "stdout",
     "output_type": "stream",
     "text": [
      "2149/2149 [==============================] - 16627s 8s/step - loss: 0.4812 - mean_absolute_error: 0.5428 - val_loss: 0.7773 - val_mean_absolute_error: 0.7022\n",
      "Epoch 33/40\n",
      "2149/2149 [==============================] - 16614s 8s/step - loss: 0.4741 - mean_absolute_error: 0.5387 - val_loss: 1.2184 - val_mean_absolute_error: 0.9026\n",
      "Epoch 34/40\n",
      "2149/2149 [==============================] - 16613s 8s/step - loss: 0.4681 - mean_absolute_error: 0.5354 - val_loss: 0.5826 - val_mean_absolute_error: 0.5971\n",
      "Epoch 35/40\n",
      "2149/2149 [==============================] - 16606s 8s/step - loss: 0.4632 - mean_absolute_error: 0.5322 - val_loss: 1.3114 - val_mean_absolute_error: 0.9625\n",
      "Epoch 36/40\n",
      "2149/2149 [==============================] - 16621s 8s/step - loss: 0.4575 - mean_absolute_error: 0.5287 - val_loss: 1.1437 - val_mean_absolute_error: 0.8965\n",
      "Epoch 37/40\n",
      "2149/2149 [==============================] - 16609s 8s/step - loss: 0.4522 - mean_absolute_error: 0.5256 - val_loss: 0.7413 - val_mean_absolute_error: 0.6912\n",
      "Epoch 38/40\n",
      "2149/2149 [==============================] - 16609s 8s/step - loss: 0.4490 - mean_absolute_error: 0.5240 - val_loss: 0.9257 - val_mean_absolute_error: 0.7877\n",
      "Epoch 39/40\n",
      "2149/2149 [==============================] - 16608s 8s/step - loss: 0.4464 - mean_absolute_error: 0.5220 - val_loss: 1.1062 - val_mean_absolute_error: 0.8807\n",
      "Epoch 40/40\n",
      "2149/2149 [==============================] - 16607s 8s/step - loss: 0.4425 - mean_absolute_error: 0.5193 - val_loss: 0.9726 - val_mean_absolute_error: 0.8207\n"
     ]
    },
    {
     "data": {
      "image/png": "[encoded data removed]",
      "text/plain": [
       "<Figure size 640x480 with 1 Axes>"
      ]
     },
     "metadata": {},
     "output_type": "display_data"
    },
    {
     "name": "stdout",
     "output_type": "stream",
     "text": [
      "    elapsed time: 666066.2232 seconds\n"
     ]
    }
   ],
   "source": [
    "# epochs to run for\n",
    "epochs = 40\n",
    "\n",
    "# timer\n",
    "t = Timer()\n",
    "\n",
    "# current model\n",
    "model = dan_zrimec_model()\n",
    "# fit the model, validate and plot results\n",
    "print(f'training model for {epochs}')\n",
    "t.start()\n",
    "mae, val_mae = run_model(model, train_ds, val_ds, epochs=epochs, start_epoch=1, oneshot=True, verbose=True)\n",
    "t.stop()"
   ]
  },
  {
   "cell_type": "code",
   "execution_count": 47,
   "id": "16378ed5-1e16-4ee2-a687-c461ec5474b1",
   "metadata": {},
   "outputs": [],
   "source": [
    "dz_mae = mae\n",
    "dz_val_mae = val_mae"
   ]
  },
  {
   "cell_type": "code",
   "execution_count": 50,
   "id": "92111e58-c5f2-4594-85e4-c0d9ee663256",
   "metadata": {},
   "outputs": [
    {
     "data": {
      "image/png": "[encoded data removed]",
      "text/plain": [
       "<Figure size 640x480 with 1 Axes>"
      ]
     },
     "metadata": {},
     "output_type": "display_data"
    }
   ],
   "source": [
    "plot_loss(mae, val_mae, 10)"
   ]
  },
  {
   "cell_type": "code",
   "execution_count": 52,
   "id": "3241db9d-874d-4404-bd59-087ab4edda50",
   "metadata": {},
   "outputs": [
    {
     "name": "stdout",
     "output_type": "stream",
     "text": [
      "training final model model_full_dz.keras for 30 epochs\n",
      "  building model\n",
      "  training model\n",
      "    elapsed time: 512773.1618 seconds\n",
      "  evaluating model\n",
      "672/672 [==============================] - 3147s 5s/step - loss: 0.5939 - mean_absolute_error: 0.5876\n",
      "  mean absolute evaluation error is [0.5939379334449768, 0.5876457691192627]\n",
      "  saving model\n"
     ]
    }
   ],
   "source": [
    "# train final model\n",
    "\n",
    "# model file name\n",
    "model_name = 'model_full_dz.keras'\n",
    "\n",
    "# timer\n",
    "t = Timer()\n",
    "\n",
    "# number of epochs to train for\n",
    "epochs = 30\n",
    "\n",
    "print(f'training final model {model_name} for {epochs} epochs')\n",
    "\n",
    "print('  building model')\n",
    "model = dan_zrimec_model()\n",
    "\n",
    "print('  training model')\n",
    "t.start()\n",
    "run_model(model, train_full_ds, None, epochs=epochs, start_epoch=1, oneshot=False, verbose=False)\n",
    "t.stop()\n",
    "\n",
    "print('  evaluating model')\n",
    "mae = model.evaluate(test_ds)\n",
    "print(f'  mean absolute evaluation error is {mae}')\n",
    "\n",
    "print('  saving model')\n",
    "model.save(model_name)"
   ]
  },
  {
   "cell_type": "markdown",
   "id": "dd15effe-0d99-4c4b-ab7d-261f42efa608",
   "metadata": {},
   "source": [
    "## k-Fold Cross Validation"
   ]
  },
  {
   "cell_type": "code",
   "execution_count": null,
   "id": "b66d001b-11b1-4d6a-9dc0-90dc7a290af5",
   "metadata": {},
   "outputs": [],
   "source": [
    "num_splits = 5"
   ]
  },
  {
   "cell_type": "markdown",
   "id": "31421c42-2e54-40a6-be5e-720f33e4dd3d",
   "metadata": {},
   "source": [
    "### Augur Model"
   ]
  },
  {
   "cell_type": "code",
   "execution_count": null,
   "id": "e139b274-5025-4118-a01f-2fb56657f7d5",
   "metadata": {},
   "outputs": [],
   "source": [
    "%%time\n",
    "# run k-fold cross validation\n",
    "\n",
    "# epochs to run for\n",
    "epochs = 100\n",
    "\n",
    "# timer\n",
    "t = Timer()\n",
    "\n",
    "# training and validation mean absolute error results\n",
    "train_mae = []\n",
    "val_mae = []\n",
    "\n",
    "print(f'k-fold cross validation with {num_splits} splits for {epochs} epochs')\n",
    "kf = KFold(n_splits=num_splits, shuffle=True, random_state=1202)\n",
    "for i, (train_index, val_index) in enumerate(kf.split(X_train)):\n",
    "    print(f'  processing fold {i}')\n",
    "\n",
    "    # split the data\n",
    "    print('    splitting data')\n",
    "    t.start()\n",
    "    X_train_kf, X_val_kf, y_train_kf, y_val_kf = X_train[train_index], X_train[val_index], y_train[train_index], y_train[val_index]\n",
    "    t.stop()\n",
    "\n",
    "    # build the datasets\n",
    "    print('    creating training dataset')\n",
    "    t.start()\n",
    "    train_ds = create_dataset(X_train_kf, y_train_kf, batch_size=batch_size, sort=True)\n",
    "    t.stop()\n",
    "    print('    creating validation dataset')\n",
    "    t.start()\n",
    "    val_ds = create_dataset(X_val_kf, y_val_kf, batch_size=batch_size, sort=False)\n",
    "    t.stop()\n",
    "\n",
    "    # fit the model and return mae\n",
    "    print('    fitting model')\n",
    "    t.start()\n",
    "    t_mae, v_mae = run_model(augur_model(), train_ds, val_ds, epochs=epochs, start_epoch=1, oneshot=False, verbose=False)\n",
    "    t.stop()\n",
    "\n",
    "    # add returned mae values to the arrays\n",
    "    train_mae.append(t_mae)\n",
    "    val_mae.append(v_mae)\n",
    "\n",
    "# calculate the average\n",
    "average_train_mae = [ np.mean([ x[i] for x in train_mae ]) for i in range(epochs) ]\n",
    "average_val_mae = [ np.mean([ x[i] for x in val_mae ]) for i in range(epochs) ]\n",
    "\n",
    "# plot\n",
    "plot_loss(average_train_mae, average_val_mae, start_epoch=1)"
   ]
  },
  {
   "cell_type": "code",
   "execution_count": null,
   "id": "7c833d59-8d0b-4c09-8b27-32841e29e43d",
   "metadata": {},
   "outputs": [],
   "source": [
    "# train final model\n",
    "\n",
    "# model file name\n",
    "model_name = 'model_augur.keras'\n",
    "\n",
    "# timer\n",
    "t = Timer()\n",
    "\n",
    "# training and validation mean absolute error results\n",
    "train_mae = []\n",
    "val_mae = []\n",
    "\n",
    "# number of epochs to train for\n",
    "epochs = 40\n",
    "\n",
    "print(f'training final model {model_name} for {epochs} epochs')\n",
    "\n",
    "print('  creating training dataset')\n",
    "t.start()\n",
    "train_ds = create_dataset(X_train, y_train, batch_size=batch_size, sort=True)\n",
    "t.stop()\n",
    "\n",
    "print('  building model')\n",
    "model = augur_model()\n",
    "\n",
    "print('  training model')\n",
    "t.start()\n",
    "run_model(model, train_ds, None, epochs=epochs, start_epoch=1, oneshot=False, verbose=False)\n",
    "t.stop()\n",
    "\n",
    "print('  evaluating model')\n",
    "mae = model.evaluate(test_ds)\n",
    "print(f'  mean absolute evaluation error is {mae}')\n",
    "\n",
    "print('  saving model')\n",
    "model.save(model_name)"
   ]
  },
  {
   "cell_type": "code",
   "execution_count": null,
   "id": "5e83109b-8577-4591-945e-c2d08491d1a8",
   "metadata": {},
   "outputs": [],
   "source": [
    "%%time\n",
    "# run k-fold cross validation\n",
    "\n",
    "# epochs to run for\n",
    "epochs = 100\n",
    "\n",
    "# timer\n",
    "t = Timer()\n",
    "\n",
    "# training and validation mean absolute error results\n",
    "train_mae = []\n",
    "val_mae = []\n",
    "\n",
    "print(f'k-fold cross validation with {num_splits} splits for {epochs} epochs')\n",
    "kf = KFold(n_splits=num_splits, shuffle=True, random_state=1202)\n",
    "for i, (train_index, val_index) in enumerate(kf.split(X_train)):\n",
    "    print(f'  processing fold {i}')\n",
    "\n",
    "    # split the data\n",
    "    print('    splitting data')\n",
    "    t.start()\n",
    "    X_train_kf, X_val_kf, y_train_kf, y_val_kf = X_train[train_index], X_train[val_index], y_train[train_index], y_train[val_index]\n",
    "    t.stop()\n",
    "\n",
    "    # build the datasets\n",
    "    print('    creating training dataset')\n",
    "    t.start()\n",
    "    train_ds = create_dataset(X_train_kf, y_train_kf, batch_size=batch_size, sort=True)\n",
    "    t.stop()\n",
    "    print('    creating validation dataset')\n",
    "    t.start()\n",
    "    val_ds = create_dataset(X_val_kf, y_val_kf, batch_size=batch_size, sort=False)\n",
    "    t.stop()\n",
    "\n",
    "    # fit the model and return mae\n",
    "    print('    fitting model')\n",
    "    t.start()\n",
    "    t_mae, v_mae = run_model(dan_zrimec_model(), train_ds, val_ds, epochs=epochs, start_epoch=1, oneshot=False, verbose=False)\n",
    "    t.stop()\n",
    "\n",
    "    # add returned mae values to the arrays\n",
    "    train_mae.append(t_mae)\n",
    "    val_mae.append(v_mae)\n",
    "\n",
    "# calculate the average\n",
    "average_train_mae = [ np.mean([ x[i] for x in train_mae ]) for i in range(epochs) ]\n",
    "average_val_mae = [ np.mean([ x[i] for x in val_mae ]) for i in range(epochs) ]\n",
    "\n",
    "# plot\n",
    "plot_loss(average_train_mae, average_val_mae, start_epoch=1)"
   ]
  },
  {
   "cell_type": "code",
   "execution_count": null,
   "id": "77c94735-fe6c-46bc-815d-ef0a7f6def94",
   "metadata": {},
   "outputs": [],
   "source": [
    "%%time\n",
    "# run k-fold cross validation\n",
    "\n",
    "# epochs to run for\n",
    "epochs = 100\n",
    "\n",
    "# timer\n",
    "t = Timer()\n",
    "\n",
    "# training and validation mean absolute error results\n",
    "train_mae = []\n",
    "val_mae = []\n",
    "\n",
    "print(f'k-fold cross validation with {num_splits} splits for {epochs} epochs')\n",
    "kf = KFold(n_splits=num_splits, shuffle=True, random_state=1202)\n",
    "for i, (train_index, val_index) in enumerate(kf.split(X_train)):\n",
    "    print(f'  processing fold {i}')\n",
    "\n",
    "    # split the data\n",
    "    print('    splitting data')\n",
    "    t.start()\n",
    "    X_train_kf, X_val_kf, y_train_kf, y_val_kf = X_train[train_index], X_train[val_index], y_train[train_index], y_train[val_index]\n",
    "    t.stop()\n",
    "\n",
    "    # build the datasets\n",
    "    print('    creating training dataset')\n",
    "    t.start()\n",
    "    train_ds = create_dataset(X_train_kf, y_train_kf, batch_size=batch_size, sort=True)\n",
    "    t.stop()\n",
    "    print('    creating validation dataset')\n",
    "    t.start()\n",
    "    val_ds = create_dataset(X_val_kf, y_val_kf, batch_size=batch_size, sort=False)\n",
    "    t.stop()\n",
    "\n",
    "    # fit the model and return mae\n",
    "    print('    fitting model')\n",
    "    t.start()\n",
    "    t_mae, v_mae = run_model(dan_zrimec_model2(), train_ds, val_ds, epochs=epochs, start_epoch=1, oneshot=False, verbose=False)\n",
    "    t.stop()\n",
    "\n",
    "    # add returned mae values to the arrays\n",
    "    train_mae.append(t_mae)\n",
    "    val_mae.append(v_mae)\n",
    "\n",
    "# calculate the average\n",
    "average_train_mae = [ np.mean([ x[i] for x in train_mae ]) for i in range(epochs) ]\n",
    "average_val_mae = [ np.mean([ x[i] for x in val_mae ]) for i in range(epochs) ]\n",
    "\n",
    "# plot\n",
    "plot_loss(average_train_mae, average_val_mae, start_epoch=1)"
   ]
  }
 ],
 "metadata": {
  "kernelspec": {
   "display_name": "Python 3 (ipykernel)",
   "language": "python",
   "name": "python3"
  },
  "language_info": {
   "codemirror_mode": {
    "name": "ipython",
    "version": 3
   },
   "file_extension": ".py",
   "mimetype": "text/x-python",
   "name": "python",
   "nbconvert_exporter": "python",
   "pygments_lexer": "ipython3",
   "version": "3.11.6"
  }
 },
 "nbformat": 4,
 "nbformat_minor": 5
}
