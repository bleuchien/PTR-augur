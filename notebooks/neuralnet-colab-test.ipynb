{
 "cells": [
  {
   "cell_type": "code",
   "execution_count": 111,
   "id": "8f12e085-6ce6-41e0-8f1e-1d35b23bf358",
   "metadata": {},
   "outputs": [],
   "source": [
    "# library dependencies\n",
    "import numpy as np\n",
    "from pathlib import Path\n",
    "import matplotlib.pyplot as plt\n",
    "import lzma\n",
    "import pickle\n",
    "from sklearn.model_selection import train_test_split\n",
    "import keras\n",
    "from keras import layers\n",
    "import tensorflow as tf"
   ]
  },
  {
   "cell_type": "code",
   "execution_count": 2,
   "id": "c9ecd0a7-8f25-4b5b-bfb0-b5375b32c9ba",
   "metadata": {},
   "outputs": [],
   "source": [
    "# method to store data as serialized binary structure lzma compressed\n",
    "def can_pickles(data, filename):\n",
    "    with lzma.LZMAFile(filename, 'wb') as f:\n",
    "        pickle.dump(data, f, pickle.DEFAULT_PROTOCOL)\n",
    "\n",
    "# method to retrieve data from a compressed pickle file (created with the method above)\n",
    "def uncan_pickles(filename):\n",
    "    with lzma.LZMAFile(filename, 'rb') as f:\n",
    "        return pickle.load(f)"
   ]
  },
  {
   "cell_type": "markdown",
   "id": "c330afba-bf62-4e92-ad84-62921e42d31f",
   "metadata": {},
   "source": [
    "baseline data\n",
    "\n",
    "X holds a list of sequences one hot encoded\n",
    "y holds a list of PTR values as floats"
   ]
  },
  {
   "cell_type": "code",
   "execution_count": 127,
   "id": "c3d1d16d-426c-460f-930d-0e91adba9e80",
   "metadata": {},
   "outputs": [],
   "source": [
    "# read the prepared data back\n",
    "X = uncan_pickles('../data/onehot_x_lung.pickle.xz')\n",
    "y = uncan_pickles('../data/onehot_y_lung.pickle.xz')"
   ]
  },
  {
   "cell_type": "code",
   "execution_count": 128,
   "id": "5b2e91af-1782-4909-8191-87442cac791f",
   "metadata": {},
   "outputs": [],
   "source": [
    "X_padded = tf.keras.preprocessing.sequence.pad_sequences(X, padding=\"post\")"
   ]
  },
  {
   "cell_type": "code",
   "execution_count": 129,
   "id": "a3603897-eca1-41be-a833-79e59f4b5be1",
   "metadata": {},
   "outputs": [],
   "source": [
    "# convert type of target values from string to float\n",
    "y = np.array(y).astype(float)"
   ]
  },
  {
   "cell_type": "code",
   "execution_count": 131,
   "id": "41525e09-813f-46b8-9f47-ebbd7381510c",
   "metadata": {},
   "outputs": [
    {
     "data": {
      "text/plain": [
       "array([[1, 0, 0, 0],\n",
       "       [0, 1, 0, 0],\n",
       "       [0, 1, 0, 0],\n",
       "       ...,\n",
       "       [0, 1, 0, 0],\n",
       "       [0, 1, 0, 0],\n",
       "       [0, 1, 0, 0]])"
      ]
     },
     "execution_count": 131,
     "metadata": {},
     "output_type": "execute_result"
    }
   ],
   "source": [
    "X[0]"
   ]
  },
  {
   "cell_type": "code",
   "execution_count": 132,
   "id": "85471826-2b3a-4371-8441-ae940ba8e580",
   "metadata": {},
   "outputs": [
    {
     "data": {
      "text/plain": [
       "7.544"
      ]
     },
     "execution_count": 132,
     "metadata": {},
     "output_type": "execute_result"
    }
   ],
   "source": [
    "y[0]"
   ]
  },
  {
   "cell_type": "code",
   "execution_count": 133,
   "id": "694f3792-6d06-48e0-81af-f689cbb35c21",
   "metadata": {},
   "outputs": [
    {
     "data": {
      "text/plain": [
       "8201"
      ]
     },
     "execution_count": 133,
     "metadata": {},
     "output_type": "execute_result"
    }
   ],
   "source": [
    "# count of input sequences\n",
    "len(X)"
   ]
  },
  {
   "cell_type": "markdown",
   "id": "9d073003-6e5c-498b-b02f-32f415d55d66",
   "metadata": {},
   "source": [
    "split data in train and test subsets\n",
    "\n",
    "verify that the split worked properly"
   ]
  },
  {
   "cell_type": "code",
   "execution_count": 130,
   "id": "b11ab59a-ba46-4c89-a02e-2e33bde62cfb",
   "metadata": {},
   "outputs": [],
   "source": [
    "X_train, X_test, y_train, y_test = train_test_split(X_padded, y, test_size=0.2, random_state=1202)"
   ]
  },
  {
   "cell_type": "code",
   "execution_count": 134,
   "id": "cb4565eb-bf79-4504-bb8c-3aa2448fcc53",
   "metadata": {},
   "outputs": [
    {
     "data": {
      "text/plain": [
       "array([[1, 0, 0, 0],\n",
       "       [0, 0, 1, 0],\n",
       "       [1, 0, 0, 0],\n",
       "       ...,\n",
       "       [0, 0, 0, 0],\n",
       "       [0, 0, 0, 0],\n",
       "       [0, 0, 0, 0]], dtype=int32)"
      ]
     },
     "execution_count": 134,
     "metadata": {},
     "output_type": "execute_result"
    }
   ],
   "source": [
    "# get a sample\n",
    "X_train[1]"
   ]
  },
  {
   "cell_type": "code",
   "execution_count": 135,
   "id": "f9d75b63-7632-476e-9a01-11d4f428ef5a",
   "metadata": {},
   "outputs": [
    {
     "data": {
      "text/plain": [
       "3.746"
      ]
     },
     "execution_count": 135,
     "metadata": {},
     "output_type": "execute_result"
    }
   ],
   "source": [
    "# get the matching target\n",
    "y_train[1]"
   ]
  },
  {
   "cell_type": "code",
   "execution_count": 136,
   "id": "afd20cd1-1386-4e36-a94f-9209edb96cfc",
   "metadata": {},
   "outputs": [
    {
     "name": "stdout",
     "output_type": "stream",
     "text": [
      "6663\n"
     ]
    }
   ],
   "source": [
    "# find the target value in the raw dataset\n",
    "for i in range(len(y)):\n",
    "    if y[i] == 3.746:\n",
    "        print(i)"
   ]
  },
  {
   "cell_type": "code",
   "execution_count": 138,
   "id": "8cded98c-538f-4195-9380-bd739a150c06",
   "metadata": {},
   "outputs": [
    {
     "name": "stdout",
     "output_type": "stream",
     "text": [
      "OK\n"
     ]
    }
   ],
   "source": [
    "# compare if the raw dataset entry matches the subset entry\n",
    "if X_padded[6663].all() == X_train[1].all():\n",
    "    print('OK')"
   ]
  },
  {
   "cell_type": "markdown",
   "id": "d3de67ac-0026-42a6-b09b-f1fd60a0d74c",
   "metadata": {},
   "source": [
    "model building"
   ]
  },
  {
   "cell_type": "code",
   "execution_count": 147,
   "id": "1a4c5168-f720-48b4-b777-01067098205e",
   "metadata": {},
   "outputs": [],
   "source": [
    "def baseline_model():\n",
    "    # input\n",
    "    inputs = layers.Input(shape=(None, 4), name='SequenceInput')\n",
    "    # 1D convolution\n",
    "    conv = layers.Conv1D(\n",
    "        filters=128, \n",
    "        kernel_size=10, \n",
    "        strides=1, \n",
    "        activation='relu',\n",
    "        name='Conv1D'\n",
    "    )(inputs)\n",
    "    # batch normalization\n",
    "    norm = layers.BatchNormalization(name='Normalization1')(conv)\n",
    "    # maxpool\n",
    "    pool = layers.MaxPooling1D(\n",
    "        pool_size=4,\n",
    "        strides=4,\n",
    "        name='Pooling'\n",
    "    )(norm)\n",
    "    # dropout\n",
    "    drop = layers.Dropout(rate=0.2, name='Dropout1')(pool)\n",
    "    # bi-directional LSTM\n",
    "    bilstm = layers.Bidirectional(\n",
    "        layers.LSTM(\n",
    "            units=128, \n",
    "            dropout=0\n",
    "        ),\n",
    "        merge_mode='sum',\n",
    "        input_shape=(None, 4),\n",
    "        name='BiDirectionalLSTM'\n",
    "    )(drop)\n",
    "    drop = layers.Dropout(rate=0.2, name='Dropout2')(bilstm)\n",
    "    # flatten\n",
    "    flat = layers.Flatten()(drop)\n",
    "    # fully connected\n",
    "    dense = layers.Dense(\n",
    "        units=64,\n",
    "        activation='relu',\n",
    "        name='FullyConnected'\n",
    "    )(flat)\n",
    "    # batch normalization\n",
    "    norm = layers.BatchNormalization(name='Normalization2')(dense)\n",
    "    # dropout\n",
    "    drop = layers.Dropout(rate=0.2, name='Dropout3')(norm)\n",
    "    # dense\n",
    "    outputs = layers.Dense(units=1, name='Output')(drop)\n",
    "\n",
    "    # model\n",
    "    model = keras.Model(inputs=inputs, outputs=outputs, name='BaselineModel')\n",
    "    \n",
    "    return model"
   ]
  },
  {
   "cell_type": "code",
   "execution_count": 153,
   "id": "8e3bcfc1-1a04-4a74-9605-1d1f83757491",
   "metadata": {},
   "outputs": [],
   "source": [
    "model = baseline_model()"
   ]
  },
  {
   "cell_type": "code",
   "execution_count": 154,
   "id": "d3d846b8-9bdb-453e-b467-1f4f1a518c4b",
   "metadata": {},
   "outputs": [
    {
     "name": "stdout",
     "output_type": "stream",
     "text": [
      "Model: \"BaselineModel\"\n",
      "_________________________________________________________________\n",
      " Layer (type)                Output Shape              Param #   \n",
      "=================================================================\n",
      " SequenceInput (InputLayer)  [(None, None, 4)]         0         \n",
      "                                                                 \n",
      " Conv1D (Conv1D)             (None, None, 128)         5248      \n",
      "                                                                 \n",
      " Normalization1 (BatchNorma  (None, None, 128)         512       \n",
      " lization)                                                       \n",
      "                                                                 \n",
      " Pooling (MaxPooling1D)      (None, None, 128)         0         \n",
      "                                                                 \n",
      " Dropout1 (Dropout)          (None, None, 128)         0         \n",
      "                                                                 \n",
      " BiDirectionalLSTM (Bidirec  (None, 128)               263168    \n",
      " tional)                                                         \n",
      "                                                                 \n",
      " Dropout2 (Dropout)          (None, 128)               0         \n",
      "                                                                 \n",
      " flatten_16 (Flatten)        (None, 128)               0         \n",
      "                                                                 \n",
      " FullyConnected (Dense)      (None, 64)                8256      \n",
      "                                                                 \n",
      " Normalization2 (BatchNorma  (None, 64)                256       \n",
      " lization)                                                       \n",
      "                                                                 \n",
      " Dropout3 (Dropout)          (None, 64)                0         \n",
      "                                                                 \n",
      " Output (Dense)              (None, 1)                 65        \n",
      "                                                                 \n",
      "=================================================================\n",
      "Total params: 277505 (1.06 MB)\n",
      "Trainable params: 277121 (1.06 MB)\n",
      "Non-trainable params: 384 (1.50 KB)\n",
      "_________________________________________________________________\n"
     ]
    }
   ],
   "source": [
    "model.summary()"
   ]
  },
  {
   "cell_type": "code",
   "execution_count": 106,
   "id": "c75b8982-e3d5-4544-9862-349265fce832",
   "metadata": {},
   "outputs": [
    {
     "name": "stdout",
     "output_type": "stream",
     "text": [
      "You must install pydot (`pip install pydot`) and install graphviz (see instructions at https://graphviz.gitlab.io/download/) for plot_model to work.\n"
     ]
    }
   ],
   "source": [
    "keras.utils.plot_model(model, 'baseline.png')\n",
    "# img = plt.imread('baseline.png')\n",
    "# plt.figure(figsize=(10,10))\n",
    "# plt.imshow(img)\n",
    "# plt.axis('off')\n",
    "# plt.show()"
   ]
  },
  {
   "cell_type": "code",
   "execution_count": 170,
   "id": "5172dfc2-f846-4a93-8321-e38a56f857ad",
   "metadata": {},
   "outputs": [],
   "source": [
    "model.compile(\n",
    "    loss=keras.losses.LogCosh(),\n",
    "    optimizer=keras.optimizers.RMSprop(),\n",
    "    metrics=[keras.metrics.MeanAbsolutePercentageError(), keras.metrics.RootMeanSquaredError(), keras.losses.MeanSquaredError(), keras.metrics.MeanAbsoluteError(), keras.metrics.LogCoshError()],\n",
    ")\n",
    "\n",
    "# LOSS\n",
    "# works keras.losses.MeanSquaredError(),\n",
    "\n",
    "# METRIC\n",
    "# useless keras.metrics.Accuracy(), "
   ]
  },
  {
   "cell_type": "code",
   "execution_count": 117,
   "id": "1a9c18cf-111f-4045-ab88-851efdab4c21",
   "metadata": {},
   "outputs": [],
   "source": [
    "# alternative methode to prepadding the sequences\n",
    "# X_train_ragged = tf.ragged.constant(X_train, dtype=tf.int8, ragged_rank=1, row_splits_dtype=tf.int32)\n",
    "# dataset = tf.data.Dataset.from_tensor_slices(tensor)\n",
    "# dataset = dataset.map(lambda x: x)"
   ]
  },
  {
   "cell_type": "code",
   "execution_count": 171,
   "id": "d7843173-f03d-4cdc-9e81-bf033163b6b5",
   "metadata": {},
   "outputs": [
    {
     "name": "stdout",
     "output_type": "stream",
     "text": [
      "Epoch 1/100\n",
      "82/82 [==============================] - 80s 961ms/step - loss: 0.1947 - mean_absolute_percentage_error: 11.5574 - root_mean_squared_error: 0.6817 - mean_squared_error: 0.4647 - mean_absolute_error: 0.5359 - logcosh: 0.1947 - val_loss: 0.3921 - val_mean_absolute_percentage_error: 18.9036 - val_root_mean_squared_error: 1.0449 - val_mean_squared_error: 1.0943 - val_mean_absolute_error: 0.8106 - val_logcosh: 0.3921\n",
      "Epoch 2/100\n",
      "82/82 [==============================] - 78s 946ms/step - loss: 0.1878 - mean_absolute_percentage_error: 11.3679 - root_mean_squared_error: 0.6670 - mean_squared_error: 0.4449 - mean_absolute_error: 0.5280 - logcosh: 0.1878 - val_loss: 0.3620 - val_mean_absolute_percentage_error: 17.2009 - val_root_mean_squared_error: 0.9873 - val_mean_squared_error: 0.9761 - val_mean_absolute_error: 0.7788 - val_logcosh: 0.3620\n",
      "Epoch 3/100\n",
      "82/82 [==============================] - 78s 952ms/step - loss: 0.1827 - mean_absolute_percentage_error: 11.1356 - root_mean_squared_error: 0.6568 - mean_squared_error: 0.4314 - mean_absolute_error: 0.5190 - logcosh: 0.1827 - val_loss: 0.3510 - val_mean_absolute_percentage_error: 17.0969 - val_root_mean_squared_error: 0.9714 - val_mean_squared_error: 0.9489 - val_mean_absolute_error: 0.7580 - val_logcosh: 0.3510\n",
      "Epoch 4/100\n",
      "82/82 [==============================] - 78s 959ms/step - loss: 0.1824 - mean_absolute_percentage_error: 11.1389 - root_mean_squared_error: 0.6571 - mean_squared_error: 0.4318 - mean_absolute_error: 0.5169 - logcosh: 0.1824 - val_loss: 0.3596 - val_mean_absolute_percentage_error: 17.3679 - val_root_mean_squared_error: 0.9849 - val_mean_squared_error: 0.9755 - val_mean_absolute_error: 0.7701 - val_logcosh: 0.3596\n",
      "Epoch 5/100\n",
      "82/82 [==============================] - 78s 955ms/step - loss: 0.1774 - mean_absolute_percentage_error: 10.9964 - root_mean_squared_error: 0.6451 - mean_squared_error: 0.4162 - mean_absolute_error: 0.5124 - logcosh: 0.1774 - val_loss: 0.3734 - val_mean_absolute_percentage_error: 18.0576 - val_root_mean_squared_error: 1.0140 - val_mean_squared_error: 1.0290 - val_mean_absolute_error: 0.7854 - val_logcosh: 0.3734\n",
      "Epoch 6/100\n",
      "82/82 [==============================] - 79s 959ms/step - loss: 0.1721 - mean_absolute_percentage_error: 10.7714 - root_mean_squared_error: 0.6344 - mean_squared_error: 0.4025 - mean_absolute_error: 0.5025 - logcosh: 0.1721 - val_loss: 0.3653 - val_mean_absolute_percentage_error: 17.0920 - val_root_mean_squared_error: 0.9900 - val_mean_squared_error: 0.9795 - val_mean_absolute_error: 0.7881 - val_logcosh: 0.3653\n",
      "Epoch 7/100\n",
      "82/82 [==============================] - 78s 955ms/step - loss: 0.1730 - mean_absolute_percentage_error: 10.7262 - root_mean_squared_error: 0.6380 - mean_squared_error: 0.4071 - mean_absolute_error: 0.5004 - logcosh: 0.1730 - val_loss: 0.3662 - val_mean_absolute_percentage_error: 17.7670 - val_root_mean_squared_error: 0.9995 - val_mean_squared_error: 0.9982 - val_mean_absolute_error: 0.7772 - val_logcosh: 0.3662\n",
      "Epoch 8/100\n",
      "82/82 [==============================] - 77s 945ms/step - loss: 0.1699 - mean_absolute_percentage_error: 10.6528 - root_mean_squared_error: 0.6315 - mean_squared_error: 0.3988 - mean_absolute_error: 0.4960 - logcosh: 0.1699 - val_loss: 0.3758 - val_mean_absolute_percentage_error: 18.1861 - val_root_mean_squared_error: 1.0167 - val_mean_squared_error: 1.0358 - val_mean_absolute_error: 0.7862 - val_logcosh: 0.3758\n",
      "Epoch 9/100\n",
      "82/82 [==============================] - 78s 951ms/step - loss: 0.1639 - mean_absolute_percentage_error: 10.4031 - root_mean_squared_error: 0.6166 - mean_squared_error: 0.3802 - mean_absolute_error: 0.4858 - logcosh: 0.1639 - val_loss: 0.3544 - val_mean_absolute_percentage_error: 17.1061 - val_root_mean_squared_error: 0.9735 - val_mean_squared_error: 0.9512 - val_mean_absolute_error: 0.7685 - val_logcosh: 0.3544\n",
      "Epoch 10/100\n",
      "82/82 [==============================] - 78s 949ms/step - loss: 0.1671 - mean_absolute_percentage_error: 10.5734 - root_mean_squared_error: 0.6250 - mean_squared_error: 0.3907 - mean_absolute_error: 0.4939 - logcosh: 0.1671 - val_loss: 0.3545 - val_mean_absolute_percentage_error: 17.1402 - val_root_mean_squared_error: 0.9754 - val_mean_squared_error: 0.9523 - val_mean_absolute_error: 0.7629 - val_logcosh: 0.3545\n",
      "Epoch 11/100\n",
      "82/82 [==============================] - 78s 951ms/step - loss: 0.1606 - mean_absolute_percentage_error: 10.3418 - root_mean_squared_error: 0.6098 - mean_squared_error: 0.3719 - mean_absolute_error: 0.4849 - logcosh: 0.1606 - val_loss: 0.3630 - val_mean_absolute_percentage_error: 17.6617 - val_root_mean_squared_error: 0.9950 - val_mean_squared_error: 0.9909 - val_mean_absolute_error: 0.7717 - val_logcosh: 0.3630\n",
      "Epoch 12/100\n",
      "82/82 [==============================] - 78s 950ms/step - loss: 0.1592 - mean_absolute_percentage_error: 10.3110 - root_mean_squared_error: 0.6057 - mean_squared_error: 0.3669 - mean_absolute_error: 0.4821 - logcosh: 0.1592 - val_loss: 0.3529 - val_mean_absolute_percentage_error: 17.0994 - val_root_mean_squared_error: 0.9743 - val_mean_squared_error: 0.9500 - val_mean_absolute_error: 0.7618 - val_logcosh: 0.3529\n",
      "Epoch 13/100\n",
      "82/82 [==============================] - 78s 952ms/step - loss: 0.1556 - mean_absolute_percentage_error: 10.1313 - root_mean_squared_error: 0.6000 - mean_squared_error: 0.3599 - mean_absolute_error: 0.4726 - logcosh: 0.1556 - val_loss: 0.3780 - val_mean_absolute_percentage_error: 18.3791 - val_root_mean_squared_error: 1.0209 - val_mean_squared_error: 1.0420 - val_mean_absolute_error: 0.7918 - val_logcosh: 0.3780\n",
      "Epoch 14/100\n",
      "82/82 [==============================] - 78s 951ms/step - loss: 0.1564 - mean_absolute_percentage_error: 10.1650 - root_mean_squared_error: 0.6009 - mean_squared_error: 0.3611 - mean_absolute_error: 0.4762 - logcosh: 0.1564 - val_loss: 0.3804 - val_mean_absolute_percentage_error: 18.3427 - val_root_mean_squared_error: 1.0229 - val_mean_squared_error: 1.0475 - val_mean_absolute_error: 0.7959 - val_logcosh: 0.3804\n",
      "Epoch 15/100\n",
      "82/82 [==============================] - 78s 954ms/step - loss: 0.1508 - mean_absolute_percentage_error: 9.9362 - root_mean_squared_error: 0.5896 - mean_squared_error: 0.3477 - mean_absolute_error: 0.4649 - logcosh: 0.1508 - val_loss: 0.3566 - val_mean_absolute_percentage_error: 17.3005 - val_root_mean_squared_error: 0.9797 - val_mean_squared_error: 0.9612 - val_mean_absolute_error: 0.7682 - val_logcosh: 0.3566\n",
      "Epoch 16/100\n",
      "82/82 [==============================] - 78s 948ms/step - loss: 0.1464 - mean_absolute_percentage_error: 9.7747 - root_mean_squared_error: 0.5789 - mean_squared_error: 0.3351 - mean_absolute_error: 0.4583 - logcosh: 0.1464 - val_loss: 0.3658 - val_mean_absolute_percentage_error: 17.1737 - val_root_mean_squared_error: 0.9905 - val_mean_squared_error: 0.9838 - val_mean_absolute_error: 0.7834 - val_logcosh: 0.3658\n",
      "Epoch 17/100\n",
      "82/82 [==============================] - 78s 955ms/step - loss: 0.1445 - mean_absolute_percentage_error: 9.6412 - root_mean_squared_error: 0.5746 - mean_squared_error: 0.3302 - mean_absolute_error: 0.4546 - logcosh: 0.1445 - val_loss: 0.3541 - val_mean_absolute_percentage_error: 17.2160 - val_root_mean_squared_error: 0.9773 - val_mean_squared_error: 0.9577 - val_mean_absolute_error: 0.7626 - val_logcosh: 0.3541\n",
      "Epoch 18/100\n",
      "82/82 [==============================] - 77s 940ms/step - loss: 0.1460 - mean_absolute_percentage_error: 9.7067 - root_mean_squared_error: 0.5781 - mean_squared_error: 0.3342 - mean_absolute_error: 0.4557 - logcosh: 0.1460 - val_loss: 0.3679 - val_mean_absolute_percentage_error: 17.0520 - val_root_mean_squared_error: 0.9929 - val_mean_squared_error: 0.9880 - val_mean_absolute_error: 0.7873 - val_logcosh: 0.3679\n",
      "Epoch 19/100\n",
      "82/82 [==============================] - 77s 945ms/step - loss: 0.1396 - mean_absolute_percentage_error: 9.5086 - root_mean_squared_error: 0.5637 - mean_squared_error: 0.3177 - mean_absolute_error: 0.4467 - logcosh: 0.1396 - val_loss: 0.3663 - val_mean_absolute_percentage_error: 17.7846 - val_root_mean_squared_error: 1.0002 - val_mean_squared_error: 1.0024 - val_mean_absolute_error: 0.7794 - val_logcosh: 0.3663\n",
      "Epoch 20/100\n",
      "82/82 [==============================] - 79s 958ms/step - loss: 0.1451 - mean_absolute_percentage_error: 9.7249 - root_mean_squared_error: 0.5758 - mean_squared_error: 0.3316 - mean_absolute_error: 0.4570 - logcosh: 0.1451 - val_loss: 0.3764 - val_mean_absolute_percentage_error: 18.3247 - val_root_mean_squared_error: 1.0209 - val_mean_squared_error: 1.0436 - val_mean_absolute_error: 0.7890 - val_logcosh: 0.3764\n",
      "Epoch 21/100\n",
      "82/82 [==============================] - 78s 951ms/step - loss: 0.1440 - mean_absolute_percentage_error: 9.7271 - root_mean_squared_error: 0.5737 - mean_squared_error: 0.3291 - mean_absolute_error: 0.4560 - logcosh: 0.1440 - val_loss: 0.3622 - val_mean_absolute_percentage_error: 17.6935 - val_root_mean_squared_error: 0.9933 - val_mean_squared_error: 0.9886 - val_mean_absolute_error: 0.7714 - val_logcosh: 0.3622\n",
      "Epoch 22/100\n",
      "82/82 [==============================] - 78s 956ms/step - loss: 0.1337 - mean_absolute_percentage_error: 9.2607 - root_mean_squared_error: 0.5509 - mean_squared_error: 0.3035 - mean_absolute_error: 0.4363 - logcosh: 0.1337 - val_loss: 0.3590 - val_mean_absolute_percentage_error: 17.3099 - val_root_mean_squared_error: 0.9825 - val_mean_squared_error: 0.9665 - val_mean_absolute_error: 0.7701 - val_logcosh: 0.3590\n",
      "Epoch 23/100\n",
      "82/82 [==============================] - 78s 955ms/step - loss: 0.1375 - mean_absolute_percentage_error: 9.4545 - root_mean_squared_error: 0.5582 - mean_squared_error: 0.3116 - mean_absolute_error: 0.4451 - logcosh: 0.1375 - val_loss: 0.3631 - val_mean_absolute_percentage_error: 17.7326 - val_root_mean_squared_error: 0.9954 - val_mean_squared_error: 0.9931 - val_mean_absolute_error: 0.7710 - val_logcosh: 0.3631\n",
      "Epoch 24/100\n",
      "82/82 [==============================] - 79s 961ms/step - loss: 0.1340 - mean_absolute_percentage_error: 9.3046 - root_mean_squared_error: 0.5520 - mean_squared_error: 0.3047 - mean_absolute_error: 0.4363 - logcosh: 0.1340 - val_loss: 0.3963 - val_mean_absolute_percentage_error: 17.5782 - val_root_mean_squared_error: 1.0344 - val_mean_squared_error: 1.0709 - val_mean_absolute_error: 0.8287 - val_logcosh: 0.3963\n",
      "Epoch 25/100\n",
      "82/82 [==============================] - 78s 954ms/step - loss: 0.1319 - mean_absolute_percentage_error: 9.1329 - root_mean_squared_error: 0.5466 - mean_squared_error: 0.2988 - mean_absolute_error: 0.4298 - logcosh: 0.1319 - val_loss: 0.3589 - val_mean_absolute_percentage_error: 17.1147 - val_root_mean_squared_error: 0.9812 - val_mean_squared_error: 0.9631 - val_mean_absolute_error: 0.7730 - val_logcosh: 0.3589\n",
      "Epoch 26/100\n",
      "82/82 [==============================] - 78s 953ms/step - loss: 0.1304 - mean_absolute_percentage_error: 9.1228 - root_mean_squared_error: 0.5426 - mean_squared_error: 0.2945 - mean_absolute_error: 0.4291 - logcosh: 0.1304 - val_loss: 0.3614 - val_mean_absolute_percentage_error: 17.7835 - val_root_mean_squared_error: 0.9955 - val_mean_squared_error: 0.9922 - val_mean_absolute_error: 0.7687 - val_logcosh: 0.3614\n",
      "Epoch 27/100\n",
      "82/82 [==============================] - 78s 953ms/step - loss: 0.1294 - mean_absolute_percentage_error: 9.0705 - root_mean_squared_error: 0.5411 - mean_squared_error: 0.2928 - mean_absolute_error: 0.4270 - logcosh: 0.1294 - val_loss: 0.3525 - val_mean_absolute_percentage_error: 17.2488 - val_root_mean_squared_error: 0.9772 - val_mean_squared_error: 0.9558 - val_mean_absolute_error: 0.7586 - val_logcosh: 0.3525\n",
      "Epoch 28/100\n",
      "82/82 [==============================] - 78s 949ms/step - loss: 0.1289 - mean_absolute_percentage_error: 9.0626 - root_mean_squared_error: 0.5390 - mean_squared_error: 0.2905 - mean_absolute_error: 0.4268 - logcosh: 0.1289 - val_loss: 0.3523 - val_mean_absolute_percentage_error: 17.1754 - val_root_mean_squared_error: 0.9742 - val_mean_squared_error: 0.9480 - val_mean_absolute_error: 0.7609 - val_logcosh: 0.3523\n",
      "Epoch 29/100\n",
      "82/82 [==============================] - 78s 952ms/step - loss: 0.1250 - mean_absolute_percentage_error: 8.9030 - root_mean_squared_error: 0.5299 - mean_squared_error: 0.2808 - mean_absolute_error: 0.4200 - logcosh: 0.1250 - val_loss: 0.3514 - val_mean_absolute_percentage_error: 17.1538 - val_root_mean_squared_error: 0.9719 - val_mean_squared_error: 0.9433 - val_mean_absolute_error: 0.7580 - val_logcosh: 0.3514\n",
      "Epoch 30/100\n",
      "82/82 [==============================] - 78s 954ms/step - loss: 0.1221 - mean_absolute_percentage_error: 8.7923 - root_mean_squared_error: 0.5236 - mean_squared_error: 0.2742 - mean_absolute_error: 0.4148 - logcosh: 0.1221 - val_loss: 0.3577 - val_mean_absolute_percentage_error: 17.1409 - val_root_mean_squared_error: 0.9812 - val_mean_squared_error: 0.9623 - val_mean_absolute_error: 0.7697 - val_logcosh: 0.3577\n",
      "Epoch 31/100\n",
      "82/82 [==============================] - 78s 950ms/step - loss: 0.1241 - mean_absolute_percentage_error: 8.8922 - root_mean_squared_error: 0.5288 - mean_squared_error: 0.2796 - mean_absolute_error: 0.4177 - logcosh: 0.1241 - val_loss: 0.3496 - val_mean_absolute_percentage_error: 17.0732 - val_root_mean_squared_error: 0.9719 - val_mean_squared_error: 0.9443 - val_mean_absolute_error: 0.7521 - val_logcosh: 0.3496\n",
      "Epoch 32/100\n",
      "82/82 [==============================] - 78s 947ms/step - loss: 0.1243 - mean_absolute_percentage_error: 8.8587 - root_mean_squared_error: 0.5287 - mean_squared_error: 0.2795 - mean_absolute_error: 0.4176 - logcosh: 0.1243 - val_loss: 0.3725 - val_mean_absolute_percentage_error: 18.1523 - val_root_mean_squared_error: 1.0135 - val_mean_squared_error: 1.0290 - val_mean_absolute_error: 0.7821 - val_logcosh: 0.3725\n",
      "Epoch 33/100\n",
      "82/82 [==============================] - 78s 955ms/step - loss: 0.1219 - mean_absolute_percentage_error: 8.7581 - root_mean_squared_error: 0.5239 - mean_squared_error: 0.2745 - mean_absolute_error: 0.4127 - logcosh: 0.1219 - val_loss: 0.3470 - val_mean_absolute_percentage_error: 17.0600 - val_root_mean_squared_error: 0.9646 - val_mean_squared_error: 0.9296 - val_mean_absolute_error: 0.7553 - val_logcosh: 0.3470\n",
      "Epoch 34/100\n",
      "82/82 [==============================] - 78s 949ms/step - loss: 0.1231 - mean_absolute_percentage_error: 8.8208 - root_mean_squared_error: 0.5261 - mean_squared_error: 0.2768 - mean_absolute_error: 0.4151 - logcosh: 0.1231 - val_loss: 0.3462 - val_mean_absolute_percentage_error: 16.8645 - val_root_mean_squared_error: 0.9625 - val_mean_squared_error: 0.9259 - val_mean_absolute_error: 0.7549 - val_logcosh: 0.3462\n",
      "Epoch 35/100\n",
      "82/82 [==============================] - 78s 949ms/step - loss: 0.1249 - mean_absolute_percentage_error: 8.8673 - root_mean_squared_error: 0.5306 - mean_squared_error: 0.2815 - mean_absolute_error: 0.4180 - logcosh: 0.1249 - val_loss: 0.3446 - val_mean_absolute_percentage_error: 16.8571 - val_root_mean_squared_error: 0.9590 - val_mean_squared_error: 0.9185 - val_mean_absolute_error: 0.7526 - val_logcosh: 0.3446\n",
      "Epoch 36/100\n",
      "82/82 [==============================] - 78s 953ms/step - loss: 0.1171 - mean_absolute_percentage_error: 8.5552 - root_mean_squared_error: 0.5110 - mean_squared_error: 0.2612 - mean_absolute_error: 0.4047 - logcosh: 0.1171 - val_loss: 0.3746 - val_mean_absolute_percentage_error: 18.3225 - val_root_mean_squared_error: 1.0188 - val_mean_squared_error: 1.0390 - val_mean_absolute_error: 0.7806 - val_logcosh: 0.3746\n",
      "Epoch 37/100\n",
      "82/82 [==============================] - 77s 946ms/step - loss: 0.1147 - mean_absolute_percentage_error: 8.3912 - root_mean_squared_error: 0.5071 - mean_squared_error: 0.2572 - mean_absolute_error: 0.3968 - logcosh: 0.1147 - val_loss: 0.3520 - val_mean_absolute_percentage_error: 17.1961 - val_root_mean_squared_error: 0.9749 - val_mean_squared_error: 0.9503 - val_mean_absolute_error: 0.7583 - val_logcosh: 0.3520\n",
      "Epoch 38/100\n",
      "82/82 [==============================] - 78s 952ms/step - loss: 0.1155 - mean_absolute_percentage_error: 8.5159 - root_mean_squared_error: 0.5076 - mean_squared_error: 0.2576 - mean_absolute_error: 0.4016 - logcosh: 0.1155 - val_loss: 0.3519 - val_mean_absolute_percentage_error: 17.1528 - val_root_mean_squared_error: 0.9760 - val_mean_squared_error: 0.9539 - val_mean_absolute_error: 0.7591 - val_logcosh: 0.3519\n",
      "Epoch 39/100\n",
      "82/82 [==============================] - 77s 946ms/step - loss: 0.1165 - mean_absolute_percentage_error: 8.5142 - root_mean_squared_error: 0.5118 - mean_squared_error: 0.2620 - mean_absolute_error: 0.4018 - logcosh: 0.1165 - val_loss: 0.3435 - val_mean_absolute_percentage_error: 16.7834 - val_root_mean_squared_error: 0.9595 - val_mean_squared_error: 0.9218 - val_mean_absolute_error: 0.7464 - val_logcosh: 0.3435\n",
      "Epoch 40/100\n",
      "82/82 [==============================] - 78s 954ms/step - loss: 0.1166 - mean_absolute_percentage_error: 8.5635 - root_mean_squared_error: 0.5098 - mean_squared_error: 0.2599 - mean_absolute_error: 0.4049 - logcosh: 0.1166 - val_loss: 0.4031 - val_mean_absolute_percentage_error: 19.4051 - val_root_mean_squared_error: 1.0655 - val_mean_squared_error: 1.1383 - val_mean_absolute_error: 0.8211 - val_logcosh: 0.4031\n",
      "Epoch 41/100\n",
      "82/82 [==============================] - 78s 956ms/step - loss: 0.1153 - mean_absolute_percentage_error: 8.4610 - root_mean_squared_error: 0.5072 - mean_squared_error: 0.2573 - mean_absolute_error: 0.3999 - logcosh: 0.1153 - val_loss: 0.3583 - val_mean_absolute_percentage_error: 17.6097 - val_root_mean_squared_error: 0.9914 - val_mean_squared_error: 0.9841 - val_mean_absolute_error: 0.7644 - val_logcosh: 0.3583\n",
      "Epoch 42/100\n",
      "82/82 [==============================] - 78s 951ms/step - loss: 0.1147 - mean_absolute_percentage_error: 8.4656 - root_mean_squared_error: 0.5064 - mean_squared_error: 0.2564 - mean_absolute_error: 0.3993 - logcosh: 0.1147 - val_loss: 0.3454 - val_mean_absolute_percentage_error: 17.1594 - val_root_mean_squared_error: 0.9658 - val_mean_squared_error: 0.9341 - val_mean_absolute_error: 0.7470 - val_logcosh: 0.3454\n",
      "Epoch 43/100\n",
      "82/82 [==============================] - 78s 952ms/step - loss: 0.1130 - mean_absolute_percentage_error: 8.3758 - root_mean_squared_error: 0.5022 - mean_squared_error: 0.2522 - mean_absolute_error: 0.3951 - logcosh: 0.1130 - val_loss: 0.3862 - val_mean_absolute_percentage_error: 17.2180 - val_root_mean_squared_error: 1.0167 - val_mean_squared_error: 1.0359 - val_mean_absolute_error: 0.8139 - val_logcosh: 0.3862\n",
      "Epoch 44/100\n",
      "82/82 [==============================] - 78s 950ms/step - loss: 0.1114 - mean_absolute_percentage_error: 8.3291 - root_mean_squared_error: 0.4977 - mean_squared_error: 0.2477 - mean_absolute_error: 0.3929 - logcosh: 0.1114 - val_loss: 0.3525 - val_mean_absolute_percentage_error: 16.9800 - val_root_mean_squared_error: 0.9762 - val_mean_squared_error: 0.9548 - val_mean_absolute_error: 0.7572 - val_logcosh: 0.3525\n",
      "Epoch 45/100\n",
      "82/82 [==============================] - 78s 949ms/step - loss: 0.1122 - mean_absolute_percentage_error: 8.4522 - root_mean_squared_error: 0.4985 - mean_squared_error: 0.2485 - mean_absolute_error: 0.3980 - logcosh: 0.1122 - val_loss: 0.3361 - val_mean_absolute_percentage_error: 16.6247 - val_root_mean_squared_error: 0.9499 - val_mean_squared_error: 0.9019 - val_mean_absolute_error: 0.7361 - val_logcosh: 0.3361\n",
      "Epoch 46/100\n",
      "82/82 [==============================] - 78s 948ms/step - loss: 0.1080 - mean_absolute_percentage_error: 8.1523 - root_mean_squared_error: 0.4901 - mean_squared_error: 0.2402 - mean_absolute_error: 0.3873 - logcosh: 0.1080 - val_loss: 0.4219 - val_mean_absolute_percentage_error: 17.9701 - val_root_mean_squared_error: 1.0689 - val_mean_squared_error: 1.1459 - val_mean_absolute_error: 0.8671 - val_logcosh: 0.4219\n",
      "Epoch 47/100\n",
      "82/82 [==============================] - 78s 949ms/step - loss: 0.1076 - mean_absolute_percentage_error: 8.2073 - root_mean_squared_error: 0.4879 - mean_squared_error: 0.2381 - mean_absolute_error: 0.3883 - logcosh: 0.1076 - val_loss: 0.3540 - val_mean_absolute_percentage_error: 17.5209 - val_root_mean_squared_error: 0.9826 - val_mean_squared_error: 0.9668 - val_mean_absolute_error: 0.7571 - val_logcosh: 0.3540\n",
      "Epoch 48/100\n",
      "82/82 [==============================] - 78s 951ms/step - loss: 0.1027 - mean_absolute_percentage_error: 7.9729 - root_mean_squared_error: 0.4757 - mean_squared_error: 0.2263 - mean_absolute_error: 0.3773 - logcosh: 0.1027 - val_loss: 0.3551 - val_mean_absolute_percentage_error: 17.0181 - val_root_mean_squared_error: 0.9743 - val_mean_squared_error: 0.9475 - val_mean_absolute_error: 0.7669 - val_logcosh: 0.3551\n",
      "Epoch 49/100\n",
      "82/82 [==============================] - 78s 954ms/step - loss: 0.1061 - mean_absolute_percentage_error: 8.1091 - root_mean_squared_error: 0.4840 - mean_squared_error: 0.2343 - mean_absolute_error: 0.3849 - logcosh: 0.1061 - val_loss: 0.3421 - val_mean_absolute_percentage_error: 16.9443 - val_root_mean_squared_error: 0.9595 - val_mean_squared_error: 0.9208 - val_mean_absolute_error: 0.7459 - val_logcosh: 0.3421\n",
      "Epoch 50/100\n",
      "82/82 [==============================] - 78s 948ms/step - loss: 0.1063 - mean_absolute_percentage_error: 8.1224 - root_mean_squared_error: 0.4861 - mean_squared_error: 0.2363 - mean_absolute_error: 0.3831 - logcosh: 0.1063 - val_loss: 0.3452 - val_mean_absolute_percentage_error: 16.8735 - val_root_mean_squared_error: 0.9618 - val_mean_squared_error: 0.9251 - val_mean_absolute_error: 0.7513 - val_logcosh: 0.3452\n",
      "Epoch 51/100\n",
      "82/82 [==============================] - 78s 948ms/step - loss: 0.1096 - mean_absolute_percentage_error: 8.2600 - root_mean_squared_error: 0.4937 - mean_squared_error: 0.2438 - mean_absolute_error: 0.3904 - logcosh: 0.1096 - val_loss: 0.3427 - val_mean_absolute_percentage_error: 16.5883 - val_root_mean_squared_error: 0.9541 - val_mean_squared_error: 0.9119 - val_mean_absolute_error: 0.7485 - val_logcosh: 0.3427\n",
      "Epoch 52/100\n",
      "82/82 [==============================] - 78s 953ms/step - loss: 0.1050 - mean_absolute_percentage_error: 8.0960 - root_mean_squared_error: 0.4818 - mean_squared_error: 0.2322 - mean_absolute_error: 0.3816 - logcosh: 0.1050 - val_loss: 0.3646 - val_mean_absolute_percentage_error: 16.7297 - val_root_mean_squared_error: 0.9823 - val_mean_squared_error: 0.9659 - val_mean_absolute_error: 0.7874 - val_logcosh: 0.3646\n",
      "Epoch 53/100\n",
      "82/82 [==============================] - 78s 949ms/step - loss: 0.1025 - mean_absolute_percentage_error: 7.9728 - root_mean_squared_error: 0.4759 - mean_squared_error: 0.2265 - mean_absolute_error: 0.3769 - logcosh: 0.1025 - val_loss: 0.3557 - val_mean_absolute_percentage_error: 17.0351 - val_root_mean_squared_error: 0.9767 - val_mean_squared_error: 0.9554 - val_mean_absolute_error: 0.7652 - val_logcosh: 0.3557\n",
      "Epoch 54/100\n",
      "82/82 [==============================] - 78s 948ms/step - loss: 0.1019 - mean_absolute_percentage_error: 7.9041 - root_mean_squared_error: 0.4750 - mean_squared_error: 0.2257 - mean_absolute_error: 0.3747 - logcosh: 0.1019 - val_loss: 0.3529 - val_mean_absolute_percentage_error: 17.2907 - val_root_mean_squared_error: 0.9787 - val_mean_squared_error: 0.9603 - val_mean_absolute_error: 0.7579 - val_logcosh: 0.3529\n",
      "Epoch 55/100\n",
      "82/82 [==============================] - 78s 949ms/step - loss: 0.1046 - mean_absolute_percentage_error: 8.0684 - root_mean_squared_error: 0.4800 - mean_squared_error: 0.2304 - mean_absolute_error: 0.3810 - logcosh: 0.1046 - val_loss: 0.3756 - val_mean_absolute_percentage_error: 16.9553 - val_root_mean_squared_error: 0.9966 - val_mean_squared_error: 0.9938 - val_mean_absolute_error: 0.8051 - val_logcosh: 0.3756\n",
      "Epoch 56/100\n",
      "82/82 [==============================] - 78s 949ms/step - loss: 0.1011 - mean_absolute_percentage_error: 7.8472 - root_mean_squared_error: 0.4727 - mean_squared_error: 0.2234 - mean_absolute_error: 0.3729 - logcosh: 0.1011 - val_loss: 0.3449 - val_mean_absolute_percentage_error: 17.0400 - val_root_mean_squared_error: 0.9639 - val_mean_squared_error: 0.9300 - val_mean_absolute_error: 0.7478 - val_logcosh: 0.3449\n",
      "Epoch 57/100\n",
      "82/82 [==============================] - 78s 951ms/step - loss: 0.0999 - mean_absolute_percentage_error: 7.8590 - root_mean_squared_error: 0.4692 - mean_squared_error: 0.2201 - mean_absolute_error: 0.3712 - logcosh: 0.0999 - val_loss: 0.3447 - val_mean_absolute_percentage_error: 17.0212 - val_root_mean_squared_error: 0.9612 - val_mean_squared_error: 0.9278 - val_mean_absolute_error: 0.7518 - val_logcosh: 0.3447\n",
      "Epoch 58/100\n",
      "82/82 [==============================] - 77s 946ms/step - loss: 0.1026 - mean_absolute_percentage_error: 7.9583 - root_mean_squared_error: 0.4760 - mean_squared_error: 0.2265 - mean_absolute_error: 0.3772 - logcosh: 0.1026 - val_loss: 0.3591 - val_mean_absolute_percentage_error: 16.6384 - val_root_mean_squared_error: 0.9759 - val_mean_squared_error: 0.9570 - val_mean_absolute_error: 0.7772 - val_logcosh: 0.3591\n",
      "Epoch 59/100\n",
      "82/82 [==============================] - 78s 951ms/step - loss: 0.1010 - mean_absolute_percentage_error: 7.8332 - root_mean_squared_error: 0.4731 - mean_squared_error: 0.2238 - mean_absolute_error: 0.3711 - logcosh: 0.1010 - val_loss: 0.3682 - val_mean_absolute_percentage_error: 18.0805 - val_root_mean_squared_error: 1.0057 - val_mean_squared_error: 1.0123 - val_mean_absolute_error: 0.7784 - val_logcosh: 0.3682\n",
      "Epoch 60/100\n",
      "82/82 [==============================] - 78s 953ms/step - loss: 0.0996 - mean_absolute_percentage_error: 7.8449 - root_mean_squared_error: 0.4679 - mean_squared_error: 0.2189 - mean_absolute_error: 0.3705 - logcosh: 0.0996 - val_loss: 0.3558 - val_mean_absolute_percentage_error: 17.2081 - val_root_mean_squared_error: 0.9759 - val_mean_squared_error: 0.9541 - val_mean_absolute_error: 0.7686 - val_logcosh: 0.3558\n",
      "Epoch 61/100\n",
      "82/82 [==============================] - 78s 950ms/step - loss: 0.0986 - mean_absolute_percentage_error: 7.7710 - root_mean_squared_error: 0.4656 - mean_squared_error: 0.2168 - mean_absolute_error: 0.3686 - logcosh: 0.0986 - val_loss: 0.3453 - val_mean_absolute_percentage_error: 16.9700 - val_root_mean_squared_error: 0.9621 - val_mean_squared_error: 0.9277 - val_mean_absolute_error: 0.7479 - val_logcosh: 0.3453\n",
      "Epoch 62/100\n",
      "82/82 [==============================] - 78s 950ms/step - loss: 0.0989 - mean_absolute_percentage_error: 7.8313 - root_mean_squared_error: 0.4665 - mean_squared_error: 0.2176 - mean_absolute_error: 0.3698 - logcosh: 0.0989 - val_loss: 0.3460 - val_mean_absolute_percentage_error: 17.0184 - val_root_mean_squared_error: 0.9646 - val_mean_squared_error: 0.9315 - val_mean_absolute_error: 0.7509 - val_logcosh: 0.3460\n",
      "Epoch 63/100\n",
      "82/82 [==============================] - 78s 956ms/step - loss: 0.0944 - mean_absolute_percentage_error: 7.6030 - root_mean_squared_error: 0.4544 - mean_squared_error: 0.2065 - mean_absolute_error: 0.3600 - logcosh: 0.0944 - val_loss: 0.3474 - val_mean_absolute_percentage_error: 16.9753 - val_root_mean_squared_error: 0.9667 - val_mean_squared_error: 0.9379 - val_mean_absolute_error: 0.7542 - val_logcosh: 0.3474\n",
      "Epoch 64/100\n",
      "82/82 [==============================] - 78s 952ms/step - loss: 0.0959 - mean_absolute_percentage_error: 7.6635 - root_mean_squared_error: 0.4587 - mean_squared_error: 0.2104 - mean_absolute_error: 0.3624 - logcosh: 0.0959 - val_loss: 0.3375 - val_mean_absolute_percentage_error: 16.4288 - val_root_mean_squared_error: 0.9483 - val_mean_squared_error: 0.8992 - val_mean_absolute_error: 0.7382 - val_logcosh: 0.3375\n",
      "Epoch 65/100\n",
      "82/82 [==============================] - 78s 949ms/step - loss: 0.0985 - mean_absolute_percentage_error: 7.7658 - root_mean_squared_error: 0.4654 - mean_squared_error: 0.2166 - mean_absolute_error: 0.3677 - logcosh: 0.0985 - val_loss: 0.3325 - val_mean_absolute_percentage_error: 16.3113 - val_root_mean_squared_error: 0.9400 - val_mean_squared_error: 0.8862 - val_mean_absolute_error: 0.7326 - val_logcosh: 0.3325\n",
      "Epoch 66/100\n",
      "82/82 [==============================] - 78s 953ms/step - loss: 0.1006 - mean_absolute_percentage_error: 7.8467 - root_mean_squared_error: 0.4709 - mean_squared_error: 0.2218 - mean_absolute_error: 0.3726 - logcosh: 0.1006 - val_loss: 0.3516 - val_mean_absolute_percentage_error: 17.3680 - val_root_mean_squared_error: 0.9765 - val_mean_squared_error: 0.9550 - val_mean_absolute_error: 0.7585 - val_logcosh: 0.3516\n",
      "Epoch 67/100\n",
      "82/82 [==============================] - 78s 950ms/step - loss: 0.0968 - mean_absolute_percentage_error: 7.6650 - root_mean_squared_error: 0.4611 - mean_squared_error: 0.2126 - mean_absolute_error: 0.3639 - logcosh: 0.0968 - val_loss: 0.3447 - val_mean_absolute_percentage_error: 16.9537 - val_root_mean_squared_error: 0.9626 - val_mean_squared_error: 0.9301 - val_mean_absolute_error: 0.7471 - val_logcosh: 0.3447\n",
      "Epoch 68/100\n",
      "82/82 [==============================] - 78s 955ms/step - loss: 0.0952 - mean_absolute_percentage_error: 7.6082 - root_mean_squared_error: 0.4573 - mean_squared_error: 0.2092 - mean_absolute_error: 0.3614 - logcosh: 0.0952 - val_loss: 0.3552 - val_mean_absolute_percentage_error: 17.5079 - val_root_mean_squared_error: 0.9828 - val_mean_squared_error: 0.9683 - val_mean_absolute_error: 0.7613 - val_logcosh: 0.3552\n",
      "Epoch 69/100\n",
      "82/82 [==============================] - 78s 949ms/step - loss: 0.0929 - mean_absolute_percentage_error: 7.5630 - root_mean_squared_error: 0.4509 - mean_squared_error: 0.2033 - mean_absolute_error: 0.3578 - logcosh: 0.0929 - val_loss: 0.3501 - val_mean_absolute_percentage_error: 16.6945 - val_root_mean_squared_error: 0.9657 - val_mean_squared_error: 0.9350 - val_mean_absolute_error: 0.7620 - val_logcosh: 0.3501\n",
      "Epoch 70/100\n",
      "82/82 [==============================] - 78s 955ms/step - loss: 0.0927 - mean_absolute_percentage_error: 7.5942 - root_mean_squared_error: 0.4501 - mean_squared_error: 0.2026 - mean_absolute_error: 0.3582 - logcosh: 0.0927 - val_loss: 0.3457 - val_mean_absolute_percentage_error: 17.0202 - val_root_mean_squared_error: 0.9666 - val_mean_squared_error: 0.9377 - val_mean_absolute_error: 0.7478 - val_logcosh: 0.3457\n",
      "Epoch 71/100\n",
      "82/82 [==============================] - 78s 951ms/step - loss: 0.0919 - mean_absolute_percentage_error: 7.4780 - root_mean_squared_error: 0.4488 - mean_squared_error: 0.2014 - mean_absolute_error: 0.3530 - logcosh: 0.0919 - val_loss: 0.3419 - val_mean_absolute_percentage_error: 16.9096 - val_root_mean_squared_error: 0.9581 - val_mean_squared_error: 0.9211 - val_mean_absolute_error: 0.7451 - val_logcosh: 0.3419\n",
      "Epoch 72/100\n",
      "82/82 [==============================] - 78s 949ms/step - loss: 0.0947 - mean_absolute_percentage_error: 7.5543 - root_mean_squared_error: 0.4557 - mean_squared_error: 0.2077 - mean_absolute_error: 0.3603 - logcosh: 0.0947 - val_loss: 0.3443 - val_mean_absolute_percentage_error: 17.0607 - val_root_mean_squared_error: 0.9657 - val_mean_squared_error: 0.9342 - val_mean_absolute_error: 0.7438 - val_logcosh: 0.3443\n",
      "Epoch 73/100\n",
      "82/82 [==============================] - 78s 949ms/step - loss: 0.0913 - mean_absolute_percentage_error: 7.4371 - root_mean_squared_error: 0.4465 - mean_squared_error: 0.1993 - mean_absolute_error: 0.3529 - logcosh: 0.0913 - val_loss: 0.3410 - val_mean_absolute_percentage_error: 16.9012 - val_root_mean_squared_error: 0.9549 - val_mean_squared_error: 0.9117 - val_mean_absolute_error: 0.7415 - val_logcosh: 0.3410\n",
      "Epoch 74/100\n",
      "82/82 [==============================] - 78s 957ms/step - loss: 0.0900 - mean_absolute_percentage_error: 7.3791 - root_mean_squared_error: 0.4431 - mean_squared_error: 0.1964 - mean_absolute_error: 0.3511 - logcosh: 0.0900 - val_loss: 0.3396 - val_mean_absolute_percentage_error: 16.8798 - val_root_mean_squared_error: 0.9584 - val_mean_squared_error: 0.9197 - val_mean_absolute_error: 0.7396 - val_logcosh: 0.3396\n",
      "Epoch 75/100\n",
      "82/82 [==============================] - 78s 950ms/step - loss: 0.0910 - mean_absolute_percentage_error: 7.4527 - root_mean_squared_error: 0.4463 - mean_squared_error: 0.1992 - mean_absolute_error: 0.3527 - logcosh: 0.0910 - val_loss: 0.3397 - val_mean_absolute_percentage_error: 16.3269 - val_root_mean_squared_error: 0.9522 - val_mean_squared_error: 0.9057 - val_mean_absolute_error: 0.7422 - val_logcosh: 0.3397\n",
      "Epoch 76/100\n",
      "82/82 [==============================] - 78s 959ms/step - loss: 0.0905 - mean_absolute_percentage_error: 7.4099 - root_mean_squared_error: 0.4443 - mean_squared_error: 0.1974 - mean_absolute_error: 0.3522 - logcosh: 0.0905 - val_loss: 0.3431 - val_mean_absolute_percentage_error: 16.9580 - val_root_mean_squared_error: 0.9627 - val_mean_squared_error: 0.9277 - val_mean_absolute_error: 0.7435 - val_logcosh: 0.3431\n",
      "Epoch 77/100\n",
      "82/82 [==============================] - 77s 945ms/step - loss: 0.0917 - mean_absolute_percentage_error: 7.4418 - root_mean_squared_error: 0.4481 - mean_squared_error: 0.2008 - mean_absolute_error: 0.3529 - logcosh: 0.0917 - val_loss: 0.3425 - val_mean_absolute_percentage_error: 16.9459 - val_root_mean_squared_error: 0.9606 - val_mean_squared_error: 0.9238 - val_mean_absolute_error: 0.7445 - val_logcosh: 0.3425\n",
      "Epoch 78/100\n",
      "82/82 [==============================] - 78s 956ms/step - loss: 0.0904 - mean_absolute_percentage_error: 7.4424 - root_mean_squared_error: 0.4444 - mean_squared_error: 0.1975 - mean_absolute_error: 0.3526 - logcosh: 0.0904 - val_loss: 0.3431 - val_mean_absolute_percentage_error: 16.8526 - val_root_mean_squared_error: 0.9606 - val_mean_squared_error: 0.9253 - val_mean_absolute_error: 0.7465 - val_logcosh: 0.3431\n",
      "Epoch 79/100\n",
      "82/82 [==============================] - 78s 952ms/step - loss: 0.0890 - mean_absolute_percentage_error: 7.4041 - root_mean_squared_error: 0.4404 - mean_squared_error: 0.1940 - mean_absolute_error: 0.3512 - logcosh: 0.0890 - val_loss: 0.3620 - val_mean_absolute_percentage_error: 17.6286 - val_root_mean_squared_error: 0.9944 - val_mean_squared_error: 0.9900 - val_mean_absolute_error: 0.7712 - val_logcosh: 0.3620\n",
      "Epoch 80/100\n",
      "82/82 [==============================] - 78s 951ms/step - loss: 0.0876 - mean_absolute_percentage_error: 7.2760 - root_mean_squared_error: 0.4368 - mean_squared_error: 0.1908 - mean_absolute_error: 0.3466 - logcosh: 0.0876 - val_loss: 0.3423 - val_mean_absolute_percentage_error: 16.4280 - val_root_mean_squared_error: 0.9551 - val_mean_squared_error: 0.9155 - val_mean_absolute_error: 0.7466 - val_logcosh: 0.3423\n",
      "Epoch 81/100\n",
      "82/82 [==============================] - 77s 946ms/step - loss: 0.0857 - mean_absolute_percentage_error: 7.2029 - root_mean_squared_error: 0.4315 - mean_squared_error: 0.1862 - mean_absolute_error: 0.3418 - logcosh: 0.0857 - val_loss: 0.3517 - val_mean_absolute_percentage_error: 17.3569 - val_root_mean_squared_error: 0.9771 - val_mean_squared_error: 0.9576 - val_mean_absolute_error: 0.7572 - val_logcosh: 0.3517\n",
      "Epoch 82/100\n",
      "82/82 [==============================] - 78s 953ms/step - loss: 0.0899 - mean_absolute_percentage_error: 7.4096 - root_mean_squared_error: 0.4426 - mean_squared_error: 0.1959 - mean_absolute_error: 0.3519 - logcosh: 0.0899 - val_loss: 0.3427 - val_mean_absolute_percentage_error: 16.6462 - val_root_mean_squared_error: 0.9578 - val_mean_squared_error: 0.9208 - val_mean_absolute_error: 0.7474 - val_logcosh: 0.3427\n",
      "Epoch 83/100\n",
      "82/82 [==============================] - 79s 958ms/step - loss: 0.0856 - mean_absolute_percentage_error: 7.1505 - root_mean_squared_error: 0.4312 - mean_squared_error: 0.1859 - mean_absolute_error: 0.3417 - logcosh: 0.0856 - val_loss: 0.3452 - val_mean_absolute_percentage_error: 17.1535 - val_root_mean_squared_error: 0.9663 - val_mean_squared_error: 0.9369 - val_mean_absolute_error: 0.7471 - val_logcosh: 0.3452\n",
      "Epoch 84/100\n",
      "82/82 [==============================] - 78s 954ms/step - loss: 0.0878 - mean_absolute_percentage_error: 7.3253 - root_mean_squared_error: 0.4374 - mean_squared_error: 0.1913 - mean_absolute_error: 0.3465 - logcosh: 0.0878 - val_loss: 0.3309 - val_mean_absolute_percentage_error: 16.4902 - val_root_mean_squared_error: 0.9394 - val_mean_squared_error: 0.8851 - val_mean_absolute_error: 0.7321 - val_logcosh: 0.3309\n",
      "Epoch 85/100\n",
      "82/82 [==============================] - 78s 948ms/step - loss: 0.0861 - mean_absolute_percentage_error: 7.2986 - root_mean_squared_error: 0.4318 - mean_squared_error: 0.1864 - mean_absolute_error: 0.3464 - logcosh: 0.0861 - val_loss: 0.3387 - val_mean_absolute_percentage_error: 16.5006 - val_root_mean_squared_error: 0.9506 - val_mean_squared_error: 0.9053 - val_mean_absolute_error: 0.7422 - val_logcosh: 0.3387\n",
      "Epoch 86/100\n",
      "82/82 [==============================] - 78s 947ms/step - loss: 0.0851 - mean_absolute_percentage_error: 7.1940 - root_mean_squared_error: 0.4295 - mean_squared_error: 0.1845 - mean_absolute_error: 0.3408 - logcosh: 0.0851 - val_loss: 0.3827 - val_mean_absolute_percentage_error: 18.6242 - val_root_mean_squared_error: 1.0333 - val_mean_squared_error: 1.0690 - val_mean_absolute_error: 0.7937 - val_logcosh: 0.3827\n",
      "Epoch 87/100\n",
      "82/82 [==============================] - 78s 950ms/step - loss: 0.0836 - mean_absolute_percentage_error: 7.0707 - root_mean_squared_error: 0.4255 - mean_squared_error: 0.1810 - mean_absolute_error: 0.3367 - logcosh: 0.0836 - val_loss: 0.3381 - val_mean_absolute_percentage_error: 16.6733 - val_root_mean_squared_error: 0.9511 - val_mean_squared_error: 0.9073 - val_mean_absolute_error: 0.7400 - val_logcosh: 0.3381\n",
      "Epoch 88/100\n",
      "82/82 [==============================] - 78s 955ms/step - loss: 0.0828 - mean_absolute_percentage_error: 7.0517 - root_mean_squared_error: 0.4234 - mean_squared_error: 0.1793 - mean_absolute_error: 0.3366 - logcosh: 0.0828 - val_loss: 0.3506 - val_mean_absolute_percentage_error: 17.3920 - val_root_mean_squared_error: 0.9756 - val_mean_squared_error: 0.9534 - val_mean_absolute_error: 0.7526 - val_logcosh: 0.3506\n",
      "Epoch 89/100\n",
      "82/82 [==============================] - 78s 954ms/step - loss: 0.0815 - mean_absolute_percentage_error: 6.9792 - root_mean_squared_error: 0.4200 - mean_squared_error: 0.1764 - mean_absolute_error: 0.3317 - logcosh: 0.0815 - val_loss: 0.3335 - val_mean_absolute_percentage_error: 16.7565 - val_root_mean_squared_error: 0.9457 - val_mean_squared_error: 0.8963 - val_mean_absolute_error: 0.7319 - val_logcosh: 0.3335\n",
      "Epoch 90/100\n",
      "82/82 [==============================] - 78s 950ms/step - loss: 0.0854 - mean_absolute_percentage_error: 7.1934 - root_mean_squared_error: 0.4309 - mean_squared_error: 0.1857 - mean_absolute_error: 0.3412 - logcosh: 0.0854 - val_loss: 0.3483 - val_mean_absolute_percentage_error: 17.3631 - val_root_mean_squared_error: 0.9713 - val_mean_squared_error: 0.9463 - val_mean_absolute_error: 0.7515 - val_logcosh: 0.3483\n",
      "Epoch 91/100\n",
      "82/82 [==============================] - 78s 953ms/step - loss: 0.0830 - mean_absolute_percentage_error: 7.0626 - root_mean_squared_error: 0.4238 - mean_squared_error: 0.1796 - mean_absolute_error: 0.3364 - logcosh: 0.0830 - val_loss: 0.3730 - val_mean_absolute_percentage_error: 18.2627 - val_root_mean_squared_error: 1.0144 - val_mean_squared_error: 1.0329 - val_mean_absolute_error: 0.7826 - val_logcosh: 0.3730\n",
      "Epoch 92/100\n",
      "82/82 [==============================] - 78s 949ms/step - loss: 0.0850 - mean_absolute_percentage_error: 7.1614 - root_mean_squared_error: 0.4293 - mean_squared_error: 0.1843 - mean_absolute_error: 0.3401 - logcosh: 0.0850 - val_loss: 0.3528 - val_mean_absolute_percentage_error: 17.4568 - val_root_mean_squared_error: 0.9803 - val_mean_squared_error: 0.9635 - val_mean_absolute_error: 0.7553 - val_logcosh: 0.3528\n",
      "Epoch 93/100\n",
      "82/82 [==============================] - 78s 950ms/step - loss: 0.0861 - mean_absolute_percentage_error: 7.2162 - root_mean_squared_error: 0.4327 - mean_squared_error: 0.1872 - mean_absolute_error: 0.3427 - logcosh: 0.0861 - val_loss: 0.3391 - val_mean_absolute_percentage_error: 16.7914 - val_root_mean_squared_error: 0.9530 - val_mean_squared_error: 0.9103 - val_mean_absolute_error: 0.7415 - val_logcosh: 0.3391\n",
      "Epoch 94/100\n",
      "82/82 [==============================] - 78s 950ms/step - loss: 0.0808 - mean_absolute_percentage_error: 6.9634 - root_mean_squared_error: 0.4179 - mean_squared_error: 0.1746 - mean_absolute_error: 0.3317 - logcosh: 0.0808 - val_loss: 0.3658 - val_mean_absolute_percentage_error: 16.7174 - val_root_mean_squared_error: 0.9858 - val_mean_squared_error: 0.9734 - val_mean_absolute_error: 0.7887 - val_logcosh: 0.3658\n",
      "Epoch 95/100\n",
      "82/82 [==============================] - 78s 953ms/step - loss: 0.0840 - mean_absolute_percentage_error: 7.0833 - root_mean_squared_error: 0.4278 - mean_squared_error: 0.1830 - mean_absolute_error: 0.3355 - logcosh: 0.0840 - val_loss: 0.3359 - val_mean_absolute_percentage_error: 16.5412 - val_root_mean_squared_error: 0.9474 - val_mean_squared_error: 0.8992 - val_mean_absolute_error: 0.7377 - val_logcosh: 0.3359\n",
      "Epoch 96/100\n",
      "82/82 [==============================] - 78s 948ms/step - loss: 0.0835 - mean_absolute_percentage_error: 7.0745 - root_mean_squared_error: 0.4256 - mean_squared_error: 0.1812 - mean_absolute_error: 0.3352 - logcosh: 0.0835 - val_loss: 0.3365 - val_mean_absolute_percentage_error: 16.5158 - val_root_mean_squared_error: 0.9477 - val_mean_squared_error: 0.8996 - val_mean_absolute_error: 0.7349 - val_logcosh: 0.3365\n",
      "Epoch 97/100\n",
      "82/82 [==============================] - 77s 945ms/step - loss: 0.0830 - mean_absolute_percentage_error: 7.0913 - root_mean_squared_error: 0.4247 - mean_squared_error: 0.1804 - mean_absolute_error: 0.3361 - logcosh: 0.0830 - val_loss: 0.3570 - val_mean_absolute_percentage_error: 17.4619 - val_root_mean_squared_error: 0.9883 - val_mean_squared_error: 0.9788 - val_mean_absolute_error: 0.7579 - val_logcosh: 0.3570\n",
      "Epoch 98/100\n",
      "82/82 [==============================] - 78s 950ms/step - loss: 0.0811 - mean_absolute_percentage_error: 7.0035 - root_mean_squared_error: 0.4193 - mean_squared_error: 0.1758 - mean_absolute_error: 0.3315 - logcosh: 0.0811 - val_loss: 0.3335 - val_mean_absolute_percentage_error: 16.2881 - val_root_mean_squared_error: 0.9417 - val_mean_squared_error: 0.8915 - val_mean_absolute_error: 0.7341 - val_logcosh: 0.3335\n",
      "Epoch 99/100\n",
      "82/82 [==============================] - 78s 956ms/step - loss: 0.0835 - mean_absolute_percentage_error: 7.1631 - root_mean_squared_error: 0.4255 - mean_squared_error: 0.1810 - mean_absolute_error: 0.3400 - logcosh: 0.0835 - val_loss: 0.3378 - val_mean_absolute_percentage_error: 16.7780 - val_root_mean_squared_error: 0.9535 - val_mean_squared_error: 0.9151 - val_mean_absolute_error: 0.7360 - val_logcosh: 0.3378\n",
      "Epoch 100/100\n",
      "82/82 [==============================] - 78s 948ms/step - loss: 0.0807 - mean_absolute_percentage_error: 6.9647 - root_mean_squared_error: 0.4177 - mean_squared_error: 0.1745 - mean_absolute_error: 0.3308 - logcosh: 0.0807 - val_loss: 0.3300 - val_mean_absolute_percentage_error: 16.3378 - val_root_mean_squared_error: 0.9371 - val_mean_squared_error: 0.8838 - val_mean_absolute_error: 0.7291 - val_logcosh: 0.3300\n"
     ]
    }
   ],
   "source": [
    "history = model.fit(X_train, y_train, batch_size=64, epochs=100, validation_split=0.2)"
   ]
  },
  {
   "cell_type": "code",
   "execution_count": 172,
   "id": "b5389b58-c88c-491a-bd0b-b1ae96f74559",
   "metadata": {},
   "outputs": [
    {
     "name": "stdout",
     "output_type": "stream",
     "text": [
      "52/52 [==============================] - 8s 148ms/step\n"
     ]
    }
   ],
   "source": [
    "y_pred = model.predict(X_test)"
   ]
  },
  {
   "cell_type": "code",
   "execution_count": 173,
   "id": "4ba8bb01-bbe1-4c9e-b7a7-be82d3a61b19",
   "metadata": {},
   "outputs": [
    {
     "name": "stdout",
     "output_type": "stream",
     "text": [
      "4.92 [5.284849]\n"
     ]
    }
   ],
   "source": [
    "print(y_test[0], y_pred[0])"
   ]
  },
  {
   "cell_type": "code",
   "execution_count": 174,
   "id": "6872ae84-78d2-4c18-b170-6561f595aae7",
   "metadata": {},
   "outputs": [
    {
     "data": {
      "text/plain": [
       "dict_keys(['loss', 'mean_absolute_percentage_error', 'root_mean_squared_error', 'mean_squared_error', 'mean_absolute_error', 'logcosh', 'val_loss', 'val_mean_absolute_percentage_error', 'val_root_mean_squared_error', 'val_mean_squared_error', 'val_mean_absolute_error', 'val_logcosh'])"
      ]
     },
     "execution_count": 174,
     "metadata": {},
     "output_type": "execute_result"
    }
   ],
   "source": [
    "history_dict = history.history\n",
    "history_dict.keys()"
   ]
  },
  {
   "cell_type": "code",
   "execution_count": 175,
   "id": "99d46776-4a76-4870-aa3f-565606a6ba7f",
   "metadata": {},
   "outputs": [
    {
     "data": {
      "image/png": "[encoded data removed]",
      "text/plain": [
       "<Figure size 640x480 with 1 Axes>"
      ]
     },
     "metadata": {},
     "output_type": "display_data"
    }
   ],
   "source": [
    "import matplotlib.pyplot as plt\n",
    "history_dict = history.history\n",
    "loss_values = history_dict[\"loss\"]\n",
    "val_loss_values = history_dict[\"val_loss\"]\n",
    "epochs = range(1, len(loss_values) + 1)\n",
    "plt.plot(epochs, loss_values, \"bo\", label=\"Training loss\")\n",
    "plt.plot(epochs, val_loss_values, \"b\", label=\"Validation loss\")\n",
    "plt.title(\"Training and validation loss\")\n",
    "plt.xlabel(\"Epochs\")\n",
    "plt.ylabel(\"Loss\")\n",
    "plt.legend()\n",
    "plt.show()"
   ]
  },
  {
   "cell_type": "code",
   "execution_count": 50,
   "id": "39b88240-e1e5-4f66-9de6-e549a3ae79a1",
   "metadata": {},
   "outputs": [],
   "source": [
    "def full_model():\n",
    "    # input\n",
    "    inputs = keras.Input(shape=(None, 10))\n",
    "    # 1D convolution\n",
    "    conv = keras.Conv1D(\n",
    "        filters=128, \n",
    "        kernel_size=10, \n",
    "        strides=1, \n",
    "        activation='relu'\n",
    "    )(inputs)\n",
    "    # batch normalization\n",
    "    norm = keras.BatchNormalization()(conv)\n",
    "    # maxpool\n",
    "    pool = keras.MaxPooling1D(\n",
    "        pool_size=4,\n",
    "        strides=4\n",
    "    )(norm)\n",
    "    # dropout\n",
    "    drop = keras.Dropout(rate=0.2)(pool)\n",
    "    # bi-directional LSTM\n",
    "    bilstm = keras.Bidirectional(\n",
    "        keras.LSTM(\n",
    "            units=128,\n",
    "            dropout=0\n",
    "        ),\n",
    "        merge_mode='concat'\n",
    "    )(drop)\n",
    "    # batch normalization\n",
    "    norm = keras.BatchNormalization()(bilstm)\n",
    "    # maxpool\n",
    "    pool = keras.MaxPooling1D(\n",
    "        pool_size=4,\n",
    "        strides=4\n",
    "    )(norm)\n",
    "    # dropout\n",
    "    drop = keras.Dropout(rate=0.2)(pool)\n",
    "    # flatten\n",
    "    flat = keras.Flatten()(drop)\n",
    "\n",
    "    # second input\n",
    "    inputs2 = keras.Input(shape=(29,))\n",
    "\n",
    "    # concatenation\n",
    "    conc = keras.Concatenate(axis=1)([inputs, inputs2])\n",
    "\n",
    "    # fully connected\n",
    "    dense = keras.Dense(\n",
    "        units=64,\n",
    "        activation='relu'\n",
    "    )(conc)\n",
    "    # batch normalization\n",
    "    norm = keras.BatchNormalization()(dense)\n",
    "    # dropout\n",
    "    drop = keras.Dropout(rate=0.2)(norm)\n",
    "    # dense\n",
    "    outputs = keras.Dense(units=1)(drop)\n",
    "\n",
    "    # model\n",
    "    model = keras.Model(inputs=[inputs, inputs2], outputs=outputs, name='full_model')\n",
    "    \n",
    "    return model"
   ]
  }
 ],
 "metadata": {
  "kernelspec": {
   "display_name": "Python 3 (ipykernel)",
   "language": "python",
   "name": "python3"
  },
  "language_info": {
   "codemirror_mode": {
    "name": "ipython",
    "version": 3
   },
   "file_extension": ".py",
   "mimetype": "text/x-python",
   "name": "python",
   "nbconvert_exporter": "python",
   "pygments_lexer": "ipython3",
   "version": "3.11.6"
  }
 },
 "nbformat": 4,
 "nbformat_minor": 5
}
